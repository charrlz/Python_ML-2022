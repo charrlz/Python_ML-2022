{
 "cells": [
  {
   "cell_type": "markdown",
   "metadata": {},
   "source": [
    "# Wines Points prediction "
   ]
  },
  {
   "cell_type": "code",
   "execution_count": 38,
   "metadata": {},
   "outputs": [
    {
     "name": "stdout",
     "output_type": "stream",
     "text": [
      "The autoreload extension is already loaded. To reload it, use:\n",
      "  %reload_ext autoreload\n"
     ]
    }
   ],
   "source": [
    "%load_ext autoreload\n",
    "%autoreload 2\n",
    "import sys; sys.path.append('../')"
   ]
  },
  {
   "cell_type": "markdown",
   "metadata": {},
   "source": [
    "Here we will try to predict the points a wine will get based on known characteristics (i.e. features, in the ML terminology). The mine point in this stage is to establish a simple, ideally super cost effective, basline.\n",
    "In the real world there is a tradeoff between complexity and perforamnce, and the DS job, among others, is to present a tradeoff tables of what performance is achivalbel at what complexity level. \n",
    "\n",
    "to which models with increased complexity and resource demands will be compared. Complexity should then be translated into cost. For example:\n",
    " * Compute cost \n",
    " * Maintenance cost\n",
    " * Serving costs (i.e. is new platform needed?) \n",
    " "
   ]
  },
  {
   "cell_type": "markdown",
   "metadata": {},
   "source": [
    "## Loading the data"
   ]
  },
  {
   "cell_type": "code",
   "execution_count": 8,
   "metadata": {},
   "outputs": [
    {
     "data": {
      "text/html": [
       "        <script type=\"text/javascript\">\n",
       "        window.PlotlyConfig = {MathJaxConfig: 'local'};\n",
       "        if (window.MathJax) {MathJax.Hub.Config({SVG: {font: \"STIX-Web\"}});}\n",
       "        if (typeof require !== 'undefined') {\n",
       "        require.undef(\"plotly\");\n",
       "        requirejs.config({\n",
       "            paths: {\n",
       "                'plotly': ['https://cdn.plot.ly/plotly-2.9.0.min']\n",
       "            }\n",
       "        });\n",
       "        require(['plotly'], function(Plotly) {\n",
       "            window._Plotly = Plotly;\n",
       "        });\n",
       "        }\n",
       "        </script>\n",
       "        "
      ]
     },
     "metadata": {},
     "output_type": "display_data"
    }
   ],
   "source": [
    "import pandas as pd\n",
    "import cufflinks as cf; cf.go_offline()"
   ]
  },
  {
   "cell_type": "code",
   "execution_count": 9,
   "metadata": {},
   "outputs": [
    {
     "data": {
      "text/plain": [
       "(129971, 14)"
      ]
     },
     "execution_count": 9,
     "metadata": {},
     "output_type": "execute_result"
    }
   ],
   "source": [
    "wine_reviews = pd.read_csv(\"data/winemag-data-130k-v2.csv\")\n",
    "wine_reviews.shape"
   ]
  },
  {
   "cell_type": "code",
   "execution_count": 10,
   "metadata": {},
   "outputs": [
    {
     "data": {
      "text/html": [
       "<div>\n",
       "<style scoped>\n",
       "    .dataframe tbody tr th:only-of-type {\n",
       "        vertical-align: middle;\n",
       "    }\n",
       "\n",
       "    .dataframe tbody tr th {\n",
       "        vertical-align: top;\n",
       "    }\n",
       "\n",
       "    .dataframe thead th {\n",
       "        text-align: right;\n",
       "    }\n",
       "</style>\n",
       "<table border=\"1\" class=\"dataframe\">\n",
       "  <thead>\n",
       "    <tr style=\"text-align: right;\">\n",
       "      <th></th>\n",
       "      <th>Unnamed: 0</th>\n",
       "      <th>country</th>\n",
       "      <th>description</th>\n",
       "      <th>designation</th>\n",
       "      <th>points</th>\n",
       "      <th>price</th>\n",
       "      <th>province</th>\n",
       "      <th>region_1</th>\n",
       "      <th>region_2</th>\n",
       "      <th>taster_name</th>\n",
       "      <th>taster_twitter_handle</th>\n",
       "      <th>title</th>\n",
       "      <th>variety</th>\n",
       "      <th>winery</th>\n",
       "    </tr>\n",
       "  </thead>\n",
       "  <tbody>\n",
       "    <tr>\n",
       "      <th>3649</th>\n",
       "      <td>3649</td>\n",
       "      <td>US</td>\n",
       "      <td>Sagemoor's old Cab vines comprise 79% of the b...</td>\n",
       "      <td>Sagemoor Vineyard</td>\n",
       "      <td>93</td>\n",
       "      <td>40.0</td>\n",
       "      <td>Washington</td>\n",
       "      <td>Columbia Valley (WA)</td>\n",
       "      <td>Columbia Valley</td>\n",
       "      <td>Paul Gregutt</td>\n",
       "      <td>@paulgwine</td>\n",
       "      <td>Walla Walla Vintners 2005 Sagemoor Vineyard Ca...</td>\n",
       "      <td>Cabernet Sauvignon</td>\n",
       "      <td>Walla Walla Vintners</td>\n",
       "    </tr>\n",
       "    <tr>\n",
       "      <th>1047</th>\n",
       "      <td>1047</td>\n",
       "      <td>US</td>\n",
       "      <td>This is a pretty good buy for a Merlot that sh...</td>\n",
       "      <td>NaN</td>\n",
       "      <td>85</td>\n",
       "      <td>16.0</td>\n",
       "      <td>California</td>\n",
       "      <td>Napa Valley</td>\n",
       "      <td>Napa</td>\n",
       "      <td>NaN</td>\n",
       "      <td>NaN</td>\n",
       "      <td>Irony 2004 Merlot (Napa Valley)</td>\n",
       "      <td>Merlot</td>\n",
       "      <td>Irony</td>\n",
       "    </tr>\n",
       "    <tr>\n",
       "      <th>11083</th>\n",
       "      <td>11083</td>\n",
       "      <td>US</td>\n",
       "      <td>Full blueberry and blackberry aromas can't ove...</td>\n",
       "      <td>Grandmére</td>\n",
       "      <td>81</td>\n",
       "      <td>25.0</td>\n",
       "      <td>California</td>\n",
       "      <td>Amador County</td>\n",
       "      <td>Sierra Foothills</td>\n",
       "      <td>NaN</td>\n",
       "      <td>NaN</td>\n",
       "      <td>Renwood 1997 Grandmére Zinfandel (Amador County)</td>\n",
       "      <td>Zinfandel</td>\n",
       "      <td>Renwood</td>\n",
       "    </tr>\n",
       "    <tr>\n",
       "      <th>122702</th>\n",
       "      <td>122702</td>\n",
       "      <td>Australia</td>\n",
       "      <td>Rosemount's Diamond Label Chardonnay used to b...</td>\n",
       "      <td>Diamond Label</td>\n",
       "      <td>88</td>\n",
       "      <td>10.0</td>\n",
       "      <td>Australia Other</td>\n",
       "      <td>South Eastern Australia</td>\n",
       "      <td>NaN</td>\n",
       "      <td>Joe Czerwinski</td>\n",
       "      <td>@JoeCz</td>\n",
       "      <td>Rosemount 2009 Diamond Label Chardonnay (South...</td>\n",
       "      <td>Chardonnay</td>\n",
       "      <td>Rosemount</td>\n",
       "    </tr>\n",
       "    <tr>\n",
       "      <th>8526</th>\n",
       "      <td>8526</td>\n",
       "      <td>Italy</td>\n",
       "      <td>Made entirely with Sangiovese, the shy nose ev...</td>\n",
       "      <td>Dinostro</td>\n",
       "      <td>87</td>\n",
       "      <td>20.0</td>\n",
       "      <td>Tuscany</td>\n",
       "      <td>Toscana</td>\n",
       "      <td>NaN</td>\n",
       "      <td>Kerin O’Keefe</td>\n",
       "      <td>@kerinokeefe</td>\n",
       "      <td>Podere Il Castellaccio 2015 Dinostro Sangioves...</td>\n",
       "      <td>Sangiovese</td>\n",
       "      <td>Podere Il Castellaccio</td>\n",
       "    </tr>\n",
       "  </tbody>\n",
       "</table>\n",
       "</div>"
      ],
      "text/plain": [
       "        Unnamed: 0    country  \\\n",
       "3649          3649         US   \n",
       "1047          1047         US   \n",
       "11083        11083         US   \n",
       "122702      122702  Australia   \n",
       "8526          8526      Italy   \n",
       "\n",
       "                                              description        designation  \\\n",
       "3649    Sagemoor's old Cab vines comprise 79% of the b...  Sagemoor Vineyard   \n",
       "1047    This is a pretty good buy for a Merlot that sh...                NaN   \n",
       "11083   Full blueberry and blackberry aromas can't ove...          Grandmére   \n",
       "122702  Rosemount's Diamond Label Chardonnay used to b...      Diamond Label   \n",
       "8526    Made entirely with Sangiovese, the shy nose ev...           Dinostro   \n",
       "\n",
       "        points  price         province                 region_1  \\\n",
       "3649        93   40.0       Washington     Columbia Valley (WA)   \n",
       "1047        85   16.0       California              Napa Valley   \n",
       "11083       81   25.0       California            Amador County   \n",
       "122702      88   10.0  Australia Other  South Eastern Australia   \n",
       "8526        87   20.0          Tuscany                  Toscana   \n",
       "\n",
       "                region_2     taster_name taster_twitter_handle  \\\n",
       "3649     Columbia Valley    Paul Gregutt           @paulgwine    \n",
       "1047                Napa             NaN                   NaN   \n",
       "11083   Sierra Foothills             NaN                   NaN   \n",
       "122702               NaN  Joe Czerwinski                @JoeCz   \n",
       "8526                 NaN   Kerin O’Keefe          @kerinokeefe   \n",
       "\n",
       "                                                    title             variety  \\\n",
       "3649    Walla Walla Vintners 2005 Sagemoor Vineyard Ca...  Cabernet Sauvignon   \n",
       "1047                      Irony 2004 Merlot (Napa Valley)              Merlot   \n",
       "11083    Renwood 1997 Grandmére Zinfandel (Amador County)           Zinfandel   \n",
       "122702  Rosemount 2009 Diamond Label Chardonnay (South...          Chardonnay   \n",
       "8526    Podere Il Castellaccio 2015 Dinostro Sangioves...          Sangiovese   \n",
       "\n",
       "                        winery  \n",
       "3649      Walla Walla Vintners  \n",
       "1047                     Irony  \n",
       "11083                  Renwood  \n",
       "122702               Rosemount  \n",
       "8526    Podere Il Castellaccio  "
      ]
     },
     "execution_count": 10,
     "metadata": {},
     "output_type": "execute_result"
    }
   ],
   "source": [
    "wine_reviews.sample(5)"
   ]
  },
  {
   "cell_type": "markdown",
   "metadata": {},
   "source": [
    "## Points prediction"
   ]
  },
  {
   "cell_type": "markdown",
   "metadata": {},
   "source": [
    "Points is descrete value target. There for we are talking about a prediction (Regression) problem (in contrary to classification problem). Prediction solutions can be measured in few metrics:\n",
    "\n",
    "* MSE - [Mean score error](https://en.wikipedia.org/wiki/Mean_squared_error)\n",
    "* R2 - [R Square](https://en.wikipedia.org/wiki/Coefficient_of_determination)\n",
    "* MAE - [Mean absolut error](https://en.wikipedia.org/wiki/Mean_absolute_error)\n",
    "\n",
    "Read more [here](https://towardsdatascience.com/what-are-the-best-metrics-to-evaluate-your-regression-model-418ca481755b)"
   ]
  },
  {
   "cell_type": "markdown",
   "metadata": {},
   "source": [
    "### Train and test set split"
   ]
  },
  {
   "cell_type": "markdown",
   "metadata": {},
   "source": [
    "To properly report results, let's split to train and test datasets:"
   ]
  },
  {
   "cell_type": "code",
   "execution_count": 11,
   "metadata": {},
   "outputs": [],
   "source": [
    "train_data = wine_reviews.sample(frac = 0.8)\n",
    "test_data = wine_reviews[~wine_reviews.index.isin(train_data.index)]\n",
    "assert(len(train_data) + len(test_data) == len(wine_reviews))"
   ]
  },
  {
   "cell_type": "code",
   "execution_count": 12,
   "metadata": {},
   "outputs": [
    {
     "data": {
      "text/plain": [
       "(25994, 103977)"
      ]
     },
     "execution_count": 12,
     "metadata": {},
     "output_type": "execute_result"
    }
   ],
   "source": [
    "len(test_data), len(train_data)"
   ]
  },
  {
   "cell_type": "markdown",
   "metadata": {},
   "source": [
    "### Baselines"
   ]
  },
  {
   "cell_type": "code",
   "execution_count": 40,
   "metadata": {},
   "outputs": [],
   "source": [
    "from sklearn.metrics import mean_absolute_error, mean_squared_error, r2_score"
   ]
  },
  {
   "cell_type": "code",
   "execution_count": 41,
   "metadata": {},
   "outputs": [],
   "source": [
    "def calc_prediction_quality(df, pred_score_col, true_score_col):\n",
    "    return pd.Series({'MSE': mean_squared_error(df[true_score_col], df[pred_score_col]),\n",
    "                      'MAE': mean_absolute_error(df[true_score_col], df[pred_score_col]),\n",
    "                      'R2': r2_score(df[true_score_col], df[pred_score_col])})"
   ]
  },
  {
   "cell_type": "markdown",
   "metadata": {},
   "source": [
    "#### Baseline 1"
   ]
  },
  {
   "cell_type": "markdown",
   "metadata": {},
   "source": [
    "The most basic baseline is simply the average points. The implementaion is as simple as:"
   ]
  },
  {
   "cell_type": "code",
   "execution_count": 9,
   "metadata": {},
   "outputs": [
    {
     "data": {
      "text/plain": [
       "MSE    9.358940e+00\n",
       "MAE    2.502118e+00\n",
       "R2    -4.132097e-09\n",
       "dtype: float64"
      ]
     },
     "execution_count": 9,
     "metadata": {},
     "output_type": "execute_result"
    }
   ],
   "source": [
    "test_data['basiline_1_predicted_points'] = train_data.points.mean()\n",
    "b1_stats = calc_prediction_quality(test_data, 'basiline_1_predicted_points', 'points')\n",
    "b1_stats"
   ]
  },
  {
   "cell_type": "markdown",
   "metadata": {},
   "source": [
    "#### Basline 2"
   ]
  },
  {
   "cell_type": "markdown",
   "metadata": {},
   "source": [
    "We can probably improve by predicting the average score based on the origin country:"
   ]
  },
  {
   "cell_type": "code",
   "execution_count": 10,
   "metadata": {},
   "outputs": [
    {
     "data": {
      "text/plain": [
       "country\n",
       "Argentina                 86.695950\n",
       "Armenia                   88.000000\n",
       "Australia                 88.565969\n",
       "Austria                   90.056719\n",
       "Bosnia and Herzegovina    86.500000\n",
       "Name: points, dtype: float64"
      ]
     },
     "execution_count": 10,
     "metadata": {},
     "output_type": "execute_result"
    }
   ],
   "source": [
    "avg_points_by_country = train_data.groupby('country').points.mean()\n",
    "avg_points_by_country.head()"
   ]
  },
  {
   "cell_type": "code",
   "execution_count": 11,
   "metadata": {},
   "outputs": [
    {
     "data": {
      "text/plain": [
       "MSE    8.900472\n",
       "MAE    2.437661\n",
       "R2     0.048987\n",
       "dtype: float64"
      ]
     },
     "execution_count": 11,
     "metadata": {},
     "output_type": "execute_result"
    }
   ],
   "source": [
    "test_data['basiline_2_predicted_points'] = test_data.country.map(avg_points_by_country).fillna(train_data.points.mean())\n",
    "b2_stats = calc_prediction_quality(test_data, 'basiline_2_predicted_points', 'points')\n",
    "b2_stats"
   ]
  },
  {
   "cell_type": "markdown",
   "metadata": {},
   "source": [
    "### Baseline 3"
   ]
  },
  {
   "cell_type": "markdown",
   "metadata": {},
   "source": [
    "Adding more breakdowns will increase our granularity but can result in overfitting. Yet:"
   ]
  },
  {
   "cell_type": "code",
   "execution_count": 12,
   "metadata": {},
   "outputs": [
    {
     "data": {
      "text/plain": [
       "country    province        \n",
       "Argentina  Mendoza Province    86.814476\n",
       "           Other               85.983982\n",
       "Armenia    Armenia             88.000000\n",
       "Australia  Australia Other     85.531707\n",
       "           New South Wales     87.545455\n",
       "Name: basiline_3_predicted_points, dtype: float64"
      ]
     },
     "execution_count": 12,
     "metadata": {},
     "output_type": "execute_result"
    }
   ],
   "source": [
    "avg_points_by_country_and_region = train_data.groupby(['country','province']).points.mean().rename('basiline_3_predicted_points')\n",
    "avg_points_by_country_and_region.head()"
   ]
  },
  {
   "cell_type": "code",
   "execution_count": 13,
   "metadata": {},
   "outputs": [
    {
     "data": {
      "text/plain": [
       "((25994, 17), (25994, 16))"
      ]
     },
     "execution_count": 13,
     "metadata": {},
     "output_type": "execute_result"
    }
   ],
   "source": [
    "test_data_with_baseline_3 = test_data.merge(avg_points_by_country_and_region, on = ['country','province'], how='left')\n",
    "test_data_with_baseline_3.basiline_3_predicted_points = test_data_with_baseline_3.basiline_3_predicted_points.fillna(test_data_with_baseline_3.basiline_2_predicted_points).fillna(test_data.basiline_1_predicted_points)\n",
    "test_data_with_baseline_3.shape, test_data.shape"
   ]
  },
  {
   "cell_type": "code",
   "execution_count": 14,
   "metadata": {},
   "outputs": [
    {
     "data": {
      "text/plain": [
       "MSE    8.380775\n",
       "MAE    2.349499\n",
       "R2     0.104517\n",
       "dtype: float64"
      ]
     },
     "execution_count": 14,
     "metadata": {},
     "output_type": "execute_result"
    }
   ],
   "source": [
    "b3_stats = calc_prediction_quality(test_data_with_baseline_3, 'basiline_3_predicted_points', 'points')\n",
    "b3_stats"
   ]
  },
  {
   "cell_type": "markdown",
   "metadata": {},
   "source": [
    "### Baselines summary"
   ]
  },
  {
   "cell_type": "code",
   "execution_count": 15,
   "metadata": {},
   "outputs": [
    {
     "data": {
      "text/html": [
       "<div>\n",
       "<style scoped>\n",
       "    .dataframe tbody tr th:only-of-type {\n",
       "        vertical-align: middle;\n",
       "    }\n",
       "\n",
       "    .dataframe tbody tr th {\n",
       "        vertical-align: top;\n",
       "    }\n",
       "\n",
       "    .dataframe thead th {\n",
       "        text-align: right;\n",
       "    }\n",
       "</style>\n",
       "<table border=\"1\" class=\"dataframe\">\n",
       "  <thead>\n",
       "    <tr style=\"text-align: right;\">\n",
       "      <th></th>\n",
       "      <th>MSE</th>\n",
       "      <th>MAE</th>\n",
       "      <th>R2</th>\n",
       "    </tr>\n",
       "  </thead>\n",
       "  <tbody>\n",
       "    <tr>\n",
       "      <th>baseline_1</th>\n",
       "      <td>9.358940</td>\n",
       "      <td>2.502118</td>\n",
       "      <td>-4.132097e-09</td>\n",
       "    </tr>\n",
       "    <tr>\n",
       "      <th>baseline_2</th>\n",
       "      <td>8.900472</td>\n",
       "      <td>2.437661</td>\n",
       "      <td>4.898723e-02</td>\n",
       "    </tr>\n",
       "    <tr>\n",
       "      <th>baseline_3</th>\n",
       "      <td>8.380775</td>\n",
       "      <td>2.349499</td>\n",
       "      <td>1.045167e-01</td>\n",
       "    </tr>\n",
       "  </tbody>\n",
       "</table>\n",
       "</div>"
      ],
      "text/plain": [
       "                 MSE       MAE            R2\n",
       "baseline_1  9.358940  2.502118 -4.132097e-09\n",
       "baseline_2  8.900472  2.437661  4.898723e-02\n",
       "baseline_3  8.380775  2.349499  1.045167e-01"
      ]
     },
     "execution_count": 15,
     "metadata": {},
     "output_type": "execute_result"
    }
   ],
   "source": [
    "baseline_summary = pd.DataFrame([b1_stats, b2_stats, b3_stats], index=['baseline_1', 'baseline_2','baseline_3'])\n",
    "baseline_summary"
   ]
  },
  {
   "cell_type": "code",
   "execution_count": 16,
   "metadata": {},
   "outputs": [],
   "source": [
    "baseline_summary.to_csv('data/baselines_summary.csv', index=False)"
   ]
  },
  {
   "cell_type": "markdown",
   "metadata": {},
   "source": [
    "## Training a Boosting trees regressor"
   ]
  },
  {
   "cell_type": "code",
   "execution_count": 17,
   "metadata": {},
   "outputs": [],
   "source": [
    "from sklearn.preprocessing import LabelEncoder\n",
    "le = LabelEncoder()"
   ]
  },
  {
   "cell_type": "markdown",
   "metadata": {},
   "source": [
    "#### Preparing data - Lable encoding categorical features"
   ]
  },
  {
   "cell_type": "code",
   "execution_count": 18,
   "metadata": {},
   "outputs": [],
   "source": [
    "categorical_features = ['country','province','region_1','region_2','taster_name','variety','winery']\n",
    "numerical_features = ['price']\n",
    "features = categorical_features + numerical_features"
   ]
  },
  {
   "cell_type": "code",
   "execution_count": 27,
   "metadata": {},
   "outputs": [
    {
     "data": {
      "text/html": [
       "<div>\n",
       "<style scoped>\n",
       "    .dataframe tbody tr th:only-of-type {\n",
       "        vertical-align: middle;\n",
       "    }\n",
       "\n",
       "    .dataframe tbody tr th {\n",
       "        vertical-align: top;\n",
       "    }\n",
       "\n",
       "    .dataframe thead th {\n",
       "        text-align: right;\n",
       "    }\n",
       "</style>\n",
       "<table border=\"1\" class=\"dataframe\">\n",
       "  <thead>\n",
       "    <tr style=\"text-align: right;\">\n",
       "      <th></th>\n",
       "      <th>country</th>\n",
       "      <th>province</th>\n",
       "      <th>region_1</th>\n",
       "      <th>region_2</th>\n",
       "      <th>taster_name</th>\n",
       "      <th>variety</th>\n",
       "      <th>winery</th>\n",
       "      <th>price</th>\n",
       "      <th>points</th>\n",
       "    </tr>\n",
       "  </thead>\n",
       "  <tbody>\n",
       "    <tr>\n",
       "      <th>0</th>\n",
       "      <td>22</td>\n",
       "      <td>332</td>\n",
       "      <td>424</td>\n",
       "      <td>6</td>\n",
       "      <td>9</td>\n",
       "      <td>691</td>\n",
       "      <td>11608</td>\n",
       "      <td>-1.0</td>\n",
       "      <td>87</td>\n",
       "    </tr>\n",
       "    <tr>\n",
       "      <th>1</th>\n",
       "      <td>32</td>\n",
       "      <td>108</td>\n",
       "      <td>738</td>\n",
       "      <td>6</td>\n",
       "      <td>16</td>\n",
       "      <td>451</td>\n",
       "      <td>12956</td>\n",
       "      <td>15.0</td>\n",
       "      <td>87</td>\n",
       "    </tr>\n",
       "    <tr>\n",
       "      <th>2</th>\n",
       "      <td>41</td>\n",
       "      <td>269</td>\n",
       "      <td>1218</td>\n",
       "      <td>17</td>\n",
       "      <td>15</td>\n",
       "      <td>437</td>\n",
       "      <td>13018</td>\n",
       "      <td>14.0</td>\n",
       "      <td>87</td>\n",
       "    </tr>\n",
       "    <tr>\n",
       "      <th>3</th>\n",
       "      <td>41</td>\n",
       "      <td>218</td>\n",
       "      <td>549</td>\n",
       "      <td>6</td>\n",
       "      <td>0</td>\n",
       "      <td>480</td>\n",
       "      <td>14390</td>\n",
       "      <td>13.0</td>\n",
       "      <td>87</td>\n",
       "    </tr>\n",
       "    <tr>\n",
       "      <th>4</th>\n",
       "      <td>41</td>\n",
       "      <td>269</td>\n",
       "      <td>1218</td>\n",
       "      <td>17</td>\n",
       "      <td>15</td>\n",
       "      <td>441</td>\n",
       "      <td>14621</td>\n",
       "      <td>65.0</td>\n",
       "      <td>87</td>\n",
       "    </tr>\n",
       "  </tbody>\n",
       "</table>\n",
       "</div>"
      ],
      "text/plain": [
       "   country  province  region_1  region_2  taster_name  variety  winery  price  \\\n",
       "0       22       332       424         6            9      691   11608   -1.0   \n",
       "1       32       108       738         6           16      451   12956   15.0   \n",
       "2       41       269      1218        17           15      437   13018   14.0   \n",
       "3       41       218       549         6            0      480   14390   13.0   \n",
       "4       41       269      1218        17           15      441   14621   65.0   \n",
       "\n",
       "   points  \n",
       "0      87  \n",
       "1      87  \n",
       "2      87  \n",
       "3      87  \n",
       "4      87  "
      ]
     },
     "execution_count": 27,
     "metadata": {},
     "output_type": "execute_result"
    }
   ],
   "source": [
    "encoded_features = wine_reviews[categorical_features].apply(lambda col: le.fit_transform(col.fillna('NA')))\n",
    "encoded_features['price'] = wine_reviews.price.fillna(-1)\n",
    "encoded_features['points'] = wine_reviews.points\n",
    "encoded_features.head()"
   ]
  },
  {
   "cell_type": "markdown",
   "metadata": {},
   "source": [
    "#### Re-splitting to train and test"
   ]
  },
  {
   "cell_type": "code",
   "execution_count": 29,
   "metadata": {},
   "outputs": [],
   "source": [
    "train_encoded_features = encoded_features[encoded_features.index.isin(train_data.index)]\n",
    "test_encoded_features = encoded_features[encoded_features.index.isin(test_data.index)]\n",
    "assert(len(train_encoded_features) + len(test_encoded_features) == len(wine_reviews))"
   ]
  },
  {
   "cell_type": "markdown",
   "metadata": {},
   "source": [
    "#### Fitting a tree-regressor"
   ]
  },
  {
   "cell_type": "code",
   "execution_count": 37,
   "metadata": {},
   "outputs": [],
   "source": [
    "from src.models import i_feel_lucky_xgboost_training"
   ]
  },
  {
   "cell_type": "code",
   "execution_count": 31,
   "metadata": {},
   "outputs": [
    {
     "name": "stdout",
     "output_type": "stream",
     "text": [
      "<class 'pandas.core.frame.DataFrame'>\n",
      "Int64Index: 103977 entries, 0 to 129970\n",
      "Data columns (total 9 columns):\n",
      " #   Column       Non-Null Count   Dtype  \n",
      "---  ------       --------------   -----  \n",
      " 0   country      103977 non-null  int64  \n",
      " 1   province     103977 non-null  int64  \n",
      " 2   region_1     103977 non-null  int64  \n",
      " 3   region_2     103977 non-null  int64  \n",
      " 4   taster_name  103977 non-null  int64  \n",
      " 5   variety      103977 non-null  int64  \n",
      " 6   winery       103977 non-null  int64  \n",
      " 7   price        103977 non-null  float64\n",
      " 8   points       103977 non-null  int64  \n",
      "dtypes: float64(1), int64(8)\n",
      "memory usage: 7.9 MB\n"
     ]
    }
   ],
   "source": [
    "train_encoded_features.info()"
   ]
  },
  {
   "cell_type": "code",
   "execution_count": 32,
   "metadata": {},
   "outputs": [],
   "source": [
    "xgb_clf, clf_name = i_feel_lucky_xgboost_training(train_encoded_features, test_encoded_features, features, 'points', name='xgb_clf_points_prediction')"
   ]
  },
  {
   "cell_type": "markdown",
   "metadata": {},
   "source": [
    "Let's look at the function output - specifically the **xgb_clf_points_prediction** column:"
   ]
  },
  {
   "cell_type": "code",
   "execution_count": 33,
   "metadata": {},
   "outputs": [
    {
     "data": {
      "text/html": [
       "<div>\n",
       "<style scoped>\n",
       "    .dataframe tbody tr th:only-of-type {\n",
       "        vertical-align: middle;\n",
       "    }\n",
       "\n",
       "    .dataframe tbody tr th {\n",
       "        vertical-align: top;\n",
       "    }\n",
       "\n",
       "    .dataframe thead th {\n",
       "        text-align: right;\n",
       "    }\n",
       "</style>\n",
       "<table border=\"1\" class=\"dataframe\">\n",
       "  <thead>\n",
       "    <tr style=\"text-align: right;\">\n",
       "      <th></th>\n",
       "      <th>country</th>\n",
       "      <th>province</th>\n",
       "      <th>region_1</th>\n",
       "      <th>region_2</th>\n",
       "      <th>taster_name</th>\n",
       "      <th>variety</th>\n",
       "      <th>winery</th>\n",
       "      <th>price</th>\n",
       "      <th>points</th>\n",
       "      <th>xgb_clf_points_prediction</th>\n",
       "    </tr>\n",
       "  </thead>\n",
       "  <tbody>\n",
       "    <tr>\n",
       "      <th>3</th>\n",
       "      <td>41</td>\n",
       "      <td>218</td>\n",
       "      <td>549</td>\n",
       "      <td>6</td>\n",
       "      <td>0</td>\n",
       "      <td>480</td>\n",
       "      <td>14390</td>\n",
       "      <td>13.0</td>\n",
       "      <td>87</td>\n",
       "      <td>86</td>\n",
       "    </tr>\n",
       "    <tr>\n",
       "      <th>9</th>\n",
       "      <td>15</td>\n",
       "      <td>11</td>\n",
       "      <td>21</td>\n",
       "      <td>6</td>\n",
       "      <td>16</td>\n",
       "      <td>437</td>\n",
       "      <td>8989</td>\n",
       "      <td>27.0</td>\n",
       "      <td>87</td>\n",
       "      <td>88</td>\n",
       "    </tr>\n",
       "    <tr>\n",
       "      <th>17</th>\n",
       "      <td>0</td>\n",
       "      <td>216</td>\n",
       "      <td>633</td>\n",
       "      <td>6</td>\n",
       "      <td>12</td>\n",
       "      <td>280</td>\n",
       "      <td>7830</td>\n",
       "      <td>13.0</td>\n",
       "      <td>87</td>\n",
       "      <td>84</td>\n",
       "    </tr>\n",
       "    <tr>\n",
       "      <th>24</th>\n",
       "      <td>22</td>\n",
       "      <td>332</td>\n",
       "      <td>992</td>\n",
       "      <td>6</td>\n",
       "      <td>9</td>\n",
       "      <td>389</td>\n",
       "      <td>2065</td>\n",
       "      <td>35.0</td>\n",
       "      <td>87</td>\n",
       "      <td>90</td>\n",
       "    </tr>\n",
       "    <tr>\n",
       "      <th>32</th>\n",
       "      <td>22</td>\n",
       "      <td>332</td>\n",
       "      <td>992</td>\n",
       "      <td>6</td>\n",
       "      <td>14</td>\n",
       "      <td>691</td>\n",
       "      <td>6694</td>\n",
       "      <td>-1.0</td>\n",
       "      <td>86</td>\n",
       "      <td>87</td>\n",
       "    </tr>\n",
       "  </tbody>\n",
       "</table>\n",
       "</div>"
      ],
      "text/plain": [
       "    country  province  region_1  region_2  taster_name  variety  winery  \\\n",
       "3        41       218       549         6            0      480   14390   \n",
       "9        15        11        21         6           16      437    8989   \n",
       "17        0       216       633         6           12      280    7830   \n",
       "24       22       332       992         6            9      389    2065   \n",
       "32       22       332       992         6           14      691    6694   \n",
       "\n",
       "    price  points  xgb_clf_points_prediction  \n",
       "3    13.0      87                         86  \n",
       "9    27.0      87                         88  \n",
       "17   13.0      87                         84  \n",
       "24   35.0      87                         90  \n",
       "32   -1.0      86                         87  "
      ]
     },
     "execution_count": 33,
     "metadata": {},
     "output_type": "execute_result"
    }
   ],
   "source": [
    "test_encoded_features.head()"
   ]
  },
  {
   "cell_type": "code",
   "execution_count": 34,
   "metadata": {},
   "outputs": [
    {
     "data": {
      "text/plain": [
       "MSE    6.138878\n",
       "MAE    1.883204\n",
       "R2     0.344063\n",
       "dtype: float64"
      ]
     },
     "execution_count": 34,
     "metadata": {},
     "output_type": "execute_result"
    }
   ],
   "source": [
    "xgb_stats = calc_prediction_quality(test_encoded_features, 'xgb_clf_points_prediction','points')\n",
    "xgb_stats"
   ]
  },
  {
   "cell_type": "code",
   "execution_count": 35,
   "metadata": {},
   "outputs": [
    {
     "data": {
      "text/html": [
       "<div>\n",
       "<style scoped>\n",
       "    .dataframe tbody tr th:only-of-type {\n",
       "        vertical-align: middle;\n",
       "    }\n",
       "\n",
       "    .dataframe tbody tr th {\n",
       "        vertical-align: top;\n",
       "    }\n",
       "\n",
       "    .dataframe thead th {\n",
       "        text-align: right;\n",
       "    }\n",
       "</style>\n",
       "<table border=\"1\" class=\"dataframe\">\n",
       "  <thead>\n",
       "    <tr style=\"text-align: right;\">\n",
       "      <th></th>\n",
       "      <th>MSE</th>\n",
       "      <th>MAE</th>\n",
       "      <th>R2</th>\n",
       "    </tr>\n",
       "  </thead>\n",
       "  <tbody>\n",
       "    <tr>\n",
       "      <th>baseline_1</th>\n",
       "      <td>9.358940</td>\n",
       "      <td>2.502118</td>\n",
       "      <td>-4.132097e-09</td>\n",
       "    </tr>\n",
       "    <tr>\n",
       "      <th>baseline_2</th>\n",
       "      <td>8.900472</td>\n",
       "      <td>2.437661</td>\n",
       "      <td>4.898723e-02</td>\n",
       "    </tr>\n",
       "    <tr>\n",
       "      <th>baseline_3</th>\n",
       "      <td>8.380775</td>\n",
       "      <td>2.349499</td>\n",
       "      <td>1.045167e-01</td>\n",
       "    </tr>\n",
       "    <tr>\n",
       "      <th>regression_by_xgb</th>\n",
       "      <td>6.138878</td>\n",
       "      <td>1.883204</td>\n",
       "      <td>3.440627e-01</td>\n",
       "    </tr>\n",
       "  </tbody>\n",
       "</table>\n",
       "</div>"
      ],
      "text/plain": [
       "                        MSE       MAE            R2\n",
       "baseline_1         9.358940  2.502118 -4.132097e-09\n",
       "baseline_2         8.900472  2.437661  4.898723e-02\n",
       "baseline_3         8.380775  2.349499  1.045167e-01\n",
       "regression_by_xgb  6.138878  1.883204  3.440627e-01"
      ]
     },
     "execution_count": 35,
     "metadata": {},
     "output_type": "execute_result"
    }
   ],
   "source": [
    "all_compared = pd.DataFrame([b1_stats, b2_stats, b3_stats, xgb_stats], index=['baseline_1', 'baseline_2','baseline_3','regression_by_xgb'])\n",
    "all_compared"
   ]
  },
  {
   "cell_type": "code",
   "execution_count": 36,
   "metadata": {},
   "outputs": [],
   "source": [
    "all_compared.to_csv('data/all_models_compared.csv', index=False)"
   ]
  },
  {
   "cell_type": "markdown",
   "metadata": {},
   "source": [
    "## Classical NLP approaches"
   ]
  },
  {
   "cell_type": "markdown",
   "metadata": {},
   "source": [
    "### Using only the text from the \"description\" column"
   ]
  },
  {
   "cell_type": "markdown",
   "metadata": {},
   "source": [
    "To be implemende by you."
   ]
  },
  {
   "cell_type": "markdown",
   "metadata": {},
   "source": [
    "### Using both the text and other features"
   ]
  },
  {
   "cell_type": "markdown",
   "metadata": {},
   "source": [
    "To be implemende by you."
   ]
  },
  {
   "cell_type": "markdown",
   "metadata": {},
   "source": [
    "## Deep Learning approaches"
   ]
  },
  {
   "cell_type": "markdown",
   "metadata": {},
   "source": [
    "### Fully connected network on the text only"
   ]
  },
  {
   "cell_type": "markdown",
   "metadata": {},
   "source": [
    "#### Tokenization"
   ]
  },
  {
   "cell_type": "code",
   "execution_count": 13,
   "metadata": {},
   "outputs": [
    {
     "data": {
      "text/plain": [
       "<keras.layers.preprocessing.text_vectorization.TextVectorization at 0x28fe80c40>"
      ]
     },
     "execution_count": 13,
     "metadata": {},
     "output_type": "execute_result"
    }
   ],
   "source": [
    "tf.keras.layers.TextVectorization(\n",
    "    max_tokens=None,\n",
    "    standardize='lower_and_strip_punctuation',\n",
    "    split='whitespace',\n",
    "    ngrams=None,\n",
    "    output_mode='int',\n",
    "    output_sequence_length=None,\n",
    "    pad_to_max_tokens=False,\n",
    "    vocabulary=None,\n",
    "    idf_weights=None,\n",
    "    sparse=False,\n",
    "    ragged=False,\n",
    ")"
   ]
  },
  {
   "cell_type": "code",
   "execution_count": 14,
   "metadata": {},
   "outputs": [],
   "source": [
    "from tensorflow.keras.layers import TextVectorization, Embedding, Dense, GlobalAveragePooling1D, Dropout"
   ]
  },
  {
   "cell_type": "markdown",
   "metadata": {},
   "source": [
    "What is a good size for the vocabulary? "
   ]
  },
  {
   "cell_type": "code",
   "execution_count": 15,
   "metadata": {},
   "outputs": [
    {
     "data": {
      "text/plain": [
       "0.95    60.0\n",
       "0.99    71.0\n",
       "Name: description, dtype: float64"
      ]
     },
     "execution_count": 15,
     "metadata": {},
     "output_type": "execute_result"
    }
   ],
   "source": [
    "wine_reviews.description.apply(lambda x: len(x.split(' '))).quantile([0.95, 0.99])"
   ]
  },
  {
   "cell_type": "code",
   "execution_count": 16,
   "metadata": {},
   "outputs": [],
   "source": [
    "vocab_size = 32000\n",
    "sequence_length = 60\n",
    "\n",
    "# Use the text vectorization layer to normalize, split, and map strings to integers. Set maximum_sequence length as all samples are not of the same length.\n",
    "vectorize_layer = TextVectorization(\n",
    "    #standardize=lambda text: tf.strings.lower(text), # You can use your own normalization function here\n",
    "    standardize='lower_and_strip_punctuation', # Or you can use a pre-made normalization function\n",
    "    max_tokens=vocab_size,    \n",
    "    split='whitespace',\n",
    "    output_mode='int',\n",
    "    name = 'Text_processing',\n",
    "    output_sequence_length=sequence_length)"
   ]
  },
  {
   "cell_type": "code",
   "execution_count": 26,
   "metadata": {},
   "outputs": [],
   "source": [
    "vectorize_layer.adapt(train_data['description'])"
   ]
  },
  {
   "cell_type": "code",
   "execution_count": 33,
   "metadata": {},
   "outputs": [
    {
     "name": "stdout",
     "output_type": "stream",
     "text": [
      "Smoky toasty scents dominate this 50-50 blend of Tempranillo and Grenache. Firm purple fruits offer a taste of Spanish varietal character, with accents of bull's blood. This needs a bit more bottle age, which should continue to flesh out the finish.\n"
     ]
    },
    {
     "data": {
      "text/plain": [
       "<tf.Tensor: shape=(60,), dtype=int64, numpy=\n",
       "array([  170,   235,   213,   539,     7,  1930,    48,     5,   810,\n",
       "           2,   354,    75,   517,    46,   720,     4,   382,     5,\n",
       "        1426,   386,    81,     6,   410,     5, 12589,  2414,     7,\n",
       "         294,     4,   119,    67,   272,   131,   153,   206,  1093,\n",
       "          13,   944,    88,     3,    20,     0,     0,     0,     0,\n",
       "           0,     0,     0,     0,     0,     0,     0,     0,     0,\n",
       "           0,     0,     0,     0,     0,     0])>"
      ]
     },
     "execution_count": 33,
     "metadata": {},
     "output_type": "execute_result"
    }
   ],
   "source": [
    "sample_description = train_data['description'].sample().iloc[0]\n",
    "print(sample_description)\n",
    "vectorize_layer(sample_description)"
   ]
  },
  {
   "cell_type": "code",
   "execution_count": 35,
   "metadata": {},
   "outputs": [
    {
     "name": "stdout",
     "output_type": "stream",
     "text": [
      "170 --->  smoky\n",
      "235 --->  toasty\n",
      "213 --->  scents\n",
      "539 --->  dominate\n",
      "7 --->  this\n",
      "1930 --->  5050\n",
      "48 --->  blend\n",
      "5 --->  of\n",
      "810 --->  tempranillo\n",
      "2 --->  and\n",
      "354 --->  grenache\n",
      "75 --->  firm\n",
      "517 --->  purple\n",
      "46 --->  fruits\n",
      "720 --->  offer\n",
      "4 --->  a\n",
      "382 --->  taste\n",
      "5 --->  of\n",
      "1426 --->  spanish\n",
      "386 --->  varietal\n"
     ]
    }
   ],
   "source": [
    "for token in vectorize_layer(sample_description).numpy()[:20]:\n",
    "    print(f\"{token} ---> \",vectorize_layer.get_vocabulary()[token])"
   ]
  },
  {
   "cell_type": "markdown",
   "metadata": {},
   "source": [
    "#### Modeling"
   ]
  },
  {
   "cell_type": "code",
   "execution_count": 23,
   "metadata": {},
   "outputs": [],
   "source": [
    "embedding_dim=16\n",
    "\n",
    "model = tf.keras.Sequential([\n",
    "    tf.keras.Input(shape=(1,), dtype=tf.string),\n",
    "    vectorize_layer,\n",
    "    Embedding(vocab_size, embedding_dim, name=\"embedding\"),\n",
    "    GlobalAveragePooling1D(),\n",
    "    Dropout(0.2),\n",
    "    Dense(164, activation='tanh', name='hidden_layer'),\n",
    "    Dropout(0.2),\n",
    "    Dense(1, name = 'output_layer')\n",
    "])"
   ]
  },
  {
   "cell_type": "code",
   "execution_count": 24,
   "metadata": {},
   "outputs": [
    {
     "name": "stdout",
     "output_type": "stream",
     "text": [
      "Model: \"sequential_2\"\n",
      "_________________________________________________________________\n",
      " Layer (type)                Output Shape              Param #   \n",
      "=================================================================\n",
      " Text_processing (TextVector  (None, 60)               0         \n",
      " ization)                                                        \n",
      "                                                                 \n",
      " embedding (Embedding)       (None, 60, 16)            512000    \n",
      "                                                                 \n",
      " global_average_pooling1d_2   (None, 16)               0         \n",
      " (GlobalAveragePooling1D)                                        \n",
      "                                                                 \n",
      " dropout_4 (Dropout)         (None, 16)                0         \n",
      "                                                                 \n",
      " hidden_layer (Dense)        (None, 164)               2788      \n",
      "                                                                 \n",
      " dropout_5 (Dropout)         (None, 164)               0         \n",
      "                                                                 \n",
      " output_layer (Dense)        (None, 1)                 165       \n",
      "                                                                 \n",
      "=================================================================\n",
      "Total params: 514,953\n",
      "Trainable params: 514,953\n",
      "Non-trainable params: 0\n",
      "_________________________________________________________________\n"
     ]
    }
   ],
   "source": [
    "model.summary()"
   ]
  },
  {
   "cell_type": "code",
   "execution_count": 25,
   "metadata": {},
   "outputs": [
    {
     "name": "stdout",
     "output_type": "stream",
     "text": [
      "You must install pydot (`pip install pydot`) and install graphviz (see instructions at https://graphviz.gitlab.io/download/) for plot_model/model_to_dot to work.\n"
     ]
    }
   ],
   "source": [
    "tf.keras.utils.plot_model(model, show_dtype=True, show_shapes=True, show_layer_names=True)"
   ]
  }
 ],
 "metadata": {
  "kernelspec": {
   "display_name": "conda_tf",
   "language": "python",
   "name": "conda_tf"
  },
  "language_info": {
   "codemirror_mode": {
    "name": "ipython",
    "version": 3
   },
   "file_extension": ".py",
   "mimetype": "text/x-python",
   "name": "python",
   "nbconvert_exporter": "python",
   "pygments_lexer": "ipython3",
   "version": "3.8.12"
  }
 },
 "nbformat": 4,
 "nbformat_minor": 4
}
