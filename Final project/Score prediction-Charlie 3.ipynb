{
 "cells": [
  {
   "cell_type": "markdown",
   "metadata": {},
   "source": [
    "# Wines Points prediction "
   ]
  },
  {
   "cell_type": "code",
   "execution_count": 1,
   "metadata": {},
   "outputs": [],
   "source": [
    "%load_ext autoreload\n",
    "%autoreload 2\n",
    "import sys; sys.path.append('../')"
   ]
  },
  {
   "cell_type": "markdown",
   "metadata": {},
   "source": [
    "Here we will try to predict the points a wine will get based on known characteristics (i.e. features, in the ML terminology). The mine point in this stage is to establish a simple, ideally super cost effective, basline.\n",
    "In the real world there is a tradeoff between complexity and perforamnce, and the DS job, among others, is to present a tradeoff tables of what performance is achivalbel at what complexity level. \n",
    "\n",
    "to which models with increased complexity and resource demands will be compared. Complexity should then be translated into cost. For example:\n",
    " * Compute cost \n",
    " * Maintenance cost\n",
    " * Serving costs (i.e. is new platform needed?) \n",
    " "
   ]
  },
  {
   "cell_type": "markdown",
   "metadata": {},
   "source": [
    "## Loading the data"
   ]
  },
  {
   "cell_type": "code",
   "execution_count": 2,
   "metadata": {},
   "outputs": [
    {
     "data": {
      "text/html": [
       "        <script type=\"text/javascript\">\n",
       "        window.PlotlyConfig = {MathJaxConfig: 'local'};\n",
       "        if (window.MathJax) {MathJax.Hub.Config({SVG: {font: \"STIX-Web\"}});}\n",
       "        if (typeof require !== 'undefined') {\n",
       "        require.undef(\"plotly\");\n",
       "        requirejs.config({\n",
       "            paths: {\n",
       "                'plotly': ['https://cdn.plot.ly/plotly-2.4.2.min']\n",
       "            }\n",
       "        });\n",
       "        require(['plotly'], function(Plotly) {\n",
       "            window._Plotly = Plotly;\n",
       "        });\n",
       "        }\n",
       "        </script>\n",
       "        "
      ]
     },
     "metadata": {},
     "output_type": "display_data"
    }
   ],
   "source": [
    "import pandas as pd\n",
    "import cufflinks as cf; cf.go_offline()"
   ]
  },
  {
   "cell_type": "code",
   "execution_count": 3,
   "metadata": {},
   "outputs": [
    {
     "data": {
      "text/plain": [
       "(129971, 14)"
      ]
     },
     "execution_count": 3,
     "metadata": {},
     "output_type": "execute_result"
    }
   ],
   "source": [
    "wine_reviews = pd.read_csv(\"data/winemag-data-130k-v2.csv\")\n",
    "wine_reviews.shape"
   ]
  },
  {
   "cell_type": "code",
   "execution_count": 4,
   "metadata": {},
   "outputs": [
    {
     "data": {
      "text/html": [
       "<div>\n",
       "<style scoped>\n",
       "    .dataframe tbody tr th:only-of-type {\n",
       "        vertical-align: middle;\n",
       "    }\n",
       "\n",
       "    .dataframe tbody tr th {\n",
       "        vertical-align: top;\n",
       "    }\n",
       "\n",
       "    .dataframe thead th {\n",
       "        text-align: right;\n",
       "    }\n",
       "</style>\n",
       "<table border=\"1\" class=\"dataframe\">\n",
       "  <thead>\n",
       "    <tr style=\"text-align: right;\">\n",
       "      <th></th>\n",
       "      <th>Unnamed: 0</th>\n",
       "      <th>country</th>\n",
       "      <th>description</th>\n",
       "      <th>designation</th>\n",
       "      <th>points</th>\n",
       "      <th>price</th>\n",
       "      <th>province</th>\n",
       "      <th>region_1</th>\n",
       "      <th>region_2</th>\n",
       "      <th>taster_name</th>\n",
       "      <th>taster_twitter_handle</th>\n",
       "      <th>title</th>\n",
       "      <th>variety</th>\n",
       "      <th>winery</th>\n",
       "    </tr>\n",
       "  </thead>\n",
       "  <tbody>\n",
       "    <tr>\n",
       "      <th>97344</th>\n",
       "      <td>97344</td>\n",
       "      <td>US</td>\n",
       "      <td>Released in October, 2007, this would have ben...</td>\n",
       "      <td>Rosella's Vineyard</td>\n",
       "      <td>88</td>\n",
       "      <td>49.0</td>\n",
       "      <td>California</td>\n",
       "      <td>Santa Lucia Highlands</td>\n",
       "      <td>Central Coast</td>\n",
       "      <td>NaN</td>\n",
       "      <td>NaN</td>\n",
       "      <td>Siduri 2006 Rosella's Vineyard Pinot Noir (San...</td>\n",
       "      <td>Pinot Noir</td>\n",
       "      <td>Siduri</td>\n",
       "    </tr>\n",
       "    <tr>\n",
       "      <th>115621</th>\n",
       "      <td>115621</td>\n",
       "      <td>US</td>\n",
       "      <td>The third vintage of this wine is 100% varieta...</td>\n",
       "      <td>Premier</td>\n",
       "      <td>91</td>\n",
       "      <td>85.0</td>\n",
       "      <td>Washington</td>\n",
       "      <td>Columbia Valley (WA)</td>\n",
       "      <td>Columbia Valley</td>\n",
       "      <td>Sean P. Sullivan</td>\n",
       "      <td>@wawinereport</td>\n",
       "      <td>Northstar 2011 Premier Merlot (Columbia Valley...</td>\n",
       "      <td>Merlot</td>\n",
       "      <td>Northstar</td>\n",
       "    </tr>\n",
       "    <tr>\n",
       "      <th>57979</th>\n",
       "      <td>57979</td>\n",
       "      <td>US</td>\n",
       "      <td>With 20% Pinot Gris in the mix and a percentag...</td>\n",
       "      <td>Redwood Road Estate</td>\n",
       "      <td>90</td>\n",
       "      <td>25.0</td>\n",
       "      <td>California</td>\n",
       "      <td>Russian River Valley</td>\n",
       "      <td>Sonoma</td>\n",
       "      <td>Virginie Boone</td>\n",
       "      <td>@vboone</td>\n",
       "      <td>Armida 2016 Redwood Road Estate Sauvignon Blan...</td>\n",
       "      <td>Sauvignon Blanc</td>\n",
       "      <td>Armida</td>\n",
       "    </tr>\n",
       "    <tr>\n",
       "      <th>78954</th>\n",
       "      <td>78954</td>\n",
       "      <td>Spain</td>\n",
       "      <td>Aromas of creamy vanilla and mixed berry fruit...</td>\n",
       "      <td>Glorioso Crianza</td>\n",
       "      <td>88</td>\n",
       "      <td>16.0</td>\n",
       "      <td>Northern Spain</td>\n",
       "      <td>Rioja</td>\n",
       "      <td>NaN</td>\n",
       "      <td>Michael Schachner</td>\n",
       "      <td>@wineschach</td>\n",
       "      <td>Bodegas Palacio 2014 Glorioso Crianza  (Rioja)</td>\n",
       "      <td>Tempranillo</td>\n",
       "      <td>Bodegas Palacio</td>\n",
       "    </tr>\n",
       "    <tr>\n",
       "      <th>10498</th>\n",
       "      <td>10498</td>\n",
       "      <td>US</td>\n",
       "      <td>This is a blend of Gewürztraminer, Riesling an...</td>\n",
       "      <td>NaN</td>\n",
       "      <td>88</td>\n",
       "      <td>13.0</td>\n",
       "      <td>California</td>\n",
       "      <td>Mendocino</td>\n",
       "      <td>NaN</td>\n",
       "      <td>NaN</td>\n",
       "      <td>NaN</td>\n",
       "      <td>Navarro 2007 White (Mendocino)</td>\n",
       "      <td>White Blend</td>\n",
       "      <td>Navarro</td>\n",
       "    </tr>\n",
       "  </tbody>\n",
       "</table>\n",
       "</div>"
      ],
      "text/plain": [
       "        Unnamed: 0 country                                        description  \\\n",
       "97344        97344      US  Released in October, 2007, this would have ben...   \n",
       "115621      115621      US  The third vintage of this wine is 100% varieta...   \n",
       "57979        57979      US  With 20% Pinot Gris in the mix and a percentag...   \n",
       "78954        78954   Spain  Aromas of creamy vanilla and mixed berry fruit...   \n",
       "10498        10498      US  This is a blend of Gewürztraminer, Riesling an...   \n",
       "\n",
       "                designation  points  price        province  \\\n",
       "97344    Rosella's Vineyard      88   49.0      California   \n",
       "115621              Premier      91   85.0      Washington   \n",
       "57979   Redwood Road Estate      90   25.0      California   \n",
       "78954      Glorioso Crianza      88   16.0  Northern Spain   \n",
       "10498                   NaN      88   13.0      California   \n",
       "\n",
       "                     region_1         region_2        taster_name  \\\n",
       "97344   Santa Lucia Highlands    Central Coast                NaN   \n",
       "115621   Columbia Valley (WA)  Columbia Valley   Sean P. Sullivan   \n",
       "57979    Russian River Valley           Sonoma     Virginie Boone   \n",
       "78954                   Rioja              NaN  Michael Schachner   \n",
       "10498               Mendocino              NaN                NaN   \n",
       "\n",
       "       taster_twitter_handle  \\\n",
       "97344                    NaN   \n",
       "115621         @wawinereport   \n",
       "57979                @vboone   \n",
       "78954            @wineschach   \n",
       "10498                    NaN   \n",
       "\n",
       "                                                    title          variety  \\\n",
       "97344   Siduri 2006 Rosella's Vineyard Pinot Noir (San...       Pinot Noir   \n",
       "115621  Northstar 2011 Premier Merlot (Columbia Valley...           Merlot   \n",
       "57979   Armida 2016 Redwood Road Estate Sauvignon Blan...  Sauvignon Blanc   \n",
       "78954      Bodegas Palacio 2014 Glorioso Crianza  (Rioja)      Tempranillo   \n",
       "10498                      Navarro 2007 White (Mendocino)      White Blend   \n",
       "\n",
       "                 winery  \n",
       "97344            Siduri  \n",
       "115621        Northstar  \n",
       "57979            Armida  \n",
       "78954   Bodegas Palacio  \n",
       "10498           Navarro  "
      ]
     },
     "execution_count": 4,
     "metadata": {},
     "output_type": "execute_result"
    }
   ],
   "source": [
    "wine_reviews.sample(5)"
   ]
  },
  {
   "cell_type": "code",
   "execution_count": 5,
   "metadata": {},
   "outputs": [],
   "source": [
    "wine_reviews = wine_reviews.drop(columns=['Unnamed: 0'])"
   ]
  },
  {
   "cell_type": "code",
   "execution_count": 6,
   "metadata": {},
   "outputs": [
    {
     "data": {
      "text/plain": [
       "(119988, 13)"
      ]
     },
     "execution_count": 6,
     "metadata": {},
     "output_type": "execute_result"
    }
   ],
   "source": [
    "wine_reviews = wine_reviews.drop_duplicates()\n",
    "wine_reviews.shape"
   ]
  },
  {
   "cell_type": "code",
   "execution_count": 7,
   "metadata": {},
   "outputs": [
    {
     "data": {
      "text/html": [
       "<div>\n",
       "<style scoped>\n",
       "    .dataframe tbody tr th:only-of-type {\n",
       "        vertical-align: middle;\n",
       "    }\n",
       "\n",
       "    .dataframe tbody tr th {\n",
       "        vertical-align: top;\n",
       "    }\n",
       "\n",
       "    .dataframe thead th {\n",
       "        text-align: right;\n",
       "    }\n",
       "</style>\n",
       "<table border=\"1\" class=\"dataframe\">\n",
       "  <thead>\n",
       "    <tr style=\"text-align: right;\">\n",
       "      <th></th>\n",
       "      <th>country</th>\n",
       "      <th>description</th>\n",
       "      <th>designation</th>\n",
       "      <th>points</th>\n",
       "      <th>price</th>\n",
       "      <th>province</th>\n",
       "      <th>region_1</th>\n",
       "      <th>region_2</th>\n",
       "      <th>taster_name</th>\n",
       "      <th>taster_twitter_handle</th>\n",
       "      <th>title</th>\n",
       "      <th>variety</th>\n",
       "      <th>winery</th>\n",
       "      <th>desc_low</th>\n",
       "    </tr>\n",
       "  </thead>\n",
       "  <tbody>\n",
       "    <tr>\n",
       "      <th>15032</th>\n",
       "      <td>France</td>\n",
       "      <td>This blend of 50% Syrah, 40% Grenache and 10% ...</td>\n",
       "      <td>Coste d'Aleyrac</td>\n",
       "      <td>88</td>\n",
       "      <td>21.0</td>\n",
       "      <td>Languedoc-Roussillon</td>\n",
       "      <td>Coteaux du Languedoc Pic Saint Loup</td>\n",
       "      <td>NaN</td>\n",
       "      <td>Lauren Buzzeo</td>\n",
       "      <td>@laurbuzz</td>\n",
       "      <td>Château de Lancyre 2009 Coste d'Aleyrac Red (C...</td>\n",
       "      <td>Rhône-style Red Blend</td>\n",
       "      <td>Château de Lancyre</td>\n",
       "      <td>this blend of 50% syrah, 40% grenache and 10% ...</td>\n",
       "    </tr>\n",
       "  </tbody>\n",
       "</table>\n",
       "</div>"
      ],
      "text/plain": [
       "      country                                        description  \\\n",
       "15032  France  This blend of 50% Syrah, 40% Grenache and 10% ...   \n",
       "\n",
       "           designation  points  price              province  \\\n",
       "15032  Coste d'Aleyrac      88   21.0  Languedoc-Roussillon   \n",
       "\n",
       "                                  region_1 region_2    taster_name  \\\n",
       "15032  Coteaux du Languedoc Pic Saint Loup      NaN  Lauren Buzzeo   \n",
       "\n",
       "      taster_twitter_handle  \\\n",
       "15032             @laurbuzz   \n",
       "\n",
       "                                                   title  \\\n",
       "15032  Château de Lancyre 2009 Coste d'Aleyrac Red (C...   \n",
       "\n",
       "                     variety              winery  \\\n",
       "15032  Rhône-style Red Blend  Château de Lancyre   \n",
       "\n",
       "                                                desc_low  \n",
       "15032  this blend of 50% syrah, 40% grenache and 10% ...  "
      ]
     },
     "execution_count": 7,
     "metadata": {},
     "output_type": "execute_result"
    }
   ],
   "source": [
    "wine_reviews['desc_low'] = wine_reviews['description'].str.lower()\n",
    "wine_reviews.sample()"
   ]
  },
  {
   "cell_type": "markdown",
   "metadata": {},
   "source": [
    "## Points prediction"
   ]
  },
  {
   "cell_type": "markdown",
   "metadata": {},
   "source": [
    "Points is descrete value target. There for we are talking about a prediction (Regression) problem (in contrary to classification problem). Prediction solutions can be measured in few metrics:\n",
    "\n",
    "* MSE - [Mean score error](https://en.wikipedia.org/wiki/Mean_squared_error)\n",
    "* R2 - [R Square](https://en.wikipedia.org/wiki/Coefficient_of_determination)\n",
    "* MAE - [Mean absolut error](https://en.wikipedia.org/wiki/Mean_absolute_error)\n",
    "\n",
    "Read more [here](https://towardsdatascience.com/what-are-the-best-metrics-to-evaluate-your-regression-model-418ca481755b)"
   ]
  },
  {
   "cell_type": "markdown",
   "metadata": {},
   "source": [
    "### Train and test set split"
   ]
  },
  {
   "cell_type": "markdown",
   "metadata": {},
   "source": [
    "To properly report results, let's split to train and test datasets:"
   ]
  },
  {
   "cell_type": "code",
   "execution_count": 8,
   "metadata": {},
   "outputs": [],
   "source": [
    "train_data = wine_reviews.sample(frac = 0.8)\n",
    "test_data = wine_reviews[~wine_reviews.index.isin(train_data.index)]\n",
    "assert(len(train_data) + len(test_data) == len(wine_reviews))"
   ]
  },
  {
   "cell_type": "code",
   "execution_count": 9,
   "metadata": {},
   "outputs": [
    {
     "data": {
      "text/plain": [
       "(23998, 95990)"
      ]
     },
     "execution_count": 9,
     "metadata": {},
     "output_type": "execute_result"
    }
   ],
   "source": [
    "len(test_data), len(train_data)"
   ]
  },
  {
   "cell_type": "markdown",
   "metadata": {},
   "source": [
    "### Baselines"
   ]
  },
  {
   "cell_type": "code",
   "execution_count": 10,
   "metadata": {},
   "outputs": [],
   "source": [
    "from sklearn.metrics import mean_absolute_error, mean_squared_error, r2_score"
   ]
  },
  {
   "cell_type": "code",
   "execution_count": 11,
   "metadata": {},
   "outputs": [],
   "source": [
    "def calc_prediction_quality(df, pred_score_col, true_score_col):\n",
    "    return pd.Series({'MSE': mean_squared_error(df[true_score_col], df[pred_score_col]),\n",
    "                      'MAE': mean_absolute_error(df[true_score_col], df[pred_score_col]),\n",
    "                      'R2': r2_score(df[true_score_col], df[pred_score_col])})"
   ]
  },
  {
   "cell_type": "markdown",
   "metadata": {},
   "source": [
    "#### Baseline 1"
   ]
  },
  {
   "cell_type": "markdown",
   "metadata": {},
   "source": [
    "The most basic baseline is simply the average points. The implementaion is as simple as:"
   ]
  },
  {
   "cell_type": "code",
   "execution_count": 12,
   "metadata": {},
   "outputs": [
    {
     "data": {
      "text/plain": [
       "MSE    9.556321\n",
       "MAE    2.529918\n",
       "R2    -0.000008\n",
       "dtype: float64"
      ]
     },
     "execution_count": 12,
     "metadata": {},
     "output_type": "execute_result"
    }
   ],
   "source": [
    "test_data['basiline_1_predicted_points'] = train_data.points.mean()\n",
    "b1_stats = calc_prediction_quality(test_data, 'basiline_1_predicted_points', 'points')\n",
    "b1_stats"
   ]
  },
  {
   "cell_type": "markdown",
   "metadata": {},
   "source": [
    "#### Basline 2"
   ]
  },
  {
   "cell_type": "markdown",
   "metadata": {},
   "source": [
    "We can probably improve by predicting the average score based on the origin country:"
   ]
  },
  {
   "cell_type": "code",
   "execution_count": 13,
   "metadata": {},
   "outputs": [
    {
     "data": {
      "text/plain": [
       "country\n",
       "Argentina                 86.688456\n",
       "Armenia                   88.000000\n",
       "Australia                 88.520023\n",
       "Austria                   90.118159\n",
       "Bosnia and Herzegovina    86.500000\n",
       "Name: points, dtype: float64"
      ]
     },
     "execution_count": 13,
     "metadata": {},
     "output_type": "execute_result"
    }
   ],
   "source": [
    "avg_points_by_country = train_data.groupby('country').points.mean()\n",
    "avg_points_by_country.head()"
   ]
  },
  {
   "cell_type": "code",
   "execution_count": 14,
   "metadata": {},
   "outputs": [
    {
     "data": {
      "text/plain": [
       "MSE    9.055044\n",
       "MAE    2.457114\n",
       "R2     0.052447\n",
       "dtype: float64"
      ]
     },
     "execution_count": 14,
     "metadata": {},
     "output_type": "execute_result"
    }
   ],
   "source": [
    "test_data['basiline_2_predicted_points'] = test_data.country.map(avg_points_by_country).fillna(train_data.points.mean())\n",
    "b2_stats = calc_prediction_quality(test_data, 'basiline_2_predicted_points', 'points')\n",
    "b2_stats"
   ]
  },
  {
   "cell_type": "markdown",
   "metadata": {},
   "source": [
    "#### Baseline 3"
   ]
  },
  {
   "cell_type": "markdown",
   "metadata": {},
   "source": [
    "Adding more breakdowns will increase our granularity but can result in overfitting. Yet:"
   ]
  },
  {
   "cell_type": "code",
   "execution_count": 15,
   "metadata": {},
   "outputs": [
    {
     "data": {
      "text/plain": [
       "country    province        \n",
       "Argentina  Mendoza Province    86.812475\n",
       "           Other               85.936118\n",
       "Armenia    Armenia             88.000000\n",
       "Australia  Australia Other     85.494792\n",
       "           New South Wales     87.597015\n",
       "Name: basiline_3_predicted_points, dtype: float64"
      ]
     },
     "execution_count": 15,
     "metadata": {},
     "output_type": "execute_result"
    }
   ],
   "source": [
    "avg_points_by_country_and_region = train_data.groupby(['country','province']).points.mean().rename('basiline_3_predicted_points')\n",
    "avg_points_by_country_and_region.head()"
   ]
  },
  {
   "cell_type": "code",
   "execution_count": 16,
   "metadata": {},
   "outputs": [
    {
     "data": {
      "text/plain": [
       "((23998, 17), (23998, 16))"
      ]
     },
     "execution_count": 16,
     "metadata": {},
     "output_type": "execute_result"
    }
   ],
   "source": [
    "test_data_with_baseline_3 = test_data.merge(avg_points_by_country_and_region, on = ['country','province'], how='left')\n",
    "test_data_with_baseline_3.basiline_3_predicted_points = test_data_with_baseline_3.basiline_3_predicted_points.fillna(test_data_with_baseline_3.basiline_2_predicted_points).fillna(test_data.basiline_1_predicted_points)\n",
    "test_data_with_baseline_3.shape, test_data.shape"
   ]
  },
  {
   "cell_type": "code",
   "execution_count": 17,
   "metadata": {},
   "outputs": [
    {
     "data": {
      "text/plain": [
       "MSE    8.507232\n",
       "MAE    2.364351\n",
       "R2     0.109772\n",
       "dtype: float64"
      ]
     },
     "execution_count": 17,
     "metadata": {},
     "output_type": "execute_result"
    }
   ],
   "source": [
    "b3_stats = calc_prediction_quality(test_data_with_baseline_3, 'basiline_3_predicted_points', 'points')\n",
    "b3_stats"
   ]
  },
  {
   "cell_type": "markdown",
   "metadata": {},
   "source": [
    "### Baselines summary"
   ]
  },
  {
   "cell_type": "code",
   "execution_count": 18,
   "metadata": {},
   "outputs": [
    {
     "data": {
      "text/html": [
       "<div>\n",
       "<style scoped>\n",
       "    .dataframe tbody tr th:only-of-type {\n",
       "        vertical-align: middle;\n",
       "    }\n",
       "\n",
       "    .dataframe tbody tr th {\n",
       "        vertical-align: top;\n",
       "    }\n",
       "\n",
       "    .dataframe thead th {\n",
       "        text-align: right;\n",
       "    }\n",
       "</style>\n",
       "<table border=\"1\" class=\"dataframe\">\n",
       "  <thead>\n",
       "    <tr style=\"text-align: right;\">\n",
       "      <th></th>\n",
       "      <th>MSE</th>\n",
       "      <th>MAE</th>\n",
       "      <th>R2</th>\n",
       "    </tr>\n",
       "  </thead>\n",
       "  <tbody>\n",
       "    <tr>\n",
       "      <th>baseline_1</th>\n",
       "      <td>9.556321</td>\n",
       "      <td>2.529918</td>\n",
       "      <td>-0.000008</td>\n",
       "    </tr>\n",
       "    <tr>\n",
       "      <th>baseline_2</th>\n",
       "      <td>9.055044</td>\n",
       "      <td>2.457114</td>\n",
       "      <td>0.052447</td>\n",
       "    </tr>\n",
       "    <tr>\n",
       "      <th>baseline_3</th>\n",
       "      <td>8.507232</td>\n",
       "      <td>2.364351</td>\n",
       "      <td>0.109772</td>\n",
       "    </tr>\n",
       "  </tbody>\n",
       "</table>\n",
       "</div>"
      ],
      "text/plain": [
       "                 MSE       MAE        R2\n",
       "baseline_1  9.556321  2.529918 -0.000008\n",
       "baseline_2  9.055044  2.457114  0.052447\n",
       "baseline_3  8.507232  2.364351  0.109772"
      ]
     },
     "execution_count": 18,
     "metadata": {},
     "output_type": "execute_result"
    }
   ],
   "source": [
    "baseline_summary = pd.DataFrame([b1_stats, b2_stats, b3_stats], index=['baseline_1', 'baseline_2','baseline_3'])\n",
    "baseline_summary"
   ]
  },
  {
   "cell_type": "code",
   "execution_count": 19,
   "metadata": {},
   "outputs": [],
   "source": [
    "baseline_summary.to_csv('data/baselines_summary.csv', index=False)"
   ]
  },
  {
   "cell_type": "markdown",
   "metadata": {},
   "source": [
    "## Training a Boosting trees regressor"
   ]
  },
  {
   "cell_type": "code",
   "execution_count": 20,
   "metadata": {},
   "outputs": [],
   "source": [
    "from sklearn.preprocessing import LabelEncoder\n",
    "le = LabelEncoder()"
   ]
  },
  {
   "cell_type": "markdown",
   "metadata": {},
   "source": [
    "#### Preparing data - Lable encoding categorical features"
   ]
  },
  {
   "cell_type": "code",
   "execution_count": 21,
   "metadata": {},
   "outputs": [],
   "source": [
    "categorical_features = ['country','province','region_1','region_2','taster_name','variety','winery']\n",
    "numerical_features = ['price']\n",
    "features = categorical_features + numerical_features"
   ]
  },
  {
   "cell_type": "code",
   "execution_count": 22,
   "metadata": {},
   "outputs": [
    {
     "data": {
      "text/html": [
       "<div>\n",
       "<style scoped>\n",
       "    .dataframe tbody tr th:only-of-type {\n",
       "        vertical-align: middle;\n",
       "    }\n",
       "\n",
       "    .dataframe tbody tr th {\n",
       "        vertical-align: top;\n",
       "    }\n",
       "\n",
       "    .dataframe thead th {\n",
       "        text-align: right;\n",
       "    }\n",
       "</style>\n",
       "<table border=\"1\" class=\"dataframe\">\n",
       "  <thead>\n",
       "    <tr style=\"text-align: right;\">\n",
       "      <th></th>\n",
       "      <th>country</th>\n",
       "      <th>province</th>\n",
       "      <th>region_1</th>\n",
       "      <th>region_2</th>\n",
       "      <th>taster_name</th>\n",
       "      <th>variety</th>\n",
       "      <th>winery</th>\n",
       "      <th>price</th>\n",
       "      <th>points</th>\n",
       "    </tr>\n",
       "  </thead>\n",
       "  <tbody>\n",
       "    <tr>\n",
       "      <th>0</th>\n",
       "      <td>22</td>\n",
       "      <td>332</td>\n",
       "      <td>424</td>\n",
       "      <td>6</td>\n",
       "      <td>9</td>\n",
       "      <td>691</td>\n",
       "      <td>11608</td>\n",
       "      <td>-1.0</td>\n",
       "      <td>87</td>\n",
       "    </tr>\n",
       "    <tr>\n",
       "      <th>1</th>\n",
       "      <td>32</td>\n",
       "      <td>108</td>\n",
       "      <td>738</td>\n",
       "      <td>6</td>\n",
       "      <td>16</td>\n",
       "      <td>451</td>\n",
       "      <td>12956</td>\n",
       "      <td>15.0</td>\n",
       "      <td>87</td>\n",
       "    </tr>\n",
       "    <tr>\n",
       "      <th>2</th>\n",
       "      <td>41</td>\n",
       "      <td>269</td>\n",
       "      <td>1218</td>\n",
       "      <td>17</td>\n",
       "      <td>15</td>\n",
       "      <td>437</td>\n",
       "      <td>13018</td>\n",
       "      <td>14.0</td>\n",
       "      <td>87</td>\n",
       "    </tr>\n",
       "    <tr>\n",
       "      <th>3</th>\n",
       "      <td>41</td>\n",
       "      <td>218</td>\n",
       "      <td>549</td>\n",
       "      <td>6</td>\n",
       "      <td>0</td>\n",
       "      <td>480</td>\n",
       "      <td>14390</td>\n",
       "      <td>13.0</td>\n",
       "      <td>87</td>\n",
       "    </tr>\n",
       "    <tr>\n",
       "      <th>4</th>\n",
       "      <td>41</td>\n",
       "      <td>269</td>\n",
       "      <td>1218</td>\n",
       "      <td>17</td>\n",
       "      <td>15</td>\n",
       "      <td>441</td>\n",
       "      <td>14621</td>\n",
       "      <td>65.0</td>\n",
       "      <td>87</td>\n",
       "    </tr>\n",
       "  </tbody>\n",
       "</table>\n",
       "</div>"
      ],
      "text/plain": [
       "   country  province  region_1  region_2  taster_name  variety  winery  price  \\\n",
       "0       22       332       424         6            9      691   11608   -1.0   \n",
       "1       32       108       738         6           16      451   12956   15.0   \n",
       "2       41       269      1218        17           15      437   13018   14.0   \n",
       "3       41       218       549         6            0      480   14390   13.0   \n",
       "4       41       269      1218        17           15      441   14621   65.0   \n",
       "\n",
       "   points  \n",
       "0      87  \n",
       "1      87  \n",
       "2      87  \n",
       "3      87  \n",
       "4      87  "
      ]
     },
     "execution_count": 22,
     "metadata": {},
     "output_type": "execute_result"
    }
   ],
   "source": [
    "encoded_features = wine_reviews[categorical_features].apply(lambda col: le.fit_transform(col.fillna('NA')))\n",
    "encoded_features['price'] = wine_reviews.price.fillna(-1)\n",
    "encoded_features['points'] = wine_reviews.points\n",
    "encoded_features.head()"
   ]
  },
  {
   "cell_type": "markdown",
   "metadata": {
    "tags": []
   },
   "source": [
    "#### Re-splitting to train and test"
   ]
  },
  {
   "cell_type": "code",
   "execution_count": 23,
   "metadata": {},
   "outputs": [],
   "source": [
    "train_encoded_features = encoded_features[encoded_features.index.isin(train_data.index)]\n",
    "test_encoded_features = encoded_features[encoded_features.index.isin(test_data.index)]\n",
    "assert(len(train_encoded_features) + len(test_encoded_features) == len(wine_reviews))"
   ]
  },
  {
   "cell_type": "code",
   "execution_count": 24,
   "metadata": {},
   "outputs": [
    {
     "data": {
      "text/html": [
       "<div>\n",
       "<style scoped>\n",
       "    .dataframe tbody tr th:only-of-type {\n",
       "        vertical-align: middle;\n",
       "    }\n",
       "\n",
       "    .dataframe tbody tr th {\n",
       "        vertical-align: top;\n",
       "    }\n",
       "\n",
       "    .dataframe thead th {\n",
       "        text-align: right;\n",
       "    }\n",
       "</style>\n",
       "<table border=\"1\" class=\"dataframe\">\n",
       "  <thead>\n",
       "    <tr style=\"text-align: right;\">\n",
       "      <th></th>\n",
       "      <th>country</th>\n",
       "      <th>province</th>\n",
       "      <th>region_1</th>\n",
       "      <th>region_2</th>\n",
       "      <th>taster_name</th>\n",
       "      <th>variety</th>\n",
       "      <th>winery</th>\n",
       "      <th>price</th>\n",
       "      <th>points</th>\n",
       "    </tr>\n",
       "  </thead>\n",
       "  <tbody>\n",
       "    <tr>\n",
       "      <th>2</th>\n",
       "      <td>41</td>\n",
       "      <td>269</td>\n",
       "      <td>1218</td>\n",
       "      <td>17</td>\n",
       "      <td>15</td>\n",
       "      <td>437</td>\n",
       "      <td>13018</td>\n",
       "      <td>14.0</td>\n",
       "      <td>87</td>\n",
       "    </tr>\n",
       "    <tr>\n",
       "      <th>3</th>\n",
       "      <td>41</td>\n",
       "      <td>218</td>\n",
       "      <td>549</td>\n",
       "      <td>6</td>\n",
       "      <td>0</td>\n",
       "      <td>480</td>\n",
       "      <td>14390</td>\n",
       "      <td>13.0</td>\n",
       "      <td>87</td>\n",
       "    </tr>\n",
       "    <tr>\n",
       "      <th>4</th>\n",
       "      <td>41</td>\n",
       "      <td>269</td>\n",
       "      <td>1218</td>\n",
       "      <td>17</td>\n",
       "      <td>15</td>\n",
       "      <td>441</td>\n",
       "      <td>14621</td>\n",
       "      <td>65.0</td>\n",
       "      <td>87</td>\n",
       "    </tr>\n",
       "    <tr>\n",
       "      <th>5</th>\n",
       "      <td>38</td>\n",
       "      <td>263</td>\n",
       "      <td>758</td>\n",
       "      <td>6</td>\n",
       "      <td>12</td>\n",
       "      <td>591</td>\n",
       "      <td>14706</td>\n",
       "      <td>15.0</td>\n",
       "      <td>87</td>\n",
       "    </tr>\n",
       "    <tr>\n",
       "      <th>8</th>\n",
       "      <td>17</td>\n",
       "      <td>308</td>\n",
       "      <td>738</td>\n",
       "      <td>6</td>\n",
       "      <td>1</td>\n",
       "      <td>209</td>\n",
       "      <td>8415</td>\n",
       "      <td>12.0</td>\n",
       "      <td>87</td>\n",
       "    </tr>\n",
       "  </tbody>\n",
       "</table>\n",
       "</div>"
      ],
      "text/plain": [
       "   country  province  region_1  region_2  taster_name  variety  winery  price  \\\n",
       "2       41       269      1218        17           15      437   13018   14.0   \n",
       "3       41       218       549         6            0      480   14390   13.0   \n",
       "4       41       269      1218        17           15      441   14621   65.0   \n",
       "5       38       263       758         6           12      591   14706   15.0   \n",
       "8       17       308       738         6            1      209    8415   12.0   \n",
       "\n",
       "   points  \n",
       "2      87  \n",
       "3      87  \n",
       "4      87  \n",
       "5      87  \n",
       "8      87  "
      ]
     },
     "execution_count": 24,
     "metadata": {},
     "output_type": "execute_result"
    }
   ],
   "source": [
    "train_encoded_features.head()"
   ]
  },
  {
   "cell_type": "code",
   "execution_count": 25,
   "metadata": {},
   "outputs": [
    {
     "data": {
      "text/html": [
       "<div>\n",
       "<style scoped>\n",
       "    .dataframe tbody tr th:only-of-type {\n",
       "        vertical-align: middle;\n",
       "    }\n",
       "\n",
       "    .dataframe tbody tr th {\n",
       "        vertical-align: top;\n",
       "    }\n",
       "\n",
       "    .dataframe thead th {\n",
       "        text-align: right;\n",
       "    }\n",
       "</style>\n",
       "<table border=\"1\" class=\"dataframe\">\n",
       "  <thead>\n",
       "    <tr style=\"text-align: right;\">\n",
       "      <th></th>\n",
       "      <th>country</th>\n",
       "      <th>province</th>\n",
       "      <th>region_1</th>\n",
       "      <th>region_2</th>\n",
       "      <th>taster_name</th>\n",
       "      <th>variety</th>\n",
       "      <th>winery</th>\n",
       "      <th>price</th>\n",
       "      <th>points</th>\n",
       "    </tr>\n",
       "  </thead>\n",
       "  <tbody>\n",
       "    <tr>\n",
       "      <th>0</th>\n",
       "      <td>22</td>\n",
       "      <td>332</td>\n",
       "      <td>424</td>\n",
       "      <td>6</td>\n",
       "      <td>9</td>\n",
       "      <td>691</td>\n",
       "      <td>11608</td>\n",
       "      <td>-1.0</td>\n",
       "      <td>87</td>\n",
       "    </tr>\n",
       "    <tr>\n",
       "      <th>1</th>\n",
       "      <td>32</td>\n",
       "      <td>108</td>\n",
       "      <td>738</td>\n",
       "      <td>6</td>\n",
       "      <td>16</td>\n",
       "      <td>451</td>\n",
       "      <td>12956</td>\n",
       "      <td>15.0</td>\n",
       "      <td>87</td>\n",
       "    </tr>\n",
       "    <tr>\n",
       "      <th>6</th>\n",
       "      <td>22</td>\n",
       "      <td>332</td>\n",
       "      <td>1205</td>\n",
       "      <td>6</td>\n",
       "      <td>9</td>\n",
       "      <td>186</td>\n",
       "      <td>15014</td>\n",
       "      <td>16.0</td>\n",
       "      <td>87</td>\n",
       "    </tr>\n",
       "    <tr>\n",
       "      <th>7</th>\n",
       "      <td>15</td>\n",
       "      <td>11</td>\n",
       "      <td>21</td>\n",
       "      <td>6</td>\n",
       "      <td>16</td>\n",
       "      <td>209</td>\n",
       "      <td>15395</td>\n",
       "      <td>24.0</td>\n",
       "      <td>87</td>\n",
       "    </tr>\n",
       "    <tr>\n",
       "      <th>9</th>\n",
       "      <td>15</td>\n",
       "      <td>11</td>\n",
       "      <td>21</td>\n",
       "      <td>6</td>\n",
       "      <td>16</td>\n",
       "      <td>437</td>\n",
       "      <td>8989</td>\n",
       "      <td>27.0</td>\n",
       "      <td>87</td>\n",
       "    </tr>\n",
       "  </tbody>\n",
       "</table>\n",
       "</div>"
      ],
      "text/plain": [
       "   country  province  region_1  region_2  taster_name  variety  winery  price  \\\n",
       "0       22       332       424         6            9      691   11608   -1.0   \n",
       "1       32       108       738         6           16      451   12956   15.0   \n",
       "6       22       332      1205         6            9      186   15014   16.0   \n",
       "7       15        11        21         6           16      209   15395   24.0   \n",
       "9       15        11        21         6           16      437    8989   27.0   \n",
       "\n",
       "   points  \n",
       "0      87  \n",
       "1      87  \n",
       "6      87  \n",
       "7      87  \n",
       "9      87  "
      ]
     },
     "execution_count": 25,
     "metadata": {},
     "output_type": "execute_result"
    }
   ],
   "source": [
    "test_encoded_features.head()"
   ]
  },
  {
   "cell_type": "markdown",
   "metadata": {},
   "source": [
    "#### Fitting a tree-regressor"
   ]
  },
  {
   "cell_type": "code",
   "execution_count": 26,
   "metadata": {},
   "outputs": [],
   "source": [
    "from src.models import i_feel_lucky_xgboost_training"
   ]
  },
  {
   "cell_type": "code",
   "execution_count": 27,
   "metadata": {},
   "outputs": [
    {
     "name": "stdout",
     "output_type": "stream",
     "text": [
      "<class 'pandas.core.frame.DataFrame'>\n",
      "Int64Index: 95990 entries, 2 to 129970\n",
      "Data columns (total 9 columns):\n",
      " #   Column       Non-Null Count  Dtype  \n",
      "---  ------       --------------  -----  \n",
      " 0   country      95990 non-null  int64  \n",
      " 1   province     95990 non-null  int64  \n",
      " 2   region_1     95990 non-null  int64  \n",
      " 3   region_2     95990 non-null  int64  \n",
      " 4   taster_name  95990 non-null  int64  \n",
      " 5   variety      95990 non-null  int64  \n",
      " 6   winery       95990 non-null  int64  \n",
      " 7   price        95990 non-null  float64\n",
      " 8   points       95990 non-null  int64  \n",
      "dtypes: float64(1), int64(8)\n",
      "memory usage: 7.3 MB\n"
     ]
    }
   ],
   "source": [
    "train_encoded_features.info()"
   ]
  },
  {
   "cell_type": "code",
   "execution_count": 28,
   "metadata": {},
   "outputs": [],
   "source": [
    "xgb_clf, clf_name = i_feel_lucky_xgboost_training(train_encoded_features, test_encoded_features, features, 'points', name='xgb_clf_points_prediction')"
   ]
  },
  {
   "cell_type": "markdown",
   "metadata": {},
   "source": [
    "Let's look at the function output - specifically the **xgb_clf_points_prediction** column:"
   ]
  },
  {
   "cell_type": "code",
   "execution_count": 29,
   "metadata": {},
   "outputs": [
    {
     "data": {
      "text/html": [
       "<div>\n",
       "<style scoped>\n",
       "    .dataframe tbody tr th:only-of-type {\n",
       "        vertical-align: middle;\n",
       "    }\n",
       "\n",
       "    .dataframe tbody tr th {\n",
       "        vertical-align: top;\n",
       "    }\n",
       "\n",
       "    .dataframe thead th {\n",
       "        text-align: right;\n",
       "    }\n",
       "</style>\n",
       "<table border=\"1\" class=\"dataframe\">\n",
       "  <thead>\n",
       "    <tr style=\"text-align: right;\">\n",
       "      <th></th>\n",
       "      <th>country</th>\n",
       "      <th>province</th>\n",
       "      <th>region_1</th>\n",
       "      <th>region_2</th>\n",
       "      <th>taster_name</th>\n",
       "      <th>variety</th>\n",
       "      <th>winery</th>\n",
       "      <th>price</th>\n",
       "      <th>points</th>\n",
       "      <th>xgb_clf_points_prediction</th>\n",
       "    </tr>\n",
       "  </thead>\n",
       "  <tbody>\n",
       "    <tr>\n",
       "      <th>0</th>\n",
       "      <td>22</td>\n",
       "      <td>332</td>\n",
       "      <td>424</td>\n",
       "      <td>6</td>\n",
       "      <td>9</td>\n",
       "      <td>691</td>\n",
       "      <td>11608</td>\n",
       "      <td>-1.0</td>\n",
       "      <td>87</td>\n",
       "      <td>87</td>\n",
       "    </tr>\n",
       "    <tr>\n",
       "      <th>1</th>\n",
       "      <td>32</td>\n",
       "      <td>108</td>\n",
       "      <td>738</td>\n",
       "      <td>6</td>\n",
       "      <td>16</td>\n",
       "      <td>451</td>\n",
       "      <td>12956</td>\n",
       "      <td>15.0</td>\n",
       "      <td>87</td>\n",
       "      <td>87</td>\n",
       "    </tr>\n",
       "    <tr>\n",
       "      <th>6</th>\n",
       "      <td>22</td>\n",
       "      <td>332</td>\n",
       "      <td>1205</td>\n",
       "      <td>6</td>\n",
       "      <td>9</td>\n",
       "      <td>186</td>\n",
       "      <td>15014</td>\n",
       "      <td>16.0</td>\n",
       "      <td>87</td>\n",
       "      <td>87</td>\n",
       "    </tr>\n",
       "    <tr>\n",
       "      <th>7</th>\n",
       "      <td>15</td>\n",
       "      <td>11</td>\n",
       "      <td>21</td>\n",
       "      <td>6</td>\n",
       "      <td>16</td>\n",
       "      <td>209</td>\n",
       "      <td>15395</td>\n",
       "      <td>24.0</td>\n",
       "      <td>87</td>\n",
       "      <td>88</td>\n",
       "    </tr>\n",
       "    <tr>\n",
       "      <th>9</th>\n",
       "      <td>15</td>\n",
       "      <td>11</td>\n",
       "      <td>21</td>\n",
       "      <td>6</td>\n",
       "      <td>16</td>\n",
       "      <td>437</td>\n",
       "      <td>8989</td>\n",
       "      <td>27.0</td>\n",
       "      <td>87</td>\n",
       "      <td>88</td>\n",
       "    </tr>\n",
       "  </tbody>\n",
       "</table>\n",
       "</div>"
      ],
      "text/plain": [
       "   country  province  region_1  region_2  taster_name  variety  winery  price  \\\n",
       "0       22       332       424         6            9      691   11608   -1.0   \n",
       "1       32       108       738         6           16      451   12956   15.0   \n",
       "6       22       332      1205         6            9      186   15014   16.0   \n",
       "7       15        11        21         6           16      209   15395   24.0   \n",
       "9       15        11        21         6           16      437    8989   27.0   \n",
       "\n",
       "   points  xgb_clf_points_prediction  \n",
       "0      87                         87  \n",
       "1      87                         87  \n",
       "6      87                         87  \n",
       "7      87                         88  \n",
       "9      87                         88  "
      ]
     },
     "execution_count": 29,
     "metadata": {},
     "output_type": "execute_result"
    }
   ],
   "source": [
    "test_encoded_features.head()"
   ]
  },
  {
   "cell_type": "code",
   "execution_count": 30,
   "metadata": {},
   "outputs": [
    {
     "data": {
      "text/plain": [
       "MSE    6.358655\n",
       "MAE    1.906784\n",
       "R2     0.334607\n",
       "dtype: float64"
      ]
     },
     "execution_count": 30,
     "metadata": {},
     "output_type": "execute_result"
    }
   ],
   "source": [
    "xgb_stats = calc_prediction_quality(test_encoded_features, 'xgb_clf_points_prediction','points')\n",
    "xgb_stats"
   ]
  },
  {
   "cell_type": "code",
   "execution_count": 31,
   "metadata": {},
   "outputs": [
    {
     "data": {
      "text/html": [
       "<div>\n",
       "<style scoped>\n",
       "    .dataframe tbody tr th:only-of-type {\n",
       "        vertical-align: middle;\n",
       "    }\n",
       "\n",
       "    .dataframe tbody tr th {\n",
       "        vertical-align: top;\n",
       "    }\n",
       "\n",
       "    .dataframe thead th {\n",
       "        text-align: right;\n",
       "    }\n",
       "</style>\n",
       "<table border=\"1\" class=\"dataframe\">\n",
       "  <thead>\n",
       "    <tr style=\"text-align: right;\">\n",
       "      <th></th>\n",
       "      <th>MSE</th>\n",
       "      <th>MAE</th>\n",
       "      <th>R2</th>\n",
       "    </tr>\n",
       "  </thead>\n",
       "  <tbody>\n",
       "    <tr>\n",
       "      <th>baseline_1</th>\n",
       "      <td>9.556321</td>\n",
       "      <td>2.529918</td>\n",
       "      <td>-0.000008</td>\n",
       "    </tr>\n",
       "    <tr>\n",
       "      <th>baseline_2</th>\n",
       "      <td>9.055044</td>\n",
       "      <td>2.457114</td>\n",
       "      <td>0.052447</td>\n",
       "    </tr>\n",
       "    <tr>\n",
       "      <th>baseline_3</th>\n",
       "      <td>8.507232</td>\n",
       "      <td>2.364351</td>\n",
       "      <td>0.109772</td>\n",
       "    </tr>\n",
       "    <tr>\n",
       "      <th>regression_by_xgb</th>\n",
       "      <td>6.358655</td>\n",
       "      <td>1.906784</td>\n",
       "      <td>0.334607</td>\n",
       "    </tr>\n",
       "  </tbody>\n",
       "</table>\n",
       "</div>"
      ],
      "text/plain": [
       "                        MSE       MAE        R2\n",
       "baseline_1         9.556321  2.529918 -0.000008\n",
       "baseline_2         9.055044  2.457114  0.052447\n",
       "baseline_3         8.507232  2.364351  0.109772\n",
       "regression_by_xgb  6.358655  1.906784  0.334607"
      ]
     },
     "execution_count": 31,
     "metadata": {},
     "output_type": "execute_result"
    }
   ],
   "source": [
    "all_compared = pd.DataFrame([b1_stats, b2_stats, b3_stats, xgb_stats], index=['baseline_1', 'baseline_2','baseline_3','regression_by_xgb'])\n",
    "all_compared"
   ]
  },
  {
   "cell_type": "code",
   "execution_count": 32,
   "metadata": {},
   "outputs": [],
   "source": [
    "all_compared.to_csv('data/all_models_compared.csv', index=False)"
   ]
  },
  {
   "cell_type": "markdown",
   "metadata": {},
   "source": [
    "## Classical NLP approaches"
   ]
  },
  {
   "cell_type": "markdown",
   "metadata": {},
   "source": [
    "### Using only the text from the \"description\" column"
   ]
  },
  {
   "cell_type": "markdown",
   "metadata": {},
   "source": [
    "<div class=\"alert alert-block alert-warning\">\n",
    "<b>TBD</b>\n",
    "</div>"
   ]
  },
  {
   "cell_type": "markdown",
   "metadata": {},
   "source": [
    "### Data exploration"
   ]
  },
  {
   "cell_type": "code",
   "execution_count": 33,
   "metadata": {},
   "outputs": [
    {
     "name": "stderr",
     "output_type": "stream",
     "text": [
      "[nltk_data] Downloading package stopwords to\n",
      "[nltk_data]     /Users/charrlel/nltk_data...\n",
      "[nltk_data]   Package stopwords is already up-to-date!\n"
     ]
    },
    {
     "data": {
      "text/plain": [
       "True"
      ]
     },
     "execution_count": 33,
     "metadata": {},
     "output_type": "execute_result"
    }
   ],
   "source": [
    "import nltk\n",
    "nltk.download('stopwords')"
   ]
  },
  {
   "cell_type": "code",
   "execution_count": 34,
   "metadata": {},
   "outputs": [
    {
     "data": {
      "text/plain": [
       "['i', 'me', 'my', 'myself', 'we']"
      ]
     },
     "execution_count": 34,
     "metadata": {},
     "output_type": "execute_result"
    }
   ],
   "source": [
    "stopwords=nltk.corpus.stopwords.words(\"english\")\n",
    "stopwords[:5]"
   ]
  },
  {
   "cell_type": "markdown",
   "metadata": {},
   "source": [
    "#### Creating vocabulary from the Train set only:"
   ]
  },
  {
   "cell_type": "code",
   "execution_count": 35,
   "metadata": {},
   "outputs": [
    {
     "data": {
      "text/html": [
       "<div>\n",
       "<style scoped>\n",
       "    .dataframe tbody tr th:only-of-type {\n",
       "        vertical-align: middle;\n",
       "    }\n",
       "\n",
       "    .dataframe tbody tr th {\n",
       "        vertical-align: top;\n",
       "    }\n",
       "\n",
       "    .dataframe thead th {\n",
       "        text-align: right;\n",
       "    }\n",
       "</style>\n",
       "<table border=\"1\" class=\"dataframe\">\n",
       "  <thead>\n",
       "    <tr style=\"text-align: right;\">\n",
       "      <th></th>\n",
       "      <th>word</th>\n",
       "      <th>wordCount</th>\n",
       "      <th>wordImportance</th>\n",
       "    </tr>\n",
       "  </thead>\n",
       "  <tbody>\n",
       "    <tr>\n",
       "      <th>0</th>\n",
       "      <td>,</td>\n",
       "      <td>326259</td>\n",
       "      <td>3.881631e-07</td>\n",
       "    </tr>\n",
       "    <tr>\n",
       "      <th>1</th>\n",
       "      <td>.</td>\n",
       "      <td>261136</td>\n",
       "      <td>4.849646e-07</td>\n",
       "    </tr>\n",
       "    <tr>\n",
       "      <th>2</th>\n",
       "      <td>wine</td>\n",
       "      <td>59077</td>\n",
       "      <td>2.143672e-06</td>\n",
       "    </tr>\n",
       "    <tr>\n",
       "      <th>3</th>\n",
       "      <td>flavors</td>\n",
       "      <td>46430</td>\n",
       "      <td>2.727584e-06</td>\n",
       "    </tr>\n",
       "    <tr>\n",
       "      <th>4</th>\n",
       "      <td>'s</td>\n",
       "      <td>38321</td>\n",
       "      <td>3.304760e-06</td>\n",
       "    </tr>\n",
       "  </tbody>\n",
       "</table>\n",
       "</div>"
      ],
      "text/plain": [
       "      word  wordCount  wordImportance\n",
       "0        ,     326259    3.881631e-07\n",
       "1        .     261136    4.849646e-07\n",
       "2     wine      59077    2.143672e-06\n",
       "3  flavors      46430    2.727584e-06\n",
       "4       's      38321    3.304760e-06"
      ]
     },
     "execution_count": 35,
     "metadata": {},
     "output_type": "execute_result"
    }
   ],
   "source": [
    "all_words = [word for desc in train_data.desc_low for word in nltk.word_tokenize(desc) if word.lower() not in stopwords] # Words without stop words\n",
    "words_df = pd.DataFrame(data = all_words, columns = ['word']).word.value_counts().reset_index()\n",
    "words_df.columns = ['word','wordCount']\n",
    "words_df['wordImportance'] = len(words_df) / words_df.wordCount / words_df.wordCount.max()\n",
    "words_df.head()"
   ]
  },
  {
   "cell_type": "code",
   "execution_count": 36,
   "metadata": {},
   "outputs": [
    {
     "data": {
      "text/plain": [
       "(41318, 3)"
      ]
     },
     "execution_count": 36,
     "metadata": {},
     "output_type": "execute_result"
    }
   ],
   "source": [
    "words_df.shape"
   ]
  },
  {
   "cell_type": "code",
   "execution_count": 37,
   "metadata": {},
   "outputs": [
    {
     "data": {
      "application/vnd.plotly.v1+json": {
       "config": {
        "linkText": "Export to plot.ly",
        "plotlyServerURL": "https://plot.ly",
        "showLink": true
       },
       "data": [
        {
         "marker": {
          "color": "rgba(255, 153, 51, 0.6)",
          "line": {
           "color": "rgba(255, 153, 51, 1.0)",
           "width": 1
          }
         },
         "name": "wordCount",
         "orientation": "v",
         "text": "",
         "type": "bar",
         "x": [
          ",",
          ".",
          "wine",
          "flavors",
          "'s",
          "fruit",
          "aromas",
          "palate",
          "finish",
          "acidity",
          "tannins",
          "drink",
          "cherry",
          "ripe",
          "black",
          "%",
          "notes",
          "spice",
          "red",
          "rich"
         ],
         "y": [
          326259,
          261136,
          59077,
          46430,
          38321,
          33168,
          29033,
          27812,
          25662,
          25644,
          22791,
          22022,
          20226,
          19741,
          18722,
          14245,
          13990,
          13872,
          13826,
          12894
         ]
        }
       ],
       "layout": {
        "autosize": true,
        "legend": {
         "bgcolor": "#F5F6F9",
         "font": {
          "color": "#4D5663"
         }
        },
        "paper_bgcolor": "#F5F6F9",
        "plot_bgcolor": "#F5F6F9",
        "template": {
         "data": {
          "bar": [
           {
            "error_x": {
             "color": "#2a3f5f"
            },
            "error_y": {
             "color": "#2a3f5f"
            },
            "marker": {
             "line": {
              "color": "#E5ECF6",
              "width": 0.5
             },
             "pattern": {
              "fillmode": "overlay",
              "size": 10,
              "solidity": 0.2
             }
            },
            "type": "bar"
           }
          ],
          "barpolar": [
           {
            "marker": {
             "line": {
              "color": "#E5ECF6",
              "width": 0.5
             },
             "pattern": {
              "fillmode": "overlay",
              "size": 10,
              "solidity": 0.2
             }
            },
            "type": "barpolar"
           }
          ],
          "carpet": [
           {
            "aaxis": {
             "endlinecolor": "#2a3f5f",
             "gridcolor": "white",
             "linecolor": "white",
             "minorgridcolor": "white",
             "startlinecolor": "#2a3f5f"
            },
            "baxis": {
             "endlinecolor": "#2a3f5f",
             "gridcolor": "white",
             "linecolor": "white",
             "minorgridcolor": "white",
             "startlinecolor": "#2a3f5f"
            },
            "type": "carpet"
           }
          ],
          "choropleth": [
           {
            "colorbar": {
             "outlinewidth": 0,
             "ticks": ""
            },
            "type": "choropleth"
           }
          ],
          "contour": [
           {
            "colorbar": {
             "outlinewidth": 0,
             "ticks": ""
            },
            "colorscale": [
             [
              0,
              "#0d0887"
             ],
             [
              0.1111111111111111,
              "#46039f"
             ],
             [
              0.2222222222222222,
              "#7201a8"
             ],
             [
              0.3333333333333333,
              "#9c179e"
             ],
             [
              0.4444444444444444,
              "#bd3786"
             ],
             [
              0.5555555555555556,
              "#d8576b"
             ],
             [
              0.6666666666666666,
              "#ed7953"
             ],
             [
              0.7777777777777778,
              "#fb9f3a"
             ],
             [
              0.8888888888888888,
              "#fdca26"
             ],
             [
              1,
              "#f0f921"
             ]
            ],
            "type": "contour"
           }
          ],
          "contourcarpet": [
           {
            "colorbar": {
             "outlinewidth": 0,
             "ticks": ""
            },
            "type": "contourcarpet"
           }
          ],
          "heatmap": [
           {
            "colorbar": {
             "outlinewidth": 0,
             "ticks": ""
            },
            "colorscale": [
             [
              0,
              "#0d0887"
             ],
             [
              0.1111111111111111,
              "#46039f"
             ],
             [
              0.2222222222222222,
              "#7201a8"
             ],
             [
              0.3333333333333333,
              "#9c179e"
             ],
             [
              0.4444444444444444,
              "#bd3786"
             ],
             [
              0.5555555555555556,
              "#d8576b"
             ],
             [
              0.6666666666666666,
              "#ed7953"
             ],
             [
              0.7777777777777778,
              "#fb9f3a"
             ],
             [
              0.8888888888888888,
              "#fdca26"
             ],
             [
              1,
              "#f0f921"
             ]
            ],
            "type": "heatmap"
           }
          ],
          "heatmapgl": [
           {
            "colorbar": {
             "outlinewidth": 0,
             "ticks": ""
            },
            "colorscale": [
             [
              0,
              "#0d0887"
             ],
             [
              0.1111111111111111,
              "#46039f"
             ],
             [
              0.2222222222222222,
              "#7201a8"
             ],
             [
              0.3333333333333333,
              "#9c179e"
             ],
             [
              0.4444444444444444,
              "#bd3786"
             ],
             [
              0.5555555555555556,
              "#d8576b"
             ],
             [
              0.6666666666666666,
              "#ed7953"
             ],
             [
              0.7777777777777778,
              "#fb9f3a"
             ],
             [
              0.8888888888888888,
              "#fdca26"
             ],
             [
              1,
              "#f0f921"
             ]
            ],
            "type": "heatmapgl"
           }
          ],
          "histogram": [
           {
            "marker": {
             "pattern": {
              "fillmode": "overlay",
              "size": 10,
              "solidity": 0.2
             }
            },
            "type": "histogram"
           }
          ],
          "histogram2d": [
           {
            "colorbar": {
             "outlinewidth": 0,
             "ticks": ""
            },
            "colorscale": [
             [
              0,
              "#0d0887"
             ],
             [
              0.1111111111111111,
              "#46039f"
             ],
             [
              0.2222222222222222,
              "#7201a8"
             ],
             [
              0.3333333333333333,
              "#9c179e"
             ],
             [
              0.4444444444444444,
              "#bd3786"
             ],
             [
              0.5555555555555556,
              "#d8576b"
             ],
             [
              0.6666666666666666,
              "#ed7953"
             ],
             [
              0.7777777777777778,
              "#fb9f3a"
             ],
             [
              0.8888888888888888,
              "#fdca26"
             ],
             [
              1,
              "#f0f921"
             ]
            ],
            "type": "histogram2d"
           }
          ],
          "histogram2dcontour": [
           {
            "colorbar": {
             "outlinewidth": 0,
             "ticks": ""
            },
            "colorscale": [
             [
              0,
              "#0d0887"
             ],
             [
              0.1111111111111111,
              "#46039f"
             ],
             [
              0.2222222222222222,
              "#7201a8"
             ],
             [
              0.3333333333333333,
              "#9c179e"
             ],
             [
              0.4444444444444444,
              "#bd3786"
             ],
             [
              0.5555555555555556,
              "#d8576b"
             ],
             [
              0.6666666666666666,
              "#ed7953"
             ],
             [
              0.7777777777777778,
              "#fb9f3a"
             ],
             [
              0.8888888888888888,
              "#fdca26"
             ],
             [
              1,
              "#f0f921"
             ]
            ],
            "type": "histogram2dcontour"
           }
          ],
          "mesh3d": [
           {
            "colorbar": {
             "outlinewidth": 0,
             "ticks": ""
            },
            "type": "mesh3d"
           }
          ],
          "parcoords": [
           {
            "line": {
             "colorbar": {
              "outlinewidth": 0,
              "ticks": ""
             }
            },
            "type": "parcoords"
           }
          ],
          "pie": [
           {
            "automargin": true,
            "type": "pie"
           }
          ],
          "scatter": [
           {
            "marker": {
             "colorbar": {
              "outlinewidth": 0,
              "ticks": ""
             }
            },
            "type": "scatter"
           }
          ],
          "scatter3d": [
           {
            "line": {
             "colorbar": {
              "outlinewidth": 0,
              "ticks": ""
             }
            },
            "marker": {
             "colorbar": {
              "outlinewidth": 0,
              "ticks": ""
             }
            },
            "type": "scatter3d"
           }
          ],
          "scattercarpet": [
           {
            "marker": {
             "colorbar": {
              "outlinewidth": 0,
              "ticks": ""
             }
            },
            "type": "scattercarpet"
           }
          ],
          "scattergeo": [
           {
            "marker": {
             "colorbar": {
              "outlinewidth": 0,
              "ticks": ""
             }
            },
            "type": "scattergeo"
           }
          ],
          "scattergl": [
           {
            "marker": {
             "colorbar": {
              "outlinewidth": 0,
              "ticks": ""
             }
            },
            "type": "scattergl"
           }
          ],
          "scattermapbox": [
           {
            "marker": {
             "colorbar": {
              "outlinewidth": 0,
              "ticks": ""
             }
            },
            "type": "scattermapbox"
           }
          ],
          "scatterpolar": [
           {
            "marker": {
             "colorbar": {
              "outlinewidth": 0,
              "ticks": ""
             }
            },
            "type": "scatterpolar"
           }
          ],
          "scatterpolargl": [
           {
            "marker": {
             "colorbar": {
              "outlinewidth": 0,
              "ticks": ""
             }
            },
            "type": "scatterpolargl"
           }
          ],
          "scatterternary": [
           {
            "marker": {
             "colorbar": {
              "outlinewidth": 0,
              "ticks": ""
             }
            },
            "type": "scatterternary"
           }
          ],
          "surface": [
           {
            "colorbar": {
             "outlinewidth": 0,
             "ticks": ""
            },
            "colorscale": [
             [
              0,
              "#0d0887"
             ],
             [
              0.1111111111111111,
              "#46039f"
             ],
             [
              0.2222222222222222,
              "#7201a8"
             ],
             [
              0.3333333333333333,
              "#9c179e"
             ],
             [
              0.4444444444444444,
              "#bd3786"
             ],
             [
              0.5555555555555556,
              "#d8576b"
             ],
             [
              0.6666666666666666,
              "#ed7953"
             ],
             [
              0.7777777777777778,
              "#fb9f3a"
             ],
             [
              0.8888888888888888,
              "#fdca26"
             ],
             [
              1,
              "#f0f921"
             ]
            ],
            "type": "surface"
           }
          ],
          "table": [
           {
            "cells": {
             "fill": {
              "color": "#EBF0F8"
             },
             "line": {
              "color": "white"
             }
            },
            "header": {
             "fill": {
              "color": "#C8D4E3"
             },
             "line": {
              "color": "white"
             }
            },
            "type": "table"
           }
          ]
         },
         "layout": {
          "annotationdefaults": {
           "arrowcolor": "#2a3f5f",
           "arrowhead": 0,
           "arrowwidth": 1
          },
          "autotypenumbers": "strict",
          "coloraxis": {
           "colorbar": {
            "outlinewidth": 0,
            "ticks": ""
           }
          },
          "colorscale": {
           "diverging": [
            [
             0,
             "#8e0152"
            ],
            [
             0.1,
             "#c51b7d"
            ],
            [
             0.2,
             "#de77ae"
            ],
            [
             0.3,
             "#f1b6da"
            ],
            [
             0.4,
             "#fde0ef"
            ],
            [
             0.5,
             "#f7f7f7"
            ],
            [
             0.6,
             "#e6f5d0"
            ],
            [
             0.7,
             "#b8e186"
            ],
            [
             0.8,
             "#7fbc41"
            ],
            [
             0.9,
             "#4d9221"
            ],
            [
             1,
             "#276419"
            ]
           ],
           "sequential": [
            [
             0,
             "#0d0887"
            ],
            [
             0.1111111111111111,
             "#46039f"
            ],
            [
             0.2222222222222222,
             "#7201a8"
            ],
            [
             0.3333333333333333,
             "#9c179e"
            ],
            [
             0.4444444444444444,
             "#bd3786"
            ],
            [
             0.5555555555555556,
             "#d8576b"
            ],
            [
             0.6666666666666666,
             "#ed7953"
            ],
            [
             0.7777777777777778,
             "#fb9f3a"
            ],
            [
             0.8888888888888888,
             "#fdca26"
            ],
            [
             1,
             "#f0f921"
            ]
           ],
           "sequentialminus": [
            [
             0,
             "#0d0887"
            ],
            [
             0.1111111111111111,
             "#46039f"
            ],
            [
             0.2222222222222222,
             "#7201a8"
            ],
            [
             0.3333333333333333,
             "#9c179e"
            ],
            [
             0.4444444444444444,
             "#bd3786"
            ],
            [
             0.5555555555555556,
             "#d8576b"
            ],
            [
             0.6666666666666666,
             "#ed7953"
            ],
            [
             0.7777777777777778,
             "#fb9f3a"
            ],
            [
             0.8888888888888888,
             "#fdca26"
            ],
            [
             1,
             "#f0f921"
            ]
           ]
          },
          "colorway": [
           "#636efa",
           "#EF553B",
           "#00cc96",
           "#ab63fa",
           "#FFA15A",
           "#19d3f3",
           "#FF6692",
           "#B6E880",
           "#FF97FF",
           "#FECB52"
          ],
          "font": {
           "color": "#2a3f5f"
          },
          "geo": {
           "bgcolor": "white",
           "lakecolor": "white",
           "landcolor": "#E5ECF6",
           "showlakes": true,
           "showland": true,
           "subunitcolor": "white"
          },
          "hoverlabel": {
           "align": "left"
          },
          "hovermode": "closest",
          "mapbox": {
           "style": "light"
          },
          "paper_bgcolor": "white",
          "plot_bgcolor": "#E5ECF6",
          "polar": {
           "angularaxis": {
            "gridcolor": "white",
            "linecolor": "white",
            "ticks": ""
           },
           "bgcolor": "#E5ECF6",
           "radialaxis": {
            "gridcolor": "white",
            "linecolor": "white",
            "ticks": ""
           }
          },
          "scene": {
           "xaxis": {
            "backgroundcolor": "#E5ECF6",
            "gridcolor": "white",
            "gridwidth": 2,
            "linecolor": "white",
            "showbackground": true,
            "ticks": "",
            "zerolinecolor": "white"
           },
           "yaxis": {
            "backgroundcolor": "#E5ECF6",
            "gridcolor": "white",
            "gridwidth": 2,
            "linecolor": "white",
            "showbackground": true,
            "ticks": "",
            "zerolinecolor": "white"
           },
           "zaxis": {
            "backgroundcolor": "#E5ECF6",
            "gridcolor": "white",
            "gridwidth": 2,
            "linecolor": "white",
            "showbackground": true,
            "ticks": "",
            "zerolinecolor": "white"
           }
          },
          "shapedefaults": {
           "line": {
            "color": "#2a3f5f"
           }
          },
          "ternary": {
           "aaxis": {
            "gridcolor": "white",
            "linecolor": "white",
            "ticks": ""
           },
           "baxis": {
            "gridcolor": "white",
            "linecolor": "white",
            "ticks": ""
           },
           "bgcolor": "#E5ECF6",
           "caxis": {
            "gridcolor": "white",
            "linecolor": "white",
            "ticks": ""
           }
          },
          "title": {
           "x": 0.05
          },
          "xaxis": {
           "automargin": true,
           "gridcolor": "white",
           "linecolor": "white",
           "ticks": "",
           "title": {
            "standoff": 15
           },
           "zerolinecolor": "white",
           "zerolinewidth": 2
          },
          "yaxis": {
           "automargin": true,
           "gridcolor": "white",
           "linecolor": "white",
           "ticks": "",
           "title": {
            "standoff": 15
           },
           "zerolinecolor": "white",
           "zerolinewidth": 2
          }
         }
        },
        "title": {
         "font": {
          "color": "#4D5663"
         },
         "text": "Most frequent words in Corpus"
        },
        "xaxis": {
         "autorange": true,
         "gridcolor": "#E1E5ED",
         "range": [
          -0.5,
          19.5
         ],
         "showgrid": true,
         "tickfont": {
          "color": "#4D5663"
         },
         "title": {
          "font": {
           "color": "#4D5663"
          },
          "text": "Word"
         },
         "type": "category",
         "zerolinecolor": "#E1E5ED"
        },
        "yaxis": {
         "autorange": true,
         "gridcolor": "#E1E5ED",
         "range": [
          0,
          343430.5263157895
         ],
         "showgrid": true,
         "tickfont": {
          "color": "#4D5663"
         },
         "title": {
          "font": {
           "color": "#4D5663"
          },
          "text": "Count"
         },
         "type": "linear",
         "zerolinecolor": "#E1E5ED"
        }
       }
      },
      "image/png": "[encoded data removed]",
      "text/html": [
       "<div>                            <div id=\"0b5a73ee-b139-4eb7-af74-f00d7e3a2066\" class=\"plotly-graph-div\" style=\"height:525px; width:100%;\"></div>            <script type=\"text/javascript\">                require([\"plotly\"], function(Plotly) {                    window.PLOTLYENV=window.PLOTLYENV || {};\n",
       "                    window.PLOTLYENV.BASE_URL='https://plot.ly';                                    if (document.getElementById(\"0b5a73ee-b139-4eb7-af74-f00d7e3a2066\")) {                    Plotly.newPlot(                        \"0b5a73ee-b139-4eb7-af74-f00d7e3a2066\",                        [{\"marker\":{\"color\":\"rgba(255, 153, 51, 0.6)\",\"line\":{\"color\":\"rgba(255, 153, 51, 1.0)\",\"width\":1}},\"name\":\"wordCount\",\"orientation\":\"v\",\"text\":\"\",\"type\":\"bar\",\"x\":[\",\",\".\",\"wine\",\"flavors\",\"'s\",\"fruit\",\"aromas\",\"palate\",\"finish\",\"acidity\",\"tannins\",\"drink\",\"cherry\",\"ripe\",\"black\",\"%\",\"notes\",\"spice\",\"red\",\"rich\"],\"y\":[326259,261136,59077,46430,38321,33168,29033,27812,25662,25644,22791,22022,20226,19741,18722,14245,13990,13872,13826,12894]}],                        {\"legend\":{\"bgcolor\":\"#F5F6F9\",\"font\":{\"color\":\"#4D5663\"}},\"paper_bgcolor\":\"#F5F6F9\",\"plot_bgcolor\":\"#F5F6F9\",\"template\":{\"data\":{\"bar\":[{\"error_x\":{\"color\":\"#2a3f5f\"},\"error_y\":{\"color\":\"#2a3f5f\"},\"marker\":{\"line\":{\"color\":\"#E5ECF6\",\"width\":0.5},\"pattern\":{\"fillmode\":\"overlay\",\"size\":10,\"solidity\":0.2}},\"type\":\"bar\"}],\"barpolar\":[{\"marker\":{\"line\":{\"color\":\"#E5ECF6\",\"width\":0.5},\"pattern\":{\"fillmode\":\"overlay\",\"size\":10,\"solidity\":0.2}},\"type\":\"barpolar\"}],\"carpet\":[{\"aaxis\":{\"endlinecolor\":\"#2a3f5f\",\"gridcolor\":\"white\",\"linecolor\":\"white\",\"minorgridcolor\":\"white\",\"startlinecolor\":\"#2a3f5f\"},\"baxis\":{\"endlinecolor\":\"#2a3f5f\",\"gridcolor\":\"white\",\"linecolor\":\"white\",\"minorgridcolor\":\"white\",\"startlinecolor\":\"#2a3f5f\"},\"type\":\"carpet\"}],\"choropleth\":[{\"colorbar\":{\"outlinewidth\":0,\"ticks\":\"\"},\"type\":\"choropleth\"}],\"contour\":[{\"colorbar\":{\"outlinewidth\":0,\"ticks\":\"\"},\"colorscale\":[[0.0,\"#0d0887\"],[0.1111111111111111,\"#46039f\"],[0.2222222222222222,\"#7201a8\"],[0.3333333333333333,\"#9c179e\"],[0.4444444444444444,\"#bd3786\"],[0.5555555555555556,\"#d8576b\"],[0.6666666666666666,\"#ed7953\"],[0.7777777777777778,\"#fb9f3a\"],[0.8888888888888888,\"#fdca26\"],[1.0,\"#f0f921\"]],\"type\":\"contour\"}],\"contourcarpet\":[{\"colorbar\":{\"outlinewidth\":0,\"ticks\":\"\"},\"type\":\"contourcarpet\"}],\"heatmap\":[{\"colorbar\":{\"outlinewidth\":0,\"ticks\":\"\"},\"colorscale\":[[0.0,\"#0d0887\"],[0.1111111111111111,\"#46039f\"],[0.2222222222222222,\"#7201a8\"],[0.3333333333333333,\"#9c179e\"],[0.4444444444444444,\"#bd3786\"],[0.5555555555555556,\"#d8576b\"],[0.6666666666666666,\"#ed7953\"],[0.7777777777777778,\"#fb9f3a\"],[0.8888888888888888,\"#fdca26\"],[1.0,\"#f0f921\"]],\"type\":\"heatmap\"}],\"heatmapgl\":[{\"colorbar\":{\"outlinewidth\":0,\"ticks\":\"\"},\"colorscale\":[[0.0,\"#0d0887\"],[0.1111111111111111,\"#46039f\"],[0.2222222222222222,\"#7201a8\"],[0.3333333333333333,\"#9c179e\"],[0.4444444444444444,\"#bd3786\"],[0.5555555555555556,\"#d8576b\"],[0.6666666666666666,\"#ed7953\"],[0.7777777777777778,\"#fb9f3a\"],[0.8888888888888888,\"#fdca26\"],[1.0,\"#f0f921\"]],\"type\":\"heatmapgl\"}],\"histogram\":[{\"marker\":{\"pattern\":{\"fillmode\":\"overlay\",\"size\":10,\"solidity\":0.2}},\"type\":\"histogram\"}],\"histogram2d\":[{\"colorbar\":{\"outlinewidth\":0,\"ticks\":\"\"},\"colorscale\":[[0.0,\"#0d0887\"],[0.1111111111111111,\"#46039f\"],[0.2222222222222222,\"#7201a8\"],[0.3333333333333333,\"#9c179e\"],[0.4444444444444444,\"#bd3786\"],[0.5555555555555556,\"#d8576b\"],[0.6666666666666666,\"#ed7953\"],[0.7777777777777778,\"#fb9f3a\"],[0.8888888888888888,\"#fdca26\"],[1.0,\"#f0f921\"]],\"type\":\"histogram2d\"}],\"histogram2dcontour\":[{\"colorbar\":{\"outlinewidth\":0,\"ticks\":\"\"},\"colorscale\":[[0.0,\"#0d0887\"],[0.1111111111111111,\"#46039f\"],[0.2222222222222222,\"#7201a8\"],[0.3333333333333333,\"#9c179e\"],[0.4444444444444444,\"#bd3786\"],[0.5555555555555556,\"#d8576b\"],[0.6666666666666666,\"#ed7953\"],[0.7777777777777778,\"#fb9f3a\"],[0.8888888888888888,\"#fdca26\"],[1.0,\"#f0f921\"]],\"type\":\"histogram2dcontour\"}],\"mesh3d\":[{\"colorbar\":{\"outlinewidth\":0,\"ticks\":\"\"},\"type\":\"mesh3d\"}],\"parcoords\":[{\"line\":{\"colorbar\":{\"outlinewidth\":0,\"ticks\":\"\"}},\"type\":\"parcoords\"}],\"pie\":[{\"automargin\":true,\"type\":\"pie\"}],\"scatter\":[{\"marker\":{\"colorbar\":{\"outlinewidth\":0,\"ticks\":\"\"}},\"type\":\"scatter\"}],\"scatter3d\":[{\"line\":{\"colorbar\":{\"outlinewidth\":0,\"ticks\":\"\"}},\"marker\":{\"colorbar\":{\"outlinewidth\":0,\"ticks\":\"\"}},\"type\":\"scatter3d\"}],\"scattercarpet\":[{\"marker\":{\"colorbar\":{\"outlinewidth\":0,\"ticks\":\"\"}},\"type\":\"scattercarpet\"}],\"scattergeo\":[{\"marker\":{\"colorbar\":{\"outlinewidth\":0,\"ticks\":\"\"}},\"type\":\"scattergeo\"}],\"scattergl\":[{\"marker\":{\"colorbar\":{\"outlinewidth\":0,\"ticks\":\"\"}},\"type\":\"scattergl\"}],\"scattermapbox\":[{\"marker\":{\"colorbar\":{\"outlinewidth\":0,\"ticks\":\"\"}},\"type\":\"scattermapbox\"}],\"scatterpolar\":[{\"marker\":{\"colorbar\":{\"outlinewidth\":0,\"ticks\":\"\"}},\"type\":\"scatterpolar\"}],\"scatterpolargl\":[{\"marker\":{\"colorbar\":{\"outlinewidth\":0,\"ticks\":\"\"}},\"type\":\"scatterpolargl\"}],\"scatterternary\":[{\"marker\":{\"colorbar\":{\"outlinewidth\":0,\"ticks\":\"\"}},\"type\":\"scatterternary\"}],\"surface\":[{\"colorbar\":{\"outlinewidth\":0,\"ticks\":\"\"},\"colorscale\":[[0.0,\"#0d0887\"],[0.1111111111111111,\"#46039f\"],[0.2222222222222222,\"#7201a8\"],[0.3333333333333333,\"#9c179e\"],[0.4444444444444444,\"#bd3786\"],[0.5555555555555556,\"#d8576b\"],[0.6666666666666666,\"#ed7953\"],[0.7777777777777778,\"#fb9f3a\"],[0.8888888888888888,\"#fdca26\"],[1.0,\"#f0f921\"]],\"type\":\"surface\"}],\"table\":[{\"cells\":{\"fill\":{\"color\":\"#EBF0F8\"},\"line\":{\"color\":\"white\"}},\"header\":{\"fill\":{\"color\":\"#C8D4E3\"},\"line\":{\"color\":\"white\"}},\"type\":\"table\"}]},\"layout\":{\"annotationdefaults\":{\"arrowcolor\":\"#2a3f5f\",\"arrowhead\":0,\"arrowwidth\":1},\"autotypenumbers\":\"strict\",\"coloraxis\":{\"colorbar\":{\"outlinewidth\":0,\"ticks\":\"\"}},\"colorscale\":{\"diverging\":[[0,\"#8e0152\"],[0.1,\"#c51b7d\"],[0.2,\"#de77ae\"],[0.3,\"#f1b6da\"],[0.4,\"#fde0ef\"],[0.5,\"#f7f7f7\"],[0.6,\"#e6f5d0\"],[0.7,\"#b8e186\"],[0.8,\"#7fbc41\"],[0.9,\"#4d9221\"],[1,\"#276419\"]],\"sequential\":[[0.0,\"#0d0887\"],[0.1111111111111111,\"#46039f\"],[0.2222222222222222,\"#7201a8\"],[0.3333333333333333,\"#9c179e\"],[0.4444444444444444,\"#bd3786\"],[0.5555555555555556,\"#d8576b\"],[0.6666666666666666,\"#ed7953\"],[0.7777777777777778,\"#fb9f3a\"],[0.8888888888888888,\"#fdca26\"],[1.0,\"#f0f921\"]],\"sequentialminus\":[[0.0,\"#0d0887\"],[0.1111111111111111,\"#46039f\"],[0.2222222222222222,\"#7201a8\"],[0.3333333333333333,\"#9c179e\"],[0.4444444444444444,\"#bd3786\"],[0.5555555555555556,\"#d8576b\"],[0.6666666666666666,\"#ed7953\"],[0.7777777777777778,\"#fb9f3a\"],[0.8888888888888888,\"#fdca26\"],[1.0,\"#f0f921\"]]},\"colorway\":[\"#636efa\",\"#EF553B\",\"#00cc96\",\"#ab63fa\",\"#FFA15A\",\"#19d3f3\",\"#FF6692\",\"#B6E880\",\"#FF97FF\",\"#FECB52\"],\"font\":{\"color\":\"#2a3f5f\"},\"geo\":{\"bgcolor\":\"white\",\"lakecolor\":\"white\",\"landcolor\":\"#E5ECF6\",\"showlakes\":true,\"showland\":true,\"subunitcolor\":\"white\"},\"hoverlabel\":{\"align\":\"left\"},\"hovermode\":\"closest\",\"mapbox\":{\"style\":\"light\"},\"paper_bgcolor\":\"white\",\"plot_bgcolor\":\"#E5ECF6\",\"polar\":{\"angularaxis\":{\"gridcolor\":\"white\",\"linecolor\":\"white\",\"ticks\":\"\"},\"bgcolor\":\"#E5ECF6\",\"radialaxis\":{\"gridcolor\":\"white\",\"linecolor\":\"white\",\"ticks\":\"\"}},\"scene\":{\"xaxis\":{\"backgroundcolor\":\"#E5ECF6\",\"gridcolor\":\"white\",\"gridwidth\":2,\"linecolor\":\"white\",\"showbackground\":true,\"ticks\":\"\",\"zerolinecolor\":\"white\"},\"yaxis\":{\"backgroundcolor\":\"#E5ECF6\",\"gridcolor\":\"white\",\"gridwidth\":2,\"linecolor\":\"white\",\"showbackground\":true,\"ticks\":\"\",\"zerolinecolor\":\"white\"},\"zaxis\":{\"backgroundcolor\":\"#E5ECF6\",\"gridcolor\":\"white\",\"gridwidth\":2,\"linecolor\":\"white\",\"showbackground\":true,\"ticks\":\"\",\"zerolinecolor\":\"white\"}},\"shapedefaults\":{\"line\":{\"color\":\"#2a3f5f\"}},\"ternary\":{\"aaxis\":{\"gridcolor\":\"white\",\"linecolor\":\"white\",\"ticks\":\"\"},\"baxis\":{\"gridcolor\":\"white\",\"linecolor\":\"white\",\"ticks\":\"\"},\"bgcolor\":\"#E5ECF6\",\"caxis\":{\"gridcolor\":\"white\",\"linecolor\":\"white\",\"ticks\":\"\"}},\"title\":{\"x\":0.05},\"xaxis\":{\"automargin\":true,\"gridcolor\":\"white\",\"linecolor\":\"white\",\"ticks\":\"\",\"title\":{\"standoff\":15},\"zerolinecolor\":\"white\",\"zerolinewidth\":2},\"yaxis\":{\"automargin\":true,\"gridcolor\":\"white\",\"linecolor\":\"white\",\"ticks\":\"\",\"title\":{\"standoff\":15},\"zerolinecolor\":\"white\",\"zerolinewidth\":2}}},\"title\":{\"font\":{\"color\":\"#4D5663\"},\"text\":\"Most frequent words in Corpus\"},\"xaxis\":{\"gridcolor\":\"#E1E5ED\",\"showgrid\":true,\"tickfont\":{\"color\":\"#4D5663\"},\"title\":{\"font\":{\"color\":\"#4D5663\"},\"text\":\"Word\"},\"zerolinecolor\":\"#E1E5ED\"},\"yaxis\":{\"gridcolor\":\"#E1E5ED\",\"showgrid\":true,\"tickfont\":{\"color\":\"#4D5663\"},\"title\":{\"font\":{\"color\":\"#4D5663\"},\"text\":\"Count\"},\"zerolinecolor\":\"#E1E5ED\"}},                        {\"showLink\": true, \"linkText\": \"Export to plot.ly\", \"plotlyServerURL\": \"https://plot.ly\", \"responsive\": true}                    ).then(function(){\n",
       "                            \n",
       "var gd = document.getElementById('0b5a73ee-b139-4eb7-af74-f00d7e3a2066');\n",
       "var x = new MutationObserver(function (mutations, observer) {{\n",
       "        var display = window.getComputedStyle(gd).display;\n",
       "        if (!display || display === 'none') {{\n",
       "            console.log([gd, 'removed!']);\n",
       "            Plotly.purge(gd);\n",
       "            observer.disconnect();\n",
       "        }}\n",
       "}});\n",
       "\n",
       "// Listen for the removal of the full notebook cells\n",
       "var notebookContainer = gd.closest('#notebook-container');\n",
       "if (notebookContainer) {{\n",
       "    x.observe(notebookContainer, {childList: true});\n",
       "}}\n",
       "\n",
       "// Listen for the clearing of the current output cell\n",
       "var outputEl = gd.closest('.output');\n",
       "if (outputEl) {{\n",
       "    x.observe(outputEl, {childList: true});\n",
       "}}\n",
       "\n",
       "                        })                };                });            </script>        </div>"
      ]
     },
     "metadata": {},
     "output_type": "display_data"
    }
   ],
   "source": [
    "words_df.set_index('word').wordCount.head(20).iplot(kind = 'bar', title = 'Most frequent words in Corpus', yTitle = 'Count', xTitle = 'Word')"
   ]
  },
  {
   "cell_type": "code",
   "execution_count": 38,
   "metadata": {},
   "outputs": [
    {
     "name": "stdout",
     "output_type": "stream",
     "text": [
      "Total of 3047494 words, 41318 unique words\n"
     ]
    }
   ],
   "source": [
    "print(\"Total of {} words, {} unique words\".format(len(all_words), len(words_df)))"
   ]
  },
  {
   "cell_type": "code",
   "execution_count": 39,
   "metadata": {},
   "outputs": [
    {
     "name": "stdout",
     "output_type": "stream",
     "text": [
      "Using words with 4 or more appearances will reduce the corpus size to: 13954\n"
     ]
    }
   ],
   "source": [
    "print (\"Using words with 4 or more appearances will reduce the corpus size to: {}\".format(sum(words_df.wordCount >= 4)))"
   ]
  },
  {
   "cell_type": "code",
   "execution_count": 40,
   "metadata": {},
   "outputs": [],
   "source": [
    "words_df = words_df[words_df.wordCount >= 4]"
   ]
  },
  {
   "cell_type": "markdown",
   "metadata": {},
   "source": [
    "#### Bag of words (One-hot-encoding) for Train"
   ]
  },
  {
   "cell_type": "code",
   "execution_count": 41,
   "metadata": {},
   "outputs": [],
   "source": [
    "from sklearn.feature_extraction.text import CountVectorizer\n",
    "from sklearn.feature_extraction.text import TfidfVectorizer"
   ]
  },
  {
   "cell_type": "code",
   "execution_count": 42,
   "metadata": {},
   "outputs": [],
   "source": [
    "clean_vocab = set(words_df.word)"
   ]
  },
  {
   "cell_type": "code",
   "execution_count": 43,
   "metadata": {
    "tags": []
   },
   "outputs": [],
   "source": [
    "count_vect = CountVectorizer(vocabulary = clean_vocab, tokenizer=nltk.word_tokenize)"
   ]
  },
  {
   "cell_type": "code",
   "execution_count": 44,
   "metadata": {
    "tags": []
   },
   "outputs": [
    {
     "data": {
      "text/plain": [
       "<95990x13954 sparse matrix of type '<class 'numpy.int64'>'\n",
       "\twith 2533144 stored elements in Compressed Sparse Row format>"
      ]
     },
     "execution_count": 44,
     "metadata": {},
     "output_type": "execute_result"
    }
   ],
   "source": [
    "clean_bow_counts_train = count_vect.fit_transform(train_data.desc_low)\n",
    "clean_bow_counts_train"
   ]
  },
  {
   "cell_type": "code",
   "execution_count": 45,
   "metadata": {},
   "outputs": [
    {
     "data": {
      "text/plain": [
       "(95990, 13954)"
      ]
     },
     "execution_count": 45,
     "metadata": {},
     "output_type": "execute_result"
    }
   ],
   "source": [
    "clean_bow_counts_train.shape"
   ]
  },
  {
   "cell_type": "markdown",
   "metadata": {},
   "source": [
    "#### Bag of words (One-hot-encoding) for Test"
   ]
  },
  {
   "cell_type": "code",
   "execution_count": 46,
   "metadata": {},
   "outputs": [
    {
     "data": {
      "text/plain": [
       "<23998x13954 sparse matrix of type '<class 'numpy.int64'>'\n",
       "\twith 631283 stored elements in Compressed Sparse Row format>"
      ]
     },
     "execution_count": 46,
     "metadata": {},
     "output_type": "execute_result"
    }
   ],
   "source": [
    "clean_bow_counts_test = count_vect.fit_transform(test_data.desc_low)\n",
    "clean_bow_counts_test"
   ]
  },
  {
   "cell_type": "code",
   "execution_count": 47,
   "metadata": {},
   "outputs": [
    {
     "data": {
      "text/plain": [
       "(23998, 13954)"
      ]
     },
     "execution_count": 47,
     "metadata": {},
     "output_type": "execute_result"
    }
   ],
   "source": [
    "clean_bow_counts_test.shape"
   ]
  },
  {
   "cell_type": "markdown",
   "metadata": {},
   "source": [
    "### Regression (not Classification)"
   ]
  },
  {
   "cell_type": "code",
   "execution_count": 48,
   "metadata": {
    "tags": []
   },
   "outputs": [],
   "source": [
    "import numpy as np\n",
    "from sklearn.model_selection import train_test_split, cross_val_score\n",
    "from sklearn.metrics import roc_auc_score, precision_score, recall_score, accuracy_score, mean_squared_error, r2_score, mean_absolute_error"
   ]
  },
  {
   "cell_type": "code",
   "execution_count": 49,
   "metadata": {
    "tags": []
   },
   "outputs": [],
   "source": [
    "from sklearn.linear_model import LinearRegression, Ridge"
   ]
  },
  {
   "cell_type": "markdown",
   "metadata": {},
   "source": [
    "#### Search for the best alpha on the Train set only :"
   ]
  },
  {
   "cell_type": "code",
   "execution_count": 50,
   "metadata": {},
   "outputs": [],
   "source": [
    "#%%capture\n",
    "search_grid = np.logspace(-2, 4, num=50, endpoint=True, base=10.0)\n",
    "MSE_by_alpha = []\n",
    "for alpha in search_grid:\n",
    "    model = Ridge(alpha=alpha)\n",
    "    avg_score = cross_val_score(model, clean_bow_counts_train, y = train_data.points, cv = 10, scoring = 'neg_mean_squared_error').mean()\n",
    "    MSE_by_alpha.append((alpha,avg_score))"
   ]
  },
  {
   "cell_type": "code",
   "execution_count": 51,
   "metadata": {},
   "outputs": [
    {
     "data": {
      "application/vnd.plotly.v1+json": {
       "config": {
        "linkText": "Export to plot.ly",
        "plotlyServerURL": "https://plot.ly",
        "showLink": true
       },
       "data": [
        {
         "line": {
          "color": "rgba(255, 153, 51, 1.0)",
          "dash": "solid",
          "shape": "linear",
          "width": 3
         },
         "mode": "lines",
         "name": "MSE",
         "text": "",
         "type": "scatter",
         "x": [
          0.01,
          0.013257113655901088,
          0.017575106248547922,
          0.023299518105153717,
          0.030888435964774818,
          0.040949150623804255,
          0.054286754393238594,
          0.07196856730011521,
          0.09540954763499938,
          0.12648552168552957,
          0.16768329368110083,
          0.22229964825261944,
          0.29470517025518095,
          0.3906939937054617,
          0.517947467923121,
          0.6866488450043002,
          0.9102981779915218,
          1.2067926406393288,
          1.5998587196060574,
          2.1209508879201904,
          2.8117686979742307,
          3.727593720314938,
          4.941713361323833,
          6.551285568595509,
          8.68511373751352,
          11.513953993264469,
          15.264179671752334,
          20.235896477251575,
          26.826957952797247,
          35.564803062231285,
          47.14866363457394
         ],
         "y": [
          -3.250735338353768,
          -3.2489857689631783,
          -3.245147890960774,
          -3.243580487039145,
          -3.241313833981335,
          -3.238510798527656,
          -3.2344691738372857,
          -3.232358883472094,
          -3.2249125331237174,
          -3.2173406281137518,
          -3.208520739906625,
          -3.1983045313436227,
          -3.182743577111378,
          -3.1651097992049175,
          -3.1441225878746764,
          -3.1209037310234025,
          -3.095846015924136,
          -3.067103926724618,
          -3.0386436828666694,
          -3.010279138510511,
          -2.98301906587457,
          -2.95824876600882,
          -2.937414302553588,
          -2.920483434744077,
          -2.9084641570667924,
          -2.90166449705126,
          -2.9000240534477664,
          -2.904081254310987,
          -2.9136510573293277,
          -2.929809936686442,
          -2.951985068054879
         ]
        }
       ],
       "layout": {
        "autosize": true,
        "legend": {
         "bgcolor": "#F5F6F9",
         "font": {
          "color": "#4D5663"
         }
        },
        "paper_bgcolor": "#F5F6F9",
        "plot_bgcolor": "#F5F6F9",
        "shapes": [
         {
          "line": {
           "color": "#db4052",
           "dash": "solid",
           "width": 1
          },
          "type": "line",
          "x0": 0,
          "x1": 1,
          "xref": "paper",
          "y0": [
           0,
           0
          ],
          "y1": [
           0,
           0
          ],
          "yref": "y"
         }
        ],
        "title": {
         "font": {
          "color": "#4D5663"
         },
         "text": "BOW Counts - MSE as a function of alpha (on train set)"
        },
        "xaxis": {
         "autorange": true,
         "gridcolor": "#E1E5ED",
         "range": [
          0.01,
          47.14866363457394
         ],
         "showgrid": true,
         "tickfont": {
          "color": "#4D5663"
         },
         "title": {
          "font": {
           "color": "#4D5663"
          },
          "text": "alpha"
         },
         "type": "linear",
         "zerolinecolor": "#E1E5ED"
        },
        "yaxis": {
         "autorange": true,
         "gridcolor": "#E1E5ED",
         "range": [
          -3.2702192986263237,
          -2.8805400931752105
         ],
         "showgrid": true,
         "tickfont": {
          "color": "#4D5663"
         },
         "title": {
          "font": {
           "color": "#4D5663"
          },
          "text": "MSE"
         },
         "type": "linear",
         "zerolinecolor": "#E1E5ED"
        }
       }
      },
      "image/png": "[encoded data removed]",
      "text/html": [
       "<div>                            <div id=\"5c51e978-c79b-4d53-a699-9f3ee6fb86dd\" class=\"plotly-graph-div\" style=\"height:525px; width:100%;\"></div>            <script type=\"text/javascript\">                require([\"plotly\"], function(Plotly) {                    window.PLOTLYENV=window.PLOTLYENV || {};\n",
       "                    window.PLOTLYENV.BASE_URL='https://plot.ly';                                    if (document.getElementById(\"5c51e978-c79b-4d53-a699-9f3ee6fb86dd\")) {                    Plotly.newPlot(                        \"5c51e978-c79b-4d53-a699-9f3ee6fb86dd\",                        [{\"line\":{\"color\":\"rgba(255, 153, 51, 1.0)\",\"dash\":\"solid\",\"shape\":\"linear\",\"width\":3},\"mode\":\"lines\",\"name\":\"MSE\",\"text\":\"\",\"type\":\"scatter\",\"x\":[0.01,0.013257113655901088,0.017575106248547922,0.023299518105153717,0.030888435964774818,0.040949150623804255,0.054286754393238594,0.07196856730011521,0.09540954763499938,0.12648552168552957,0.16768329368110083,0.22229964825261944,0.29470517025518095,0.3906939937054617,0.517947467923121,0.6866488450043002,0.9102981779915218,1.2067926406393288,1.5998587196060574,2.1209508879201904,2.8117686979742307,3.727593720314938,4.941713361323833,6.551285568595509,8.68511373751352,11.513953993264469,15.264179671752334,20.235896477251575,26.826957952797247,35.564803062231285,47.14866363457394],\"y\":[-3.250735338353768,-3.2489857689631783,-3.245147890960774,-3.243580487039145,-3.241313833981335,-3.238510798527656,-3.2344691738372857,-3.232358883472094,-3.2249125331237174,-3.2173406281137518,-3.208520739906625,-3.1983045313436227,-3.182743577111378,-3.1651097992049175,-3.1441225878746764,-3.1209037310234025,-3.095846015924136,-3.067103926724618,-3.0386436828666694,-3.010279138510511,-2.98301906587457,-2.95824876600882,-2.937414302553588,-2.920483434744077,-2.9084641570667924,-2.90166449705126,-2.9000240534477664,-2.904081254310987,-2.9136510573293277,-2.929809936686442,-2.951985068054879]}],                        {\"legend\":{\"bgcolor\":\"#F5F6F9\",\"font\":{\"color\":\"#4D5663\"}},\"paper_bgcolor\":\"#F5F6F9\",\"plot_bgcolor\":\"#F5F6F9\",\"shapes\":[{\"line\":{\"color\":\"#db4052\",\"dash\":\"solid\",\"width\":1},\"type\":\"line\",\"x0\":0,\"x1\":1,\"xref\":\"paper\",\"y0\":[0,0],\"y1\":[0,0],\"yref\":\"y\"}],\"title\":\"BOW Counts - MSE as a function of alpha (on train set)\",\"titlefont\":{\"color\":\"#4D5663\"},\"xaxis\":{\"gridcolor\":\"#E1E5ED\",\"showgrid\":true,\"tickfont\":{\"color\":\"#4D5663\"},\"title\":\"alpha\",\"titlefont\":{\"color\":\"#4D5663\"},\"zerolinecolor\":\"#E1E5ED\"},\"yaxis\":{\"gridcolor\":\"#E1E5ED\",\"showgrid\":true,\"tickfont\":{\"color\":\"#4D5663\"},\"title\":\"MSE\",\"titlefont\":{\"color\":\"#4D5663\"},\"zerolinecolor\":\"#E1E5ED\"}},                        {\"showLink\": true, \"linkText\": \"Export to plot.ly\", \"plotlyServerURL\": \"https://plot.ly\", \"responsive\": true}                    ).then(function(){\n",
       "                            \n",
       "var gd = document.getElementById('5c51e978-c79b-4d53-a699-9f3ee6fb86dd');\n",
       "var x = new MutationObserver(function (mutations, observer) {{\n",
       "        var display = window.getComputedStyle(gd).display;\n",
       "        if (!display || display === 'none') {{\n",
       "            console.log([gd, 'removed!']);\n",
       "            Plotly.purge(gd);\n",
       "            observer.disconnect();\n",
       "        }}\n",
       "}});\n",
       "\n",
       "// Listen for the removal of the full notebook cells\n",
       "var notebookContainer = gd.closest('#notebook-container');\n",
       "if (notebookContainer) {{\n",
       "    x.observe(notebookContainer, {childList: true});\n",
       "}}\n",
       "\n",
       "// Listen for the clearing of the current output cell\n",
       "var outputEl = gd.closest('.output');\n",
       "if (outputEl) {{\n",
       "    x.observe(outputEl, {childList: true});\n",
       "}}\n",
       "\n",
       "                        })                };                });            </script>        </div>"
      ]
     },
     "metadata": {},
     "output_type": "display_data"
    }
   ],
   "source": [
    "cv_results = pd.DataFrame(MSE_by_alpha, columns = ['alpha', 'MSE'])\n",
    "cv_results.query('alpha < 50').set_index('alpha').MSE.iplot(title = 'BOW Counts - MSE as a function of alpha (on train set)', xTitle = 'alpha', yTitle = 'MSE', width = 3, hline=(0,0))"
   ]
  },
  {
   "cell_type": "code",
   "execution_count": 52,
   "metadata": {},
   "outputs": [
    {
     "name": "stdout",
     "output_type": "stream",
     "text": [
      "15.264179671752334 2.9000240534477664\n"
     ]
    }
   ],
   "source": [
    "opt_alpha, max_MSE = cv_results.loc[cv_results.MSE.idxmax()]\n",
    "print(opt_alpha, -max_MSE)"
   ]
  },
  {
   "cell_type": "markdown",
   "metadata": {},
   "source": [
    "#### Optimal Model : training the model with the best alpha, on the train set:"
   ]
  },
  {
   "cell_type": "code",
   "execution_count": 53,
   "metadata": {},
   "outputs": [
    {
     "data": {
      "text/plain": [
       "Ridge(alpha=15.264179671752334)"
      ]
     },
     "execution_count": 53,
     "metadata": {},
     "output_type": "execute_result"
    }
   ],
   "source": [
    "\n",
    "model = Ridge(alpha=opt_alpha)\n",
    "model.fit(clean_bow_counts_train, train_data.points)"
   ]
  },
  {
   "cell_type": "code",
   "execution_count": 54,
   "metadata": {},
   "outputs": [],
   "source": [
    "test_data['ridge_predicted_points'] = model.predict(clean_bow_counts_test)"
   ]
  },
  {
   "cell_type": "code",
   "execution_count": 55,
   "metadata": {},
   "outputs": [
    {
     "data": {
      "text/plain": [
       "MSE    2.880460\n",
       "MAE    1.339085\n",
       "R2     0.698578\n",
       "dtype: float64"
      ]
     },
     "execution_count": 55,
     "metadata": {},
     "output_type": "execute_result"
    }
   ],
   "source": [
    "ridge_stats = calc_prediction_quality(test_data, 'ridge_predicted_points','points')\n",
    "ridge_stats"
   ]
  },
  {
   "cell_type": "code",
   "execution_count": 56,
   "metadata": {},
   "outputs": [
    {
     "data": {
      "text/html": [
       "<div>\n",
       "<style scoped>\n",
       "    .dataframe tbody tr th:only-of-type {\n",
       "        vertical-align: middle;\n",
       "    }\n",
       "\n",
       "    .dataframe tbody tr th {\n",
       "        vertical-align: top;\n",
       "    }\n",
       "\n",
       "    .dataframe thead th {\n",
       "        text-align: right;\n",
       "    }\n",
       "</style>\n",
       "<table border=\"1\" class=\"dataframe\">\n",
       "  <thead>\n",
       "    <tr style=\"text-align: right;\">\n",
       "      <th></th>\n",
       "      <th>MSE</th>\n",
       "      <th>MAE</th>\n",
       "      <th>R2</th>\n",
       "    </tr>\n",
       "  </thead>\n",
       "  <tbody>\n",
       "    <tr>\n",
       "      <th>baseline_1</th>\n",
       "      <td>9.556321</td>\n",
       "      <td>2.529918</td>\n",
       "      <td>-0.000008</td>\n",
       "    </tr>\n",
       "    <tr>\n",
       "      <th>baseline_2</th>\n",
       "      <td>9.055044</td>\n",
       "      <td>2.457114</td>\n",
       "      <td>0.052447</td>\n",
       "    </tr>\n",
       "    <tr>\n",
       "      <th>baseline_3</th>\n",
       "      <td>8.507232</td>\n",
       "      <td>2.364351</td>\n",
       "      <td>0.109772</td>\n",
       "    </tr>\n",
       "    <tr>\n",
       "      <th>regression_by_xgb</th>\n",
       "      <td>6.358655</td>\n",
       "      <td>1.906784</td>\n",
       "      <td>0.334607</td>\n",
       "    </tr>\n",
       "    <tr>\n",
       "      <th>ridge_stats</th>\n",
       "      <td>2.880460</td>\n",
       "      <td>1.339085</td>\n",
       "      <td>0.698578</td>\n",
       "    </tr>\n",
       "  </tbody>\n",
       "</table>\n",
       "</div>"
      ],
      "text/plain": [
       "                        MSE       MAE        R2\n",
       "baseline_1         9.556321  2.529918 -0.000008\n",
       "baseline_2         9.055044  2.457114  0.052447\n",
       "baseline_3         8.507232  2.364351  0.109772\n",
       "regression_by_xgb  6.358655  1.906784  0.334607\n",
       "ridge_stats        2.880460  1.339085  0.698578"
      ]
     },
     "execution_count": 56,
     "metadata": {},
     "output_type": "execute_result"
    }
   ],
   "source": [
    "all_compared = pd.DataFrame([b1_stats, b2_stats, b3_stats, xgb_stats, ridge_stats], index=['baseline_1', 'baseline_2','baseline_3','regression_by_xgb', 'ridge_stats'])\n",
    "all_compared"
   ]
  },
  {
   "cell_type": "code",
   "execution_count": 59,
   "metadata": {},
   "outputs": [],
   "source": [
    "all_compared.to_csv('data/all_models_compared.csv', index=False)"
   ]
  },
  {
   "cell_type": "markdown",
   "metadata": {
    "tags": []
   },
   "source": [
    "### Using both the text and other features"
   ]
  },
  {
   "cell_type": "markdown",
   "metadata": {},
   "source": [
    "#### Using both the text and other features (encoded in the Boosting trees part)"
   ]
  },
  {
   "cell_type": "code",
   "execution_count": 60,
   "metadata": {},
   "outputs": [
    {
     "data": {
      "text/plain": [
       "['country',\n",
       " 'province',\n",
       " 'region_1',\n",
       " 'region_2',\n",
       " 'taster_name',\n",
       " 'variety',\n",
       " 'winery',\n",
       " 'price']"
      ]
     },
     "execution_count": 60,
     "metadata": {},
     "output_type": "execute_result"
    }
   ],
   "source": [
    "features"
   ]
  },
  {
   "cell_type": "code",
   "execution_count": 61,
   "metadata": {},
   "outputs": [],
   "source": [
    "from scipy.sparse import coo_matrix, hstack"
   ]
  },
  {
   "cell_type": "code",
   "execution_count": 64,
   "metadata": {},
   "outputs": [
    {
     "data": {
      "text/html": [
       "<div>\n",
       "<style scoped>\n",
       "    .dataframe tbody tr th:only-of-type {\n",
       "        vertical-align: middle;\n",
       "    }\n",
       "\n",
       "    .dataframe tbody tr th {\n",
       "        vertical-align: top;\n",
       "    }\n",
       "\n",
       "    .dataframe thead th {\n",
       "        text-align: right;\n",
       "    }\n",
       "</style>\n",
       "<table border=\"1\" class=\"dataframe\">\n",
       "  <thead>\n",
       "    <tr style=\"text-align: right;\">\n",
       "      <th></th>\n",
       "      <th>country</th>\n",
       "      <th>province</th>\n",
       "      <th>region_1</th>\n",
       "      <th>region_2</th>\n",
       "      <th>taster_name</th>\n",
       "      <th>variety</th>\n",
       "      <th>winery</th>\n",
       "      <th>price</th>\n",
       "      <th>points</th>\n",
       "    </tr>\n",
       "  </thead>\n",
       "  <tbody>\n",
       "    <tr>\n",
       "      <th>2</th>\n",
       "      <td>41</td>\n",
       "      <td>269</td>\n",
       "      <td>1218</td>\n",
       "      <td>17</td>\n",
       "      <td>15</td>\n",
       "      <td>437</td>\n",
       "      <td>13018</td>\n",
       "      <td>14.0</td>\n",
       "      <td>87</td>\n",
       "    </tr>\n",
       "    <tr>\n",
       "      <th>3</th>\n",
       "      <td>41</td>\n",
       "      <td>218</td>\n",
       "      <td>549</td>\n",
       "      <td>6</td>\n",
       "      <td>0</td>\n",
       "      <td>480</td>\n",
       "      <td>14390</td>\n",
       "      <td>13.0</td>\n",
       "      <td>87</td>\n",
       "    </tr>\n",
       "    <tr>\n",
       "      <th>4</th>\n",
       "      <td>41</td>\n",
       "      <td>269</td>\n",
       "      <td>1218</td>\n",
       "      <td>17</td>\n",
       "      <td>15</td>\n",
       "      <td>441</td>\n",
       "      <td>14621</td>\n",
       "      <td>65.0</td>\n",
       "      <td>87</td>\n",
       "    </tr>\n",
       "    <tr>\n",
       "      <th>5</th>\n",
       "      <td>38</td>\n",
       "      <td>263</td>\n",
       "      <td>758</td>\n",
       "      <td>6</td>\n",
       "      <td>12</td>\n",
       "      <td>591</td>\n",
       "      <td>14706</td>\n",
       "      <td>15.0</td>\n",
       "      <td>87</td>\n",
       "    </tr>\n",
       "    <tr>\n",
       "      <th>8</th>\n",
       "      <td>17</td>\n",
       "      <td>308</td>\n",
       "      <td>738</td>\n",
       "      <td>6</td>\n",
       "      <td>1</td>\n",
       "      <td>209</td>\n",
       "      <td>8415</td>\n",
       "      <td>12.0</td>\n",
       "      <td>87</td>\n",
       "    </tr>\n",
       "  </tbody>\n",
       "</table>\n",
       "</div>"
      ],
      "text/plain": [
       "   country  province  region_1  region_2  taster_name  variety  winery  price  \\\n",
       "2       41       269      1218        17           15      437   13018   14.0   \n",
       "3       41       218       549         6            0      480   14390   13.0   \n",
       "4       41       269      1218        17           15      441   14621   65.0   \n",
       "5       38       263       758         6           12      591   14706   15.0   \n",
       "8       17       308       738         6            1      209    8415   12.0   \n",
       "\n",
       "   points  \n",
       "2      87  \n",
       "3      87  \n",
       "4      87  \n",
       "5      87  \n",
       "8      87  "
      ]
     },
     "execution_count": 64,
     "metadata": {},
     "output_type": "execute_result"
    }
   ],
   "source": [
    "train_encoded_features.head()"
   ]
  },
  {
   "cell_type": "code",
   "execution_count": 66,
   "metadata": {},
   "outputs": [
    {
     "data": {
      "text/html": [
       "<div>\n",
       "<style scoped>\n",
       "    .dataframe tbody tr th:only-of-type {\n",
       "        vertical-align: middle;\n",
       "    }\n",
       "\n",
       "    .dataframe tbody tr th {\n",
       "        vertical-align: top;\n",
       "    }\n",
       "\n",
       "    .dataframe thead th {\n",
       "        text-align: right;\n",
       "    }\n",
       "</style>\n",
       "<table border=\"1\" class=\"dataframe\">\n",
       "  <thead>\n",
       "    <tr style=\"text-align: right;\">\n",
       "      <th></th>\n",
       "      <th>country</th>\n",
       "      <th>province</th>\n",
       "      <th>region_1</th>\n",
       "      <th>region_2</th>\n",
       "      <th>taster_name</th>\n",
       "      <th>variety</th>\n",
       "      <th>winery</th>\n",
       "      <th>price</th>\n",
       "    </tr>\n",
       "  </thead>\n",
       "  <tbody>\n",
       "    <tr>\n",
       "      <th>2</th>\n",
       "      <td>41</td>\n",
       "      <td>269</td>\n",
       "      <td>1218</td>\n",
       "      <td>17</td>\n",
       "      <td>15</td>\n",
       "      <td>437</td>\n",
       "      <td>13018</td>\n",
       "      <td>14.0</td>\n",
       "    </tr>\n",
       "    <tr>\n",
       "      <th>3</th>\n",
       "      <td>41</td>\n",
       "      <td>218</td>\n",
       "      <td>549</td>\n",
       "      <td>6</td>\n",
       "      <td>0</td>\n",
       "      <td>480</td>\n",
       "      <td>14390</td>\n",
       "      <td>13.0</td>\n",
       "    </tr>\n",
       "    <tr>\n",
       "      <th>4</th>\n",
       "      <td>41</td>\n",
       "      <td>269</td>\n",
       "      <td>1218</td>\n",
       "      <td>17</td>\n",
       "      <td>15</td>\n",
       "      <td>441</td>\n",
       "      <td>14621</td>\n",
       "      <td>65.0</td>\n",
       "    </tr>\n",
       "    <tr>\n",
       "      <th>5</th>\n",
       "      <td>38</td>\n",
       "      <td>263</td>\n",
       "      <td>758</td>\n",
       "      <td>6</td>\n",
       "      <td>12</td>\n",
       "      <td>591</td>\n",
       "      <td>14706</td>\n",
       "      <td>15.0</td>\n",
       "    </tr>\n",
       "    <tr>\n",
       "      <th>8</th>\n",
       "      <td>17</td>\n",
       "      <td>308</td>\n",
       "      <td>738</td>\n",
       "      <td>6</td>\n",
       "      <td>1</td>\n",
       "      <td>209</td>\n",
       "      <td>8415</td>\n",
       "      <td>12.0</td>\n",
       "    </tr>\n",
       "  </tbody>\n",
       "</table>\n",
       "</div>"
      ],
      "text/plain": [
       "   country  province  region_1  region_2  taster_name  variety  winery  price\n",
       "2       41       269      1218        17           15      437   13018   14.0\n",
       "3       41       218       549         6            0      480   14390   13.0\n",
       "4       41       269      1218        17           15      441   14621   65.0\n",
       "5       38       263       758         6           12      591   14706   15.0\n",
       "8       17       308       738         6            1      209    8415   12.0"
      ]
     },
     "execution_count": 66,
     "metadata": {},
     "output_type": "execute_result"
    }
   ],
   "source": [
    "train_encoded_features[features].head()"
   ]
  },
  {
   "cell_type": "code",
   "execution_count": 68,
   "metadata": {},
   "outputs": [
    {
     "data": {
      "text/plain": [
       "(95990, 8)"
      ]
     },
     "execution_count": 68,
     "metadata": {},
     "output_type": "execute_result"
    }
   ],
   "source": [
    "train_encoded_features[features].shape"
   ]
  },
  {
   "cell_type": "code",
   "execution_count": 67,
   "metadata": {},
   "outputs": [
    {
     "data": {
      "text/html": [
       "<div>\n",
       "<style scoped>\n",
       "    .dataframe tbody tr th:only-of-type {\n",
       "        vertical-align: middle;\n",
       "    }\n",
       "\n",
       "    .dataframe tbody tr th {\n",
       "        vertical-align: top;\n",
       "    }\n",
       "\n",
       "    .dataframe thead th {\n",
       "        text-align: right;\n",
       "    }\n",
       "</style>\n",
       "<table border=\"1\" class=\"dataframe\">\n",
       "  <thead>\n",
       "    <tr style=\"text-align: right;\">\n",
       "      <th></th>\n",
       "      <th>country</th>\n",
       "      <th>province</th>\n",
       "      <th>region_1</th>\n",
       "      <th>region_2</th>\n",
       "      <th>taster_name</th>\n",
       "      <th>variety</th>\n",
       "      <th>winery</th>\n",
       "      <th>price</th>\n",
       "    </tr>\n",
       "  </thead>\n",
       "  <tbody>\n",
       "    <tr>\n",
       "      <th>0</th>\n",
       "      <td>22</td>\n",
       "      <td>332</td>\n",
       "      <td>424</td>\n",
       "      <td>6</td>\n",
       "      <td>9</td>\n",
       "      <td>691</td>\n",
       "      <td>11608</td>\n",
       "      <td>-1.0</td>\n",
       "    </tr>\n",
       "    <tr>\n",
       "      <th>1</th>\n",
       "      <td>32</td>\n",
       "      <td>108</td>\n",
       "      <td>738</td>\n",
       "      <td>6</td>\n",
       "      <td>16</td>\n",
       "      <td>451</td>\n",
       "      <td>12956</td>\n",
       "      <td>15.0</td>\n",
       "    </tr>\n",
       "    <tr>\n",
       "      <th>6</th>\n",
       "      <td>22</td>\n",
       "      <td>332</td>\n",
       "      <td>1205</td>\n",
       "      <td>6</td>\n",
       "      <td>9</td>\n",
       "      <td>186</td>\n",
       "      <td>15014</td>\n",
       "      <td>16.0</td>\n",
       "    </tr>\n",
       "    <tr>\n",
       "      <th>7</th>\n",
       "      <td>15</td>\n",
       "      <td>11</td>\n",
       "      <td>21</td>\n",
       "      <td>6</td>\n",
       "      <td>16</td>\n",
       "      <td>209</td>\n",
       "      <td>15395</td>\n",
       "      <td>24.0</td>\n",
       "    </tr>\n",
       "    <tr>\n",
       "      <th>9</th>\n",
       "      <td>15</td>\n",
       "      <td>11</td>\n",
       "      <td>21</td>\n",
       "      <td>6</td>\n",
       "      <td>16</td>\n",
       "      <td>437</td>\n",
       "      <td>8989</td>\n",
       "      <td>27.0</td>\n",
       "    </tr>\n",
       "  </tbody>\n",
       "</table>\n",
       "</div>"
      ],
      "text/plain": [
       "   country  province  region_1  region_2  taster_name  variety  winery  price\n",
       "0       22       332       424         6            9      691   11608   -1.0\n",
       "1       32       108       738         6           16      451   12956   15.0\n",
       "6       22       332      1205         6            9      186   15014   16.0\n",
       "7       15        11        21         6           16      209   15395   24.0\n",
       "9       15        11        21         6           16      437    8989   27.0"
      ]
     },
     "execution_count": 67,
     "metadata": {},
     "output_type": "execute_result"
    }
   ],
   "source": [
    "test_encoded_features[features].head()"
   ]
  },
  {
   "cell_type": "code",
   "execution_count": 69,
   "metadata": {},
   "outputs": [
    {
     "data": {
      "text/plain": [
       "(23998, 8)"
      ]
     },
     "execution_count": 69,
     "metadata": {},
     "output_type": "execute_result"
    }
   ],
   "source": [
    "test_encoded_features[features].shape"
   ]
  },
  {
   "cell_type": "code",
   "execution_count": 70,
   "metadata": {
    "tags": []
   },
   "outputs": [],
   "source": [
    "train_features_spares_matrix = coo_matrix(train_encoded_features[features])\n",
    "train_united_features = hstack((clean_bow_counts_train ,train_features_spares_matrix))\n",
    "\n",
    "test_features_spares_matrix = coo_matrix(test_encoded_features[features])\n",
    "test_united_features = hstack((clean_bow_counts_test ,test_features_spares_matrix))"
   ]
  },
  {
   "cell_type": "markdown",
   "metadata": {},
   "source": [
    "#### Search for the best alpha on the Train set only :"
   ]
  },
  {
   "cell_type": "code",
   "execution_count": 71,
   "metadata": {},
   "outputs": [],
   "source": [
    "#%%capture\n",
    "search_grid = np.logspace(-2, 4, num=50, endpoint=True, base=10.0)\n",
    "MSE_by_alpha = []\n",
    "for alpha in search_grid:\n",
    "    model = Ridge(alpha=alpha)\n",
    "    avg_score = cross_val_score(model, train_united_features, y = train_data.points, cv = 10, scoring = 'neg_mean_squared_error').mean()\n",
    "    MSE_by_alpha.append((alpha,avg_score))"
   ]
  },
  {
   "cell_type": "code",
   "execution_count": 72,
   "metadata": {},
   "outputs": [
    {
     "data": {
      "application/vnd.plotly.v1+json": {
       "config": {
        "linkText": "Export to plot.ly",
        "plotlyServerURL": "https://plot.ly",
        "showLink": true
       },
       "data": [
        {
         "line": {
          "color": "rgba(255, 153, 51, 1.0)",
          "dash": "solid",
          "shape": "linear",
          "width": 3
         },
         "mode": "lines",
         "name": "MSE",
         "text": "",
         "type": "scatter",
         "x": [
          0.01,
          0.013257113655901088,
          0.017575106248547922,
          0.023299518105153717,
          0.030888435964774818,
          0.040949150623804255,
          0.054286754393238594,
          0.07196856730011521,
          0.09540954763499938,
          0.12648552168552957,
          0.16768329368110083,
          0.22229964825261944,
          0.29470517025518095,
          0.3906939937054617,
          0.517947467923121,
          0.6866488450043002,
          0.9102981779915218,
          1.2067926406393288,
          1.5998587196060574,
          2.1209508879201904,
          2.8117686979742307,
          3.727593720314938,
          4.941713361323833,
          6.551285568595509,
          8.68511373751352,
          11.513953993264469,
          15.264179671752334,
          20.235896477251575,
          26.826957952797247,
          35.564803062231285,
          47.14866363457394
         ],
         "y": [
          -3.0505081647169137,
          -3.0518266428990217,
          -3.053353432697458,
          -3.0509431326052585,
          -3.0479104286766283,
          -3.0465890102776223,
          -3.0498349470450163,
          -3.0512250900952074,
          -3.0461042625630745,
          -3.044851345366228,
          -3.0413739364501096,
          -3.039208945178957,
          -3.0358837257872198,
          -3.032601408918002,
          -3.031328711107129,
          -3.029627758388834,
          -3.014927337024294,
          -3.009520206036645,
          -3.0042848673299463,
          -2.9992540003324004,
          -2.9877095523512276,
          -2.98213214086375,
          -2.9747889132254053,
          -2.970401946786872,
          -2.96411324344622,
          -2.9624395901718192,
          -2.9680784694985407,
          -2.972500536267296,
          -2.9910749146275872,
          -3.004323433970109,
          -3.0175244613865067
         ]
        }
       ],
       "layout": {
        "autosize": true,
        "legend": {
         "bgcolor": "#F5F6F9",
         "font": {
          "color": "#4D5663"
         }
        },
        "paper_bgcolor": "#F5F6F9",
        "plot_bgcolor": "#F5F6F9",
        "shapes": [
         {
          "line": {
           "color": "#db4052",
           "dash": "solid",
           "width": 1
          },
          "type": "line",
          "x0": 0,
          "x1": 1,
          "xref": "paper",
          "y0": [
           0,
           0
          ],
          "y1": [
           0,
           0
          ],
          "yref": "y"
         }
        ],
        "title": {
         "font": {
          "color": "#4D5663"
         },
         "text": "BOW Counts - MSE as a function of alpha (on train set)"
        },
        "xaxis": {
         "autorange": true,
         "gridcolor": "#E1E5ED",
         "range": [
          0.01,
          47.14866363457394
         ],
         "showgrid": true,
         "tickfont": {
          "color": "#4D5663"
         },
         "title": {
          "font": {
           "color": "#4D5663"
          },
          "text": "alpha"
         },
         "type": "linear",
         "zerolinecolor": "#E1E5ED"
        },
        "yaxis": {
         "autorange": true,
         "gridcolor": "#E1E5ED",
         "range": [
          -3.05840420172666,
          -2.957388821142617
         ],
         "showgrid": true,
         "tickfont": {
          "color": "#4D5663"
         },
         "title": {
          "font": {
           "color": "#4D5663"
          },
          "text": "MSE"
         },
         "type": "linear",
         "zerolinecolor": "#E1E5ED"
        }
       }
      },
      "image/png": "[encoded data removed]",
      "text/html": [
       "<div>                            <div id=\"8956b906-c658-415a-8031-e64629776c39\" class=\"plotly-graph-div\" style=\"height:525px; width:100%;\"></div>            <script type=\"text/javascript\">                require([\"plotly\"], function(Plotly) {                    window.PLOTLYENV=window.PLOTLYENV || {};\n",
       "                    window.PLOTLYENV.BASE_URL='https://plot.ly';                                    if (document.getElementById(\"8956b906-c658-415a-8031-e64629776c39\")) {                    Plotly.newPlot(                        \"8956b906-c658-415a-8031-e64629776c39\",                        [{\"line\":{\"color\":\"rgba(255, 153, 51, 1.0)\",\"dash\":\"solid\",\"shape\":\"linear\",\"width\":3},\"mode\":\"lines\",\"name\":\"MSE\",\"text\":\"\",\"type\":\"scatter\",\"x\":[0.01,0.013257113655901088,0.017575106248547922,0.023299518105153717,0.030888435964774818,0.040949150623804255,0.054286754393238594,0.07196856730011521,0.09540954763499938,0.12648552168552957,0.16768329368110083,0.22229964825261944,0.29470517025518095,0.3906939937054617,0.517947467923121,0.6866488450043002,0.9102981779915218,1.2067926406393288,1.5998587196060574,2.1209508879201904,2.8117686979742307,3.727593720314938,4.941713361323833,6.551285568595509,8.68511373751352,11.513953993264469,15.264179671752334,20.235896477251575,26.826957952797247,35.564803062231285,47.14866363457394],\"y\":[-3.0505081647169137,-3.0518266428990217,-3.053353432697458,-3.0509431326052585,-3.0479104286766283,-3.0465890102776223,-3.0498349470450163,-3.0512250900952074,-3.0461042625630745,-3.044851345366228,-3.0413739364501096,-3.039208945178957,-3.0358837257872198,-3.032601408918002,-3.031328711107129,-3.029627758388834,-3.014927337024294,-3.009520206036645,-3.0042848673299463,-2.9992540003324004,-2.9877095523512276,-2.98213214086375,-2.9747889132254053,-2.970401946786872,-2.96411324344622,-2.9624395901718192,-2.9680784694985407,-2.972500536267296,-2.9910749146275872,-3.004323433970109,-3.0175244613865067]}],                        {\"legend\":{\"bgcolor\":\"#F5F6F9\",\"font\":{\"color\":\"#4D5663\"}},\"paper_bgcolor\":\"#F5F6F9\",\"plot_bgcolor\":\"#F5F6F9\",\"shapes\":[{\"line\":{\"color\":\"#db4052\",\"dash\":\"solid\",\"width\":1},\"type\":\"line\",\"x0\":0,\"x1\":1,\"xref\":\"paper\",\"y0\":[0,0],\"y1\":[0,0],\"yref\":\"y\"}],\"title\":\"BOW Counts - MSE as a function of alpha (on train set)\",\"titlefont\":{\"color\":\"#4D5663\"},\"xaxis\":{\"gridcolor\":\"#E1E5ED\",\"showgrid\":true,\"tickfont\":{\"color\":\"#4D5663\"},\"title\":\"alpha\",\"titlefont\":{\"color\":\"#4D5663\"},\"zerolinecolor\":\"#E1E5ED\"},\"yaxis\":{\"gridcolor\":\"#E1E5ED\",\"showgrid\":true,\"tickfont\":{\"color\":\"#4D5663\"},\"title\":\"MSE\",\"titlefont\":{\"color\":\"#4D5663\"},\"zerolinecolor\":\"#E1E5ED\"}},                        {\"showLink\": true, \"linkText\": \"Export to plot.ly\", \"plotlyServerURL\": \"https://plot.ly\", \"responsive\": true}                    ).then(function(){\n",
       "                            \n",
       "var gd = document.getElementById('8956b906-c658-415a-8031-e64629776c39');\n",
       "var x = new MutationObserver(function (mutations, observer) {{\n",
       "        var display = window.getComputedStyle(gd).display;\n",
       "        if (!display || display === 'none') {{\n",
       "            console.log([gd, 'removed!']);\n",
       "            Plotly.purge(gd);\n",
       "            observer.disconnect();\n",
       "        }}\n",
       "}});\n",
       "\n",
       "// Listen for the removal of the full notebook cells\n",
       "var notebookContainer = gd.closest('#notebook-container');\n",
       "if (notebookContainer) {{\n",
       "    x.observe(notebookContainer, {childList: true});\n",
       "}}\n",
       "\n",
       "// Listen for the clearing of the current output cell\n",
       "var outputEl = gd.closest('.output');\n",
       "if (outputEl) {{\n",
       "    x.observe(outputEl, {childList: true});\n",
       "}}\n",
       "\n",
       "                        })                };                });            </script>        </div>"
      ]
     },
     "metadata": {},
     "output_type": "display_data"
    }
   ],
   "source": [
    "cv_results = pd.DataFrame(MSE_by_alpha, columns = ['alpha', 'MSE'])\n",
    "cv_results.query('alpha < 50').set_index('alpha').MSE.iplot(title = 'BOW Counts - MSE as a function of alpha (on train set)', xTitle = 'alpha', yTitle = 'MSE', width = 3, hline=(0,0))"
   ]
  },
  {
   "cell_type": "code",
   "execution_count": 73,
   "metadata": {},
   "outputs": [
    {
     "name": "stdout",
     "output_type": "stream",
     "text": [
      "11.513953993264469 2.9624395901718192\n"
     ]
    }
   ],
   "source": [
    "opt_alpha, max_MSE = cv_results.loc[cv_results.MSE.idxmax()]\n",
    "print(opt_alpha, -max_MSE)"
   ]
  },
  {
   "cell_type": "markdown",
   "metadata": {},
   "source": [
    "#### Optimal Model : training the model with the best alpha, on the train set:"
   ]
  },
  {
   "cell_type": "code",
   "execution_count": 74,
   "metadata": {},
   "outputs": [
    {
     "data": {
      "text/plain": [
       "Ridge(alpha=11.513953993264469)"
      ]
     },
     "execution_count": 74,
     "metadata": {},
     "output_type": "execute_result"
    }
   ],
   "source": [
    "#\n",
    "model = Ridge(alpha=opt_alpha)\n",
    "model.fit(train_united_features, train_data.points)"
   ]
  },
  {
   "cell_type": "code",
   "execution_count": 75,
   "metadata": {},
   "outputs": [],
   "source": [
    "test_data['ridge2_predicted_points'] = model.predict(test_united_features)"
   ]
  },
  {
   "cell_type": "code",
   "execution_count": 76,
   "metadata": {},
   "outputs": [
    {
     "data": {
      "text/plain": [
       "MSE    2.913012\n",
       "MAE    1.346257\n",
       "R2     0.695172\n",
       "dtype: float64"
      ]
     },
     "execution_count": 76,
     "metadata": {},
     "output_type": "execute_result"
    }
   ],
   "source": [
    "ridge2_stats = calc_prediction_quality(test_data, 'ridge2_predicted_points','points')\n",
    "ridge2_stats"
   ]
  },
  {
   "cell_type": "code",
   "execution_count": 77,
   "metadata": {},
   "outputs": [
    {
     "data": {
      "text/html": [
       "<div>\n",
       "<style scoped>\n",
       "    .dataframe tbody tr th:only-of-type {\n",
       "        vertical-align: middle;\n",
       "    }\n",
       "\n",
       "    .dataframe tbody tr th {\n",
       "        vertical-align: top;\n",
       "    }\n",
       "\n",
       "    .dataframe thead th {\n",
       "        text-align: right;\n",
       "    }\n",
       "</style>\n",
       "<table border=\"1\" class=\"dataframe\">\n",
       "  <thead>\n",
       "    <tr style=\"text-align: right;\">\n",
       "      <th></th>\n",
       "      <th>MSE</th>\n",
       "      <th>MAE</th>\n",
       "      <th>R2</th>\n",
       "    </tr>\n",
       "  </thead>\n",
       "  <tbody>\n",
       "    <tr>\n",
       "      <th>baseline_1</th>\n",
       "      <td>9.556321</td>\n",
       "      <td>2.529918</td>\n",
       "      <td>-0.000008</td>\n",
       "    </tr>\n",
       "    <tr>\n",
       "      <th>baseline_2</th>\n",
       "      <td>9.055044</td>\n",
       "      <td>2.457114</td>\n",
       "      <td>0.052447</td>\n",
       "    </tr>\n",
       "    <tr>\n",
       "      <th>baseline_3</th>\n",
       "      <td>8.507232</td>\n",
       "      <td>2.364351</td>\n",
       "      <td>0.109772</td>\n",
       "    </tr>\n",
       "    <tr>\n",
       "      <th>regression_by_xgb</th>\n",
       "      <td>6.358655</td>\n",
       "      <td>1.906784</td>\n",
       "      <td>0.334607</td>\n",
       "    </tr>\n",
       "    <tr>\n",
       "      <th>ridge_stats</th>\n",
       "      <td>2.880460</td>\n",
       "      <td>1.339085</td>\n",
       "      <td>0.698578</td>\n",
       "    </tr>\n",
       "    <tr>\n",
       "      <th>ridge2_stats</th>\n",
       "      <td>2.913012</td>\n",
       "      <td>1.346257</td>\n",
       "      <td>0.695172</td>\n",
       "    </tr>\n",
       "  </tbody>\n",
       "</table>\n",
       "</div>"
      ],
      "text/plain": [
       "                        MSE       MAE        R2\n",
       "baseline_1         9.556321  2.529918 -0.000008\n",
       "baseline_2         9.055044  2.457114  0.052447\n",
       "baseline_3         8.507232  2.364351  0.109772\n",
       "regression_by_xgb  6.358655  1.906784  0.334607\n",
       "ridge_stats        2.880460  1.339085  0.698578\n",
       "ridge2_stats       2.913012  1.346257  0.695172"
      ]
     },
     "execution_count": 77,
     "metadata": {},
     "output_type": "execute_result"
    }
   ],
   "source": [
    "all_compared = pd.DataFrame([b1_stats, b2_stats, b3_stats, xgb_stats, ridge_stats, ridge2_stats], index=['baseline_1', 'baseline_2','baseline_3','regression_by_xgb', 'ridge_stats', 'ridge2_stats'])\n",
    "all_compared"
   ]
  },
  {
   "cell_type": "code",
   "execution_count": 78,
   "metadata": {},
   "outputs": [],
   "source": [
    "all_compared.to_csv('data/all_models_compared.csv', index=False)"
   ]
  },
  {
   "cell_type": "markdown",
   "metadata": {},
   "source": [
    "#### Are there outliars in the encoded features ?"
   ]
  },
  {
   "cell_type": "code",
   "execution_count": 79,
   "metadata": {},
   "outputs": [
    {
     "data": {
      "text/plain": [
       "country           AxesSubplot(0.125,0.657941;0.227941x0.222059)\n",
       "province       AxesSubplot(0.398529,0.657941;0.227941x0.222059)\n",
       "region_1       AxesSubplot(0.672059,0.657941;0.227941x0.222059)\n",
       "region_2          AxesSubplot(0.125,0.391471;0.227941x0.222059)\n",
       "taster_name    AxesSubplot(0.398529,0.391471;0.227941x0.222059)\n",
       "variety        AxesSubplot(0.672059,0.391471;0.227941x0.222059)\n",
       "winery               AxesSubplot(0.125,0.125;0.227941x0.222059)\n",
       "price             AxesSubplot(0.398529,0.125;0.227941x0.222059)\n",
       "points            AxesSubplot(0.672059,0.125;0.227941x0.222059)\n",
       "dtype: object"
      ]
     },
     "execution_count": 79,
     "metadata": {},
     "output_type": "execute_result"
    },
    {
     "data": {
      "image/png": "[encoded data removed]",
      "text/plain": [
       "<Figure size 720x720 with 9 Axes>"
      ]
     },
     "metadata": {
      "needs_background": "light"
     },
     "output_type": "display_data"
    }
   ],
   "source": [
    "train_encoded_features.plot(kind='box', subplots=True, figsize=(10,10), layout=(3,3))"
   ]
  },
  {
   "cell_type": "code",
   "execution_count": 80,
   "metadata": {},
   "outputs": [
    {
     "data": {
      "text/html": [
       "<div>\n",
       "<style scoped>\n",
       "    .dataframe tbody tr th:only-of-type {\n",
       "        vertical-align: middle;\n",
       "    }\n",
       "\n",
       "    .dataframe tbody tr th {\n",
       "        vertical-align: top;\n",
       "    }\n",
       "\n",
       "    .dataframe thead th {\n",
       "        text-align: right;\n",
       "    }\n",
       "</style>\n",
       "<table border=\"1\" class=\"dataframe\">\n",
       "  <thead>\n",
       "    <tr style=\"text-align: right;\">\n",
       "      <th></th>\n",
       "      <th>country</th>\n",
       "      <th>province</th>\n",
       "      <th>region_1</th>\n",
       "      <th>region_2</th>\n",
       "      <th>taster_name</th>\n",
       "      <th>variety</th>\n",
       "      <th>winery</th>\n",
       "      <th>points</th>\n",
       "    </tr>\n",
       "  </thead>\n",
       "  <tbody>\n",
       "    <tr>\n",
       "      <th>0</th>\n",
       "      <td>22</td>\n",
       "      <td>332</td>\n",
       "      <td>424</td>\n",
       "      <td>6</td>\n",
       "      <td>9</td>\n",
       "      <td>691</td>\n",
       "      <td>11608</td>\n",
       "      <td>87</td>\n",
       "    </tr>\n",
       "    <tr>\n",
       "      <th>1</th>\n",
       "      <td>32</td>\n",
       "      <td>108</td>\n",
       "      <td>738</td>\n",
       "      <td>6</td>\n",
       "      <td>16</td>\n",
       "      <td>451</td>\n",
       "      <td>12956</td>\n",
       "      <td>87</td>\n",
       "    </tr>\n",
       "    <tr>\n",
       "      <th>2</th>\n",
       "      <td>41</td>\n",
       "      <td>269</td>\n",
       "      <td>1218</td>\n",
       "      <td>17</td>\n",
       "      <td>15</td>\n",
       "      <td>437</td>\n",
       "      <td>13018</td>\n",
       "      <td>87</td>\n",
       "    </tr>\n",
       "    <tr>\n",
       "      <th>3</th>\n",
       "      <td>41</td>\n",
       "      <td>218</td>\n",
       "      <td>549</td>\n",
       "      <td>6</td>\n",
       "      <td>0</td>\n",
       "      <td>480</td>\n",
       "      <td>14390</td>\n",
       "      <td>87</td>\n",
       "    </tr>\n",
       "    <tr>\n",
       "      <th>4</th>\n",
       "      <td>41</td>\n",
       "      <td>269</td>\n",
       "      <td>1218</td>\n",
       "      <td>17</td>\n",
       "      <td>15</td>\n",
       "      <td>441</td>\n",
       "      <td>14621</td>\n",
       "      <td>87</td>\n",
       "    </tr>\n",
       "  </tbody>\n",
       "</table>\n",
       "</div>"
      ],
      "text/plain": [
       "   country  province  region_1  region_2  taster_name  variety  winery  points\n",
       "0       22       332       424         6            9      691   11608      87\n",
       "1       32       108       738         6           16      451   12956      87\n",
       "2       41       269      1218        17           15      437   13018      87\n",
       "3       41       218       549         6            0      480   14390      87\n",
       "4       41       269      1218        17           15      441   14621      87"
      ]
     },
     "execution_count": 80,
     "metadata": {},
     "output_type": "execute_result"
    }
   ],
   "source": [
    "#removing the 'price' feature as it's showing a lot of outliars:\n",
    "encoded_features2 = wine_reviews[categorical_features].apply(lambda col: le.fit_transform(col.fillna('NA')))\n",
    "encoded_features2['points'] = wine_reviews.points\n",
    "encoded_features2.head()"
   ]
  },
  {
   "cell_type": "code",
   "execution_count": 81,
   "metadata": {},
   "outputs": [],
   "source": [
    "train_encoded_features2 = encoded_features2[encoded_features2.index.isin(train_data.index)]\n",
    "test_encoded_features2 = encoded_features2[encoded_features2.index.isin(test_data.index)]\n",
    "assert(len(train_encoded_features2) + len(test_encoded_features2) == len(wine_reviews))"
   ]
  },
  {
   "cell_type": "code",
   "execution_count": 82,
   "metadata": {},
   "outputs": [],
   "source": [
    "features2 = ['country',\n",
    " 'province',\n",
    " 'region_1',\n",
    " 'region_2',\n",
    " 'taster_name',\n",
    " 'variety',\n",
    " 'winery']"
   ]
  },
  {
   "cell_type": "code",
   "execution_count": 83,
   "metadata": {},
   "outputs": [
    {
     "data": {
      "text/html": [
       "<div>\n",
       "<style scoped>\n",
       "    .dataframe tbody tr th:only-of-type {\n",
       "        vertical-align: middle;\n",
       "    }\n",
       "\n",
       "    .dataframe tbody tr th {\n",
       "        vertical-align: top;\n",
       "    }\n",
       "\n",
       "    .dataframe thead th {\n",
       "        text-align: right;\n",
       "    }\n",
       "</style>\n",
       "<table border=\"1\" class=\"dataframe\">\n",
       "  <thead>\n",
       "    <tr style=\"text-align: right;\">\n",
       "      <th></th>\n",
       "      <th>country</th>\n",
       "      <th>province</th>\n",
       "      <th>region_1</th>\n",
       "      <th>region_2</th>\n",
       "      <th>taster_name</th>\n",
       "      <th>variety</th>\n",
       "      <th>winery</th>\n",
       "      <th>points</th>\n",
       "    </tr>\n",
       "  </thead>\n",
       "  <tbody>\n",
       "    <tr>\n",
       "      <th>2</th>\n",
       "      <td>41</td>\n",
       "      <td>269</td>\n",
       "      <td>1218</td>\n",
       "      <td>17</td>\n",
       "      <td>15</td>\n",
       "      <td>437</td>\n",
       "      <td>13018</td>\n",
       "      <td>87</td>\n",
       "    </tr>\n",
       "    <tr>\n",
       "      <th>3</th>\n",
       "      <td>41</td>\n",
       "      <td>218</td>\n",
       "      <td>549</td>\n",
       "      <td>6</td>\n",
       "      <td>0</td>\n",
       "      <td>480</td>\n",
       "      <td>14390</td>\n",
       "      <td>87</td>\n",
       "    </tr>\n",
       "    <tr>\n",
       "      <th>4</th>\n",
       "      <td>41</td>\n",
       "      <td>269</td>\n",
       "      <td>1218</td>\n",
       "      <td>17</td>\n",
       "      <td>15</td>\n",
       "      <td>441</td>\n",
       "      <td>14621</td>\n",
       "      <td>87</td>\n",
       "    </tr>\n",
       "    <tr>\n",
       "      <th>5</th>\n",
       "      <td>38</td>\n",
       "      <td>263</td>\n",
       "      <td>758</td>\n",
       "      <td>6</td>\n",
       "      <td>12</td>\n",
       "      <td>591</td>\n",
       "      <td>14706</td>\n",
       "      <td>87</td>\n",
       "    </tr>\n",
       "    <tr>\n",
       "      <th>8</th>\n",
       "      <td>17</td>\n",
       "      <td>308</td>\n",
       "      <td>738</td>\n",
       "      <td>6</td>\n",
       "      <td>1</td>\n",
       "      <td>209</td>\n",
       "      <td>8415</td>\n",
       "      <td>87</td>\n",
       "    </tr>\n",
       "  </tbody>\n",
       "</table>\n",
       "</div>"
      ],
      "text/plain": [
       "   country  province  region_1  region_2  taster_name  variety  winery  points\n",
       "2       41       269      1218        17           15      437   13018      87\n",
       "3       41       218       549         6            0      480   14390      87\n",
       "4       41       269      1218        17           15      441   14621      87\n",
       "5       38       263       758         6           12      591   14706      87\n",
       "8       17       308       738         6            1      209    8415      87"
      ]
     },
     "execution_count": 83,
     "metadata": {},
     "output_type": "execute_result"
    }
   ],
   "source": [
    "train_encoded_features2.head()"
   ]
  },
  {
   "cell_type": "code",
   "execution_count": 84,
   "metadata": {},
   "outputs": [
    {
     "data": {
      "text/html": [
       "<div>\n",
       "<style scoped>\n",
       "    .dataframe tbody tr th:only-of-type {\n",
       "        vertical-align: middle;\n",
       "    }\n",
       "\n",
       "    .dataframe tbody tr th {\n",
       "        vertical-align: top;\n",
       "    }\n",
       "\n",
       "    .dataframe thead th {\n",
       "        text-align: right;\n",
       "    }\n",
       "</style>\n",
       "<table border=\"1\" class=\"dataframe\">\n",
       "  <thead>\n",
       "    <tr style=\"text-align: right;\">\n",
       "      <th></th>\n",
       "      <th>country</th>\n",
       "      <th>province</th>\n",
       "      <th>region_1</th>\n",
       "      <th>region_2</th>\n",
       "      <th>taster_name</th>\n",
       "      <th>variety</th>\n",
       "      <th>winery</th>\n",
       "      <th>points</th>\n",
       "    </tr>\n",
       "  </thead>\n",
       "  <tbody>\n",
       "    <tr>\n",
       "      <th>0</th>\n",
       "      <td>22</td>\n",
       "      <td>332</td>\n",
       "      <td>424</td>\n",
       "      <td>6</td>\n",
       "      <td>9</td>\n",
       "      <td>691</td>\n",
       "      <td>11608</td>\n",
       "      <td>87</td>\n",
       "    </tr>\n",
       "    <tr>\n",
       "      <th>1</th>\n",
       "      <td>32</td>\n",
       "      <td>108</td>\n",
       "      <td>738</td>\n",
       "      <td>6</td>\n",
       "      <td>16</td>\n",
       "      <td>451</td>\n",
       "      <td>12956</td>\n",
       "      <td>87</td>\n",
       "    </tr>\n",
       "    <tr>\n",
       "      <th>6</th>\n",
       "      <td>22</td>\n",
       "      <td>332</td>\n",
       "      <td>1205</td>\n",
       "      <td>6</td>\n",
       "      <td>9</td>\n",
       "      <td>186</td>\n",
       "      <td>15014</td>\n",
       "      <td>87</td>\n",
       "    </tr>\n",
       "    <tr>\n",
       "      <th>7</th>\n",
       "      <td>15</td>\n",
       "      <td>11</td>\n",
       "      <td>21</td>\n",
       "      <td>6</td>\n",
       "      <td>16</td>\n",
       "      <td>209</td>\n",
       "      <td>15395</td>\n",
       "      <td>87</td>\n",
       "    </tr>\n",
       "    <tr>\n",
       "      <th>9</th>\n",
       "      <td>15</td>\n",
       "      <td>11</td>\n",
       "      <td>21</td>\n",
       "      <td>6</td>\n",
       "      <td>16</td>\n",
       "      <td>437</td>\n",
       "      <td>8989</td>\n",
       "      <td>87</td>\n",
       "    </tr>\n",
       "  </tbody>\n",
       "</table>\n",
       "</div>"
      ],
      "text/plain": [
       "   country  province  region_1  region_2  taster_name  variety  winery  points\n",
       "0       22       332       424         6            9      691   11608      87\n",
       "1       32       108       738         6           16      451   12956      87\n",
       "6       22       332      1205         6            9      186   15014      87\n",
       "7       15        11        21         6           16      209   15395      87\n",
       "9       15        11        21         6           16      437    8989      87"
      ]
     },
     "execution_count": 84,
     "metadata": {},
     "output_type": "execute_result"
    }
   ],
   "source": [
    "test_encoded_features2.head()"
   ]
  },
  {
   "cell_type": "code",
   "execution_count": 85,
   "metadata": {},
   "outputs": [],
   "source": [
    "train_features_spares_matrix2 = coo_matrix(train_encoded_features2[features2])\n",
    "train_united_features2 = hstack((clean_bow_counts_train ,train_features_spares_matrix2))\n",
    "\n",
    "test_features_spares_matrix2 = coo_matrix(test_encoded_features2[features2])\n",
    "test_united_features2 = hstack((clean_bow_counts_test ,test_features_spares_matrix2))"
   ]
  },
  {
   "cell_type": "code",
   "execution_count": 86,
   "metadata": {},
   "outputs": [
    {
     "data": {
      "text/plain": [
       "<95990x13961 sparse matrix of type '<class 'numpy.int64'>'\n",
       "\twith 3199836 stored elements in COOrdinate format>"
      ]
     },
     "execution_count": 86,
     "metadata": {},
     "output_type": "execute_result"
    }
   ],
   "source": [
    "train_united_features2"
   ]
  },
  {
   "cell_type": "code",
   "execution_count": 87,
   "metadata": {},
   "outputs": [
    {
     "data": {
      "text/plain": [
       "<23998x13961 sparse matrix of type '<class 'numpy.int64'>'\n",
       "\twith 798063 stored elements in COOrdinate format>"
      ]
     },
     "execution_count": 87,
     "metadata": {},
     "output_type": "execute_result"
    }
   ],
   "source": [
    "test_united_features2"
   ]
  },
  {
   "cell_type": "code",
   "execution_count": 88,
   "metadata": {},
   "outputs": [],
   "source": [
    "#%%capture\n",
    "search_grid2 = np.logspace(-2, 4, num=50, endpoint=True, base=10.0)\n",
    "MSE_by_alpha2 = []\n",
    "for alpha in search_grid2:\n",
    "    model2 = Ridge(alpha=alpha)\n",
    "    avg_score2 = cross_val_score(model2, train_united_features2, y = train_data.points, cv = 10, scoring = 'neg_mean_squared_error').mean()\n",
    "    MSE_by_alpha2.append((alpha,avg_score2))"
   ]
  },
  {
   "cell_type": "code",
   "execution_count": 89,
   "metadata": {},
   "outputs": [
    {
     "data": {
      "application/vnd.plotly.v1+json": {
       "config": {
        "linkText": "Export to plot.ly",
        "plotlyServerURL": "https://plot.ly",
        "showLink": true
       },
       "data": [
        {
         "line": {
          "color": "rgba(255, 153, 51, 1.0)",
          "dash": "solid",
          "shape": "linear",
          "width": 3
         },
         "mode": "lines",
         "name": "MSE",
         "text": "",
         "type": "scatter",
         "x": [
          0.01,
          0.013257113655901088,
          0.017575106248547922,
          0.023299518105153717,
          0.030888435964774818,
          0.040949150623804255,
          0.054286754393238594,
          0.07196856730011521,
          0.09540954763499938,
          0.12648552168552957,
          0.16768329368110083,
          0.22229964825261944,
          0.29470517025518095,
          0.3906939937054617,
          0.517947467923121,
          0.6866488450043002,
          0.9102981779915218,
          1.2067926406393288,
          1.5998587196060574,
          2.1209508879201904,
          2.8117686979742307,
          3.727593720314938,
          4.941713361323833,
          6.551285568595509,
          8.68511373751352,
          11.513953993264469,
          15.264179671752334,
          20.235896477251575,
          26.826957952797247,
          35.564803062231285,
          47.14866363457394
         ],
         "y": [
          -3.0527202078093083,
          -3.0478665235039375,
          -3.051842414017257,
          -3.04989733695728,
          -3.0497084804746644,
          -3.047598518905647,
          -3.0497260626896696,
          -3.0443536313473443,
          -3.0467005564006104,
          -3.0444865795720446,
          -3.046365573574402,
          -3.0390602004220266,
          -3.0377605702606,
          -3.035310327259155,
          -3.0289868407816334,
          -3.0265391835827926,
          -3.0224661321247956,
          -3.0123109692604593,
          -3.005383908047462,
          -2.9960436246831916,
          -2.988134464604188,
          -2.9818428936586447,
          -2.975599300615623,
          -2.9692744650274183,
          -2.9684025713205022,
          -2.9602870785596553,
          -2.9683912825531094,
          -2.9757936733015935,
          -2.987294195459099,
          -2.998942748198626,
          -3.0203748235431975
         ]
        }
       ],
       "layout": {
        "autosize": true,
        "legend": {
         "bgcolor": "#F5F6F9",
         "font": {
          "color": "#4D5663"
         }
        },
        "paper_bgcolor": "#F5F6F9",
        "plot_bgcolor": "#F5F6F9",
        "shapes": [
         {
          "line": {
           "color": "#db4052",
           "dash": "solid",
           "width": 1
          },
          "type": "line",
          "x0": 0,
          "x1": 1,
          "xref": "paper",
          "y0": [
           0,
           0
          ],
          "y1": [
           0,
           0
          ],
          "yref": "y"
         }
        ],
        "title": {
         "font": {
          "color": "#4D5663"
         },
         "text": "BOW Counts - MSE as a function of alpha (on train set)"
        },
        "xaxis": {
         "autorange": true,
         "gridcolor": "#E1E5ED",
         "range": [
          0.01,
          47.14866363457394
         ],
         "showgrid": true,
         "tickfont": {
          "color": "#4D5663"
         },
         "title": {
          "font": {
           "color": "#4D5663"
          },
          "text": "alpha"
         },
         "type": "linear",
         "zerolinecolor": "#E1E5ED"
        },
        "yaxis": {
         "autorange": true,
         "gridcolor": "#E1E5ED",
         "range": [
          -3.0578553816565113,
          -2.9551519047124524
         ],
         "showgrid": true,
         "tickfont": {
          "color": "#4D5663"
         },
         "title": {
          "font": {
           "color": "#4D5663"
          },
          "text": "MSE"
         },
         "type": "linear",
         "zerolinecolor": "#E1E5ED"
        }
       }
      },
      "image/png": "[encoded data removed]",
      "text/html": [
       "<div>                            <div id=\"0577d8de-4ca8-47e7-8b06-f4aa5f549b81\" class=\"plotly-graph-div\" style=\"height:525px; width:100%;\"></div>            <script type=\"text/javascript\">                require([\"plotly\"], function(Plotly) {                    window.PLOTLYENV=window.PLOTLYENV || {};\n",
       "                    window.PLOTLYENV.BASE_URL='https://plot.ly';                                    if (document.getElementById(\"0577d8de-4ca8-47e7-8b06-f4aa5f549b81\")) {                    Plotly.newPlot(                        \"0577d8de-4ca8-47e7-8b06-f4aa5f549b81\",                        [{\"line\":{\"color\":\"rgba(255, 153, 51, 1.0)\",\"dash\":\"solid\",\"shape\":\"linear\",\"width\":3},\"mode\":\"lines\",\"name\":\"MSE\",\"text\":\"\",\"type\":\"scatter\",\"x\":[0.01,0.013257113655901088,0.017575106248547922,0.023299518105153717,0.030888435964774818,0.040949150623804255,0.054286754393238594,0.07196856730011521,0.09540954763499938,0.12648552168552957,0.16768329368110083,0.22229964825261944,0.29470517025518095,0.3906939937054617,0.517947467923121,0.6866488450043002,0.9102981779915218,1.2067926406393288,1.5998587196060574,2.1209508879201904,2.8117686979742307,3.727593720314938,4.941713361323833,6.551285568595509,8.68511373751352,11.513953993264469,15.264179671752334,20.235896477251575,26.826957952797247,35.564803062231285,47.14866363457394],\"y\":[-3.0527202078093083,-3.0478665235039375,-3.051842414017257,-3.04989733695728,-3.0497084804746644,-3.047598518905647,-3.0497260626896696,-3.0443536313473443,-3.0467005564006104,-3.0444865795720446,-3.046365573574402,-3.0390602004220266,-3.0377605702606,-3.035310327259155,-3.0289868407816334,-3.0265391835827926,-3.0224661321247956,-3.0123109692604593,-3.005383908047462,-2.9960436246831916,-2.988134464604188,-2.9818428936586447,-2.975599300615623,-2.9692744650274183,-2.9684025713205022,-2.9602870785596553,-2.9683912825531094,-2.9757936733015935,-2.987294195459099,-2.998942748198626,-3.0203748235431975]}],                        {\"legend\":{\"bgcolor\":\"#F5F6F9\",\"font\":{\"color\":\"#4D5663\"}},\"paper_bgcolor\":\"#F5F6F9\",\"plot_bgcolor\":\"#F5F6F9\",\"shapes\":[{\"line\":{\"color\":\"#db4052\",\"dash\":\"solid\",\"width\":1},\"type\":\"line\",\"x0\":0,\"x1\":1,\"xref\":\"paper\",\"y0\":[0,0],\"y1\":[0,0],\"yref\":\"y\"}],\"title\":\"BOW Counts - MSE as a function of alpha (on train set)\",\"titlefont\":{\"color\":\"#4D5663\"},\"xaxis\":{\"gridcolor\":\"#E1E5ED\",\"showgrid\":true,\"tickfont\":{\"color\":\"#4D5663\"},\"title\":\"alpha\",\"titlefont\":{\"color\":\"#4D5663\"},\"zerolinecolor\":\"#E1E5ED\"},\"yaxis\":{\"gridcolor\":\"#E1E5ED\",\"showgrid\":true,\"tickfont\":{\"color\":\"#4D5663\"},\"title\":\"MSE\",\"titlefont\":{\"color\":\"#4D5663\"},\"zerolinecolor\":\"#E1E5ED\"}},                        {\"showLink\": true, \"linkText\": \"Export to plot.ly\", \"plotlyServerURL\": \"https://plot.ly\", \"responsive\": true}                    ).then(function(){\n",
       "                            \n",
       "var gd = document.getElementById('0577d8de-4ca8-47e7-8b06-f4aa5f549b81');\n",
       "var x = new MutationObserver(function (mutations, observer) {{\n",
       "        var display = window.getComputedStyle(gd).display;\n",
       "        if (!display || display === 'none') {{\n",
       "            console.log([gd, 'removed!']);\n",
       "            Plotly.purge(gd);\n",
       "            observer.disconnect();\n",
       "        }}\n",
       "}});\n",
       "\n",
       "// Listen for the removal of the full notebook cells\n",
       "var notebookContainer = gd.closest('#notebook-container');\n",
       "if (notebookContainer) {{\n",
       "    x.observe(notebookContainer, {childList: true});\n",
       "}}\n",
       "\n",
       "// Listen for the clearing of the current output cell\n",
       "var outputEl = gd.closest('.output');\n",
       "if (outputEl) {{\n",
       "    x.observe(outputEl, {childList: true});\n",
       "}}\n",
       "\n",
       "                        })                };                });            </script>        </div>"
      ]
     },
     "metadata": {},
     "output_type": "display_data"
    }
   ],
   "source": [
    "cv_results2 = pd.DataFrame(MSE_by_alpha2, columns = ['alpha', 'MSE'])\n",
    "cv_results2.query('alpha < 50').set_index('alpha').MSE.iplot(title = 'BOW Counts - MSE as a function of alpha (on train set)', xTitle = 'alpha', yTitle = 'MSE', width = 3, hline=(0,0))"
   ]
  },
  {
   "cell_type": "code",
   "execution_count": 90,
   "metadata": {},
   "outputs": [
    {
     "name": "stdout",
     "output_type": "stream",
     "text": [
      "11.513953993264469 2.9602870785596553\n"
     ]
    }
   ],
   "source": [
    "opt_alpha2, max_MSE2 = cv_results2.loc[cv_results2.MSE.idxmax()]\n",
    "print(opt_alpha2, -max_MSE2)"
   ]
  },
  {
   "cell_type": "code",
   "execution_count": 91,
   "metadata": {},
   "outputs": [
    {
     "data": {
      "text/plain": [
       "Ridge(alpha=11.513953993264469)"
      ]
     },
     "execution_count": 91,
     "metadata": {},
     "output_type": "execute_result"
    }
   ],
   "source": [
    "model = Ridge(alpha=opt_alpha2)\n",
    "model.fit(train_united_features2, train_data.points)"
   ]
  },
  {
   "cell_type": "code",
   "execution_count": 92,
   "metadata": {},
   "outputs": [],
   "source": [
    "test_data['ridge3_predicted_points'] = model.predict(test_united_features2)"
   ]
  },
  {
   "cell_type": "code",
   "execution_count": 93,
   "metadata": {},
   "outputs": [
    {
     "data": {
      "text/plain": [
       "MSE    2.915827\n",
       "MAE    1.346869\n",
       "R2     0.694877\n",
       "dtype: float64"
      ]
     },
     "execution_count": 93,
     "metadata": {},
     "output_type": "execute_result"
    }
   ],
   "source": [
    "ridge3_stats = calc_prediction_quality(test_data, 'ridge3_predicted_points','points')\n",
    "ridge3_stats"
   ]
  },
  {
   "cell_type": "code",
   "execution_count": 94,
   "metadata": {},
   "outputs": [
    {
     "data": {
      "text/html": [
       "<div>\n",
       "<style scoped>\n",
       "    .dataframe tbody tr th:only-of-type {\n",
       "        vertical-align: middle;\n",
       "    }\n",
       "\n",
       "    .dataframe tbody tr th {\n",
       "        vertical-align: top;\n",
       "    }\n",
       "\n",
       "    .dataframe thead th {\n",
       "        text-align: right;\n",
       "    }\n",
       "</style>\n",
       "<table border=\"1\" class=\"dataframe\">\n",
       "  <thead>\n",
       "    <tr style=\"text-align: right;\">\n",
       "      <th></th>\n",
       "      <th>MSE</th>\n",
       "      <th>MAE</th>\n",
       "      <th>R2</th>\n",
       "    </tr>\n",
       "  </thead>\n",
       "  <tbody>\n",
       "    <tr>\n",
       "      <th>baseline_1</th>\n",
       "      <td>9.556321</td>\n",
       "      <td>2.529918</td>\n",
       "      <td>-0.000008</td>\n",
       "    </tr>\n",
       "    <tr>\n",
       "      <th>baseline_2</th>\n",
       "      <td>9.055044</td>\n",
       "      <td>2.457114</td>\n",
       "      <td>0.052447</td>\n",
       "    </tr>\n",
       "    <tr>\n",
       "      <th>baseline_3</th>\n",
       "      <td>8.507232</td>\n",
       "      <td>2.364351</td>\n",
       "      <td>0.109772</td>\n",
       "    </tr>\n",
       "    <tr>\n",
       "      <th>regression_by_xgb</th>\n",
       "      <td>6.358655</td>\n",
       "      <td>1.906784</td>\n",
       "      <td>0.334607</td>\n",
       "    </tr>\n",
       "    <tr>\n",
       "      <th>ridge_stats</th>\n",
       "      <td>2.880460</td>\n",
       "      <td>1.339085</td>\n",
       "      <td>0.698578</td>\n",
       "    </tr>\n",
       "    <tr>\n",
       "      <th>ridge2_stats</th>\n",
       "      <td>2.913012</td>\n",
       "      <td>1.346257</td>\n",
       "      <td>0.695172</td>\n",
       "    </tr>\n",
       "    <tr>\n",
       "      <th>ridge3_stats</th>\n",
       "      <td>2.915827</td>\n",
       "      <td>1.346869</td>\n",
       "      <td>0.694877</td>\n",
       "    </tr>\n",
       "  </tbody>\n",
       "</table>\n",
       "</div>"
      ],
      "text/plain": [
       "                        MSE       MAE        R2\n",
       "baseline_1         9.556321  2.529918 -0.000008\n",
       "baseline_2         9.055044  2.457114  0.052447\n",
       "baseline_3         8.507232  2.364351  0.109772\n",
       "regression_by_xgb  6.358655  1.906784  0.334607\n",
       "ridge_stats        2.880460  1.339085  0.698578\n",
       "ridge2_stats       2.913012  1.346257  0.695172\n",
       "ridge3_stats       2.915827  1.346869  0.694877"
      ]
     },
     "execution_count": 94,
     "metadata": {},
     "output_type": "execute_result"
    }
   ],
   "source": [
    "all_compared = pd.DataFrame([b1_stats, b2_stats, b3_stats, xgb_stats, ridge_stats, ridge2_stats, ridge3_stats], index=['baseline_1', 'baseline_2','baseline_3','regression_by_xgb', 'ridge_stats', 'ridge2_stats', 'ridge3_stats'])\n",
    "all_compared"
   ]
  },
  {
   "cell_type": "code",
   "execution_count": 95,
   "metadata": {},
   "outputs": [],
   "source": [
    "all_compared.to_csv('data/all_models_compared.csv', index=False)"
   ]
  },
  {
   "cell_type": "markdown",
   "metadata": {},
   "source": [
    "Although we removed the \"price\" feature that had many outliers, it worsened improve the performance."
   ]
  },
  {
   "cell_type": "code",
   "execution_count": null,
   "metadata": {},
   "outputs": [],
   "source": []
  },
  {
   "cell_type": "code",
   "execution_count": null,
   "metadata": {},
   "outputs": [],
   "source": []
  },
  {
   "cell_type": "code",
   "execution_count": null,
   "metadata": {},
   "outputs": [],
   "source": []
  },
  {
   "cell_type": "code",
   "execution_count": null,
   "metadata": {},
   "outputs": [],
   "source": []
  },
  {
   "cell_type": "markdown",
   "metadata": {},
   "source": [
    "## Deep Learning approaches"
   ]
  },
  {
   "cell_type": "markdown",
   "metadata": {},
   "source": [
    "### Fully connected network on the text only"
   ]
  },
  {
   "cell_type": "markdown",
   "metadata": {},
   "source": [
    "#### Tokenization"
   ]
  },
  {
   "cell_type": "code",
   "execution_count": 96,
   "metadata": {},
   "outputs": [],
   "source": [
    "import tensorflow as tf\n",
    "from tensorflow.keras.layers import TextVectorization, Embedding, Dense, GlobalAveragePooling1D, Dropout\n",
    "from tensorflow.keras.callbacks import EarlyStopping"
   ]
  },
  {
   "cell_type": "markdown",
   "metadata": {},
   "source": [
    "What is a good size for the vocabulary? "
   ]
  },
  {
   "cell_type": "code",
   "execution_count": 97,
   "metadata": {},
   "outputs": [
    {
     "data": {
      "text/plain": [
       "0.95    60.0\n",
       "0.99    72.0\n",
       "Name: description, dtype: float64"
      ]
     },
     "execution_count": 97,
     "metadata": {},
     "output_type": "execute_result"
    }
   ],
   "source": [
    "wine_reviews.description.apply(lambda x: len(x.split(' '))).quantile([0.95, 0.99])"
   ]
  },
  {
   "cell_type": "code",
   "execution_count": 98,
   "metadata": {},
   "outputs": [
    {
     "name": "stderr",
     "output_type": "stream",
     "text": [
      "2022-05-31 12:16:15.390747: I tensorflow/core/platform/cpu_feature_guard.cc:151] This TensorFlow binary is optimized with oneAPI Deep Neural Network Library (oneDNN) to use the following CPU instructions in performance-critical operations:  AVX2 FMA\n",
      "To enable them in other operations, rebuild TensorFlow with the appropriate compiler flags.\n"
     ]
    }
   ],
   "source": [
    "vocab_size = 32000\n",
    "sequence_length = 60\n",
    "\n",
    "# Use the text vectorization layer to normalize, split, and map strings to integers. Set maximum_sequence length as all samples are not of the same length.\n",
    "vectorize_layer = TextVectorization(\n",
    "    #standardize=lambda text: tf.strings.lower(text), # You can use your own normalization function here\n",
    "    standardize='lower_and_strip_punctuation', # Or you can use a pre-made normalization function\n",
    "    max_tokens=vocab_size,    \n",
    "    split='whitespace',\n",
    "    output_mode='int',\n",
    "    name = 'Text_processing',\n",
    "    output_sequence_length=sequence_length)"
   ]
  },
  {
   "cell_type": "code",
   "execution_count": 99,
   "metadata": {},
   "outputs": [],
   "source": [
    "vectorize_layer.adapt(train_data['description'])"
   ]
  },
  {
   "cell_type": "code",
   "execution_count": 100,
   "metadata": {},
   "outputs": [
    {
     "name": "stdout",
     "output_type": "stream",
     "text": [
      "This is a soft wine although one with a tangy backdrop that makes it both smooth and crisp. Its citrus fruitiness has a touch of pepper as well as minerality. The elements have come together into a bright tangy wine to drink now.\n"
     ]
    },
    {
     "data": {
      "text/plain": [
       "<tf.Tensor: shape=(60,), dtype=int64, numpy=\n",
       "array([   7,    8,    4,   46,    9,  278,  157,    6,    4,  226, 1174,\n",
       "         19,  292,   13,  291,   96,    2,   51,   14,   61,  325,   30,\n",
       "          4,   78,    5,   70,   37,   66,   37,  220,    3,  517,  274,\n",
       "        194,  306,  110,    4,   62,  226,    9,   12,   25,   44,    0,\n",
       "          0,    0,    0,    0,    0,    0,    0,    0,    0,    0,    0,\n",
       "          0,    0,    0,    0,    0])>"
      ]
     },
     "execution_count": 100,
     "metadata": {},
     "output_type": "execute_result"
    }
   ],
   "source": [
    "sample_description = train_data['description'].sample().iloc[0]\n",
    "print(sample_description)\n",
    "vectorize_layer(sample_description)"
   ]
  },
  {
   "cell_type": "code",
   "execution_count": 101,
   "metadata": {},
   "outputs": [
    {
     "name": "stdout",
     "output_type": "stream",
     "text": [
      "7 --->  this\n",
      "8 --->  is\n",
      "4 --->  a\n",
      "46 --->  soft\n",
      "9 --->  wine\n",
      "278 --->  although\n",
      "157 --->  one\n",
      "6 --->  with\n",
      "4 --->  a\n",
      "226 --->  tangy\n",
      "1174 --->  backdrop\n",
      "19 --->  that\n",
      "292 --->  makes\n",
      "13 --->  it\n",
      "291 --->  both\n",
      "96 --->  smooth\n",
      "2 --->  and\n",
      "51 --->  crisp\n",
      "14 --->  its\n",
      "61 --->  citrus\n"
     ]
    }
   ],
   "source": [
    "for token in vectorize_layer(sample_description).numpy()[:20]:\n",
    "    print(f\"{token} ---> \",vectorize_layer.get_vocabulary()[token])"
   ]
  },
  {
   "cell_type": "markdown",
   "metadata": {},
   "source": [
    "#### Modeling"
   ]
  },
  {
   "cell_type": "code",
   "execution_count": 102,
   "metadata": {},
   "outputs": [],
   "source": [
    "embedding_dim=16\n",
    "\n",
    "model = tf.keras.Sequential([\n",
    "    tf.keras.Input(shape=(1,), dtype=tf.string),\n",
    "    vectorize_layer,\n",
    "    Embedding(vocab_size, embedding_dim, name=\"embedding\"),\n",
    "    GlobalAveragePooling1D(),\n",
    "    Dense(164, activation='tanh', name='hidden_layer'),\n",
    "    Dropout(0.2),\n",
    "    Dense(1, name = 'output_layer')\n",
    "])"
   ]
  },
  {
   "cell_type": "code",
   "execution_count": 103,
   "metadata": {},
   "outputs": [
    {
     "name": "stdout",
     "output_type": "stream",
     "text": [
      "Model: \"sequential\"\n",
      "_________________________________________________________________\n",
      " Layer (type)                Output Shape              Param #   \n",
      "=================================================================\n",
      " Text_processing (TextVector  (None, 60)               0         \n",
      " ization)                                                        \n",
      "                                                                 \n",
      " embedding (Embedding)       (None, 60, 16)            512000    \n",
      "                                                                 \n",
      " global_average_pooling1d (G  (None, 16)               0         \n",
      " lobalAveragePooling1D)                                          \n",
      "                                                                 \n",
      " hidden_layer (Dense)        (None, 164)               2788      \n",
      "                                                                 \n",
      " dropout (Dropout)           (None, 164)               0         \n",
      "                                                                 \n",
      " output_layer (Dense)        (None, 1)                 165       \n",
      "                                                                 \n",
      "=================================================================\n",
      "Total params: 514,953\n",
      "Trainable params: 514,953\n",
      "Non-trainable params: 0\n",
      "_________________________________________________________________\n"
     ]
    }
   ],
   "source": [
    "model.summary()"
   ]
  },
  {
   "cell_type": "code",
   "execution_count": 104,
   "metadata": {},
   "outputs": [
    {
     "data": {
      "image/png": "[encoded data removed]",
      "text/plain": [
       "<IPython.core.display.Image object>"
      ]
     },
     "execution_count": 104,
     "metadata": {},
     "output_type": "execute_result"
    }
   ],
   "source": [
    "tf.keras.utils.plot_model(model, show_dtype=False, show_shapes=True, show_layer_names=True)"
   ]
  },
  {
   "cell_type": "code",
   "execution_count": 105,
   "metadata": {},
   "outputs": [],
   "source": [
    "model.compile(\n",
    "    optimizer=tf.optimizers.Adam(), loss='mean_absolute_error', metrics=['mean_squared_error','mean_absolute_error'])"
   ]
  },
  {
   "cell_type": "code",
   "execution_count": 106,
   "metadata": {},
   "outputs": [
    {
     "name": "stdout",
     "output_type": "stream",
     "text": [
      "Epoch 1/20\n",
      "750/750 [==============================] - 14s 17ms/step - loss: 22.1010 - mean_squared_error: 1366.4484 - mean_absolute_error: 22.1010 - val_loss: 2.4835 - val_mean_squared_error: 9.3548 - val_mean_absolute_error: 2.4835\n",
      "Epoch 2/20\n",
      "750/750 [==============================] - 11s 15ms/step - loss: 3.4734 - mean_squared_error: 18.8704 - mean_absolute_error: 3.4734 - val_loss: 1.7178 - val_mean_squared_error: 4.6626 - val_mean_absolute_error: 1.7178\n",
      "Epoch 3/20\n",
      "750/750 [==============================] - 11s 15ms/step - loss: 3.1739 - mean_squared_error: 15.9257 - mean_absolute_error: 3.1739 - val_loss: 1.5162 - val_mean_squared_error: 3.6698 - val_mean_absolute_error: 1.5162\n",
      "Epoch 4/20\n",
      "750/750 [==============================] - 12s 16ms/step - loss: 3.1225 - mean_squared_error: 15.3539 - mean_absolute_error: 3.1225 - val_loss: 1.4548 - val_mean_squared_error: 3.3813 - val_mean_absolute_error: 1.4548\n",
      "Epoch 5/20\n",
      "750/750 [==============================] - 11s 15ms/step - loss: 3.0762 - mean_squared_error: 14.8769 - mean_absolute_error: 3.0762 - val_loss: 1.4378 - val_mean_squared_error: 3.3227 - val_mean_absolute_error: 1.4378\n",
      "Epoch 6/20\n",
      "750/750 [==============================] - 10s 14ms/step - loss: 3.0497 - mean_squared_error: 14.6573 - mean_absolute_error: 3.0497 - val_loss: 1.4109 - val_mean_squared_error: 3.1984 - val_mean_absolute_error: 1.4109\n",
      "Epoch 7/20\n",
      "750/750 [==============================] - 11s 14ms/step - loss: 3.0431 - mean_squared_error: 14.5737 - mean_absolute_error: 3.0431 - val_loss: 1.4887 - val_mean_squared_error: 3.5448 - val_mean_absolute_error: 1.4887\n",
      "Epoch 8/20\n",
      "750/750 [==============================] - 11s 15ms/step - loss: 3.0332 - mean_squared_error: 14.4807 - mean_absolute_error: 3.0332 - val_loss: 1.3844 - val_mean_squared_error: 3.0809 - val_mean_absolute_error: 1.3844\n",
      "Epoch 9/20\n",
      "750/750 [==============================] - 11s 15ms/step - loss: 3.0159 - mean_squared_error: 14.3070 - mean_absolute_error: 3.0159 - val_loss: 1.3987 - val_mean_squared_error: 3.1478 - val_mean_absolute_error: 1.3987\n",
      "Epoch 10/20\n",
      "750/750 [==============================] - 11s 15ms/step - loss: 3.0060 - mean_squared_error: 14.2569 - mean_absolute_error: 3.0060 - val_loss: 1.3882 - val_mean_squared_error: 3.1069 - val_mean_absolute_error: 1.3882\n",
      "CPU times: user 2min 24s, sys: 14.5 s, total: 2min 39s\n",
      "Wall time: 1min 54s\n"
     ]
    }
   ],
   "source": [
    "%%time\n",
    "text_col, target_col = 'description', 'points'\n",
    "\n",
    "early_stopping_monitor = EarlyStopping(\n",
    "    monitor='val_mean_squared_error',\n",
    "    min_delta=0,\n",
    "    patience=2,\n",
    "    verbose=0,\n",
    "    restore_best_weights=True\n",
    ")\n",
    "\n",
    "history = model.fit(\n",
    "    train_data[text_col],\n",
    "    train_data[target_col],\n",
    "    epochs=20,\n",
    "    batch_size=128,\n",
    "    verbose=1,    \n",
    "    callbacks=[early_stopping_monitor],\n",
    "    validation_data = (test_data[text_col], test_data[target_col]))"
   ]
  },
  {
   "cell_type": "markdown",
   "metadata": {},
   "source": [
    "#### Simple NN Prediction & Evaluation"
   ]
  },
  {
   "cell_type": "code",
   "execution_count": 107,
   "metadata": {},
   "outputs": [],
   "source": [
    "test_data['dnn_prediction'] = model.predict(test_data[text_col])"
   ]
  },
  {
   "cell_type": "code",
   "execution_count": 108,
   "metadata": {},
   "outputs": [
    {
     "data": {
      "text/plain": [
       "MSE    3.080886\n",
       "MAE    1.384379\n",
       "R2     0.677605\n",
       "dtype: float64"
      ]
     },
     "execution_count": 108,
     "metadata": {},
     "output_type": "execute_result"
    }
   ],
   "source": [
    "dnn_stats = calc_prediction_quality(test_data, 'dnn_prediction', target_col)\n",
    "dnn_stats"
   ]
  },
  {
   "cell_type": "code",
   "execution_count": 109,
   "metadata": {},
   "outputs": [
    {
     "data": {
      "text/html": [
       "<div>\n",
       "<style scoped>\n",
       "    .dataframe tbody tr th:only-of-type {\n",
       "        vertical-align: middle;\n",
       "    }\n",
       "\n",
       "    .dataframe tbody tr th {\n",
       "        vertical-align: top;\n",
       "    }\n",
       "\n",
       "    .dataframe thead th {\n",
       "        text-align: right;\n",
       "    }\n",
       "</style>\n",
       "<table border=\"1\" class=\"dataframe\">\n",
       "  <thead>\n",
       "    <tr style=\"text-align: right;\">\n",
       "      <th></th>\n",
       "      <th>MSE</th>\n",
       "      <th>MAE</th>\n",
       "      <th>R2</th>\n",
       "    </tr>\n",
       "  </thead>\n",
       "  <tbody>\n",
       "    <tr>\n",
       "      <th>baseline_1</th>\n",
       "      <td>9.556321</td>\n",
       "      <td>2.529918</td>\n",
       "      <td>-0.000008</td>\n",
       "    </tr>\n",
       "    <tr>\n",
       "      <th>baseline_2</th>\n",
       "      <td>9.055044</td>\n",
       "      <td>2.457114</td>\n",
       "      <td>0.052447</td>\n",
       "    </tr>\n",
       "    <tr>\n",
       "      <th>baseline_3</th>\n",
       "      <td>8.507232</td>\n",
       "      <td>2.364351</td>\n",
       "      <td>0.109772</td>\n",
       "    </tr>\n",
       "    <tr>\n",
       "      <th>regression_by_xgb</th>\n",
       "      <td>6.358655</td>\n",
       "      <td>1.906784</td>\n",
       "      <td>0.334607</td>\n",
       "    </tr>\n",
       "    <tr>\n",
       "      <th>ridge_stats</th>\n",
       "      <td>2.880460</td>\n",
       "      <td>1.339085</td>\n",
       "      <td>0.698578</td>\n",
       "    </tr>\n",
       "    <tr>\n",
       "      <th>ridge2_stats</th>\n",
       "      <td>2.913012</td>\n",
       "      <td>1.346257</td>\n",
       "      <td>0.695172</td>\n",
       "    </tr>\n",
       "    <tr>\n",
       "      <th>ridge3_stats</th>\n",
       "      <td>2.915827</td>\n",
       "      <td>1.346869</td>\n",
       "      <td>0.694877</td>\n",
       "    </tr>\n",
       "    <tr>\n",
       "      <th>dnn_prediction</th>\n",
       "      <td>3.080886</td>\n",
       "      <td>1.384379</td>\n",
       "      <td>0.677605</td>\n",
       "    </tr>\n",
       "  </tbody>\n",
       "</table>\n",
       "</div>"
      ],
      "text/plain": [
       "                        MSE       MAE        R2\n",
       "baseline_1         9.556321  2.529918 -0.000008\n",
       "baseline_2         9.055044  2.457114  0.052447\n",
       "baseline_3         8.507232  2.364351  0.109772\n",
       "regression_by_xgb  6.358655  1.906784  0.334607\n",
       "ridge_stats        2.880460  1.339085  0.698578\n",
       "ridge2_stats       2.913012  1.346257  0.695172\n",
       "ridge3_stats       2.915827  1.346869  0.694877\n",
       "dnn_prediction     3.080886  1.384379  0.677605"
      ]
     },
     "execution_count": 109,
     "metadata": {},
     "output_type": "execute_result"
    }
   ],
   "source": [
    "all_compared = pd.DataFrame([b1_stats, b2_stats, b3_stats, xgb_stats, ridge_stats, ridge2_stats, ridge3_stats, dnn_stats], index=['baseline_1', 'baseline_2','baseline_3','regression_by_xgb', 'ridge_stats', 'ridge2_stats', 'ridge3_stats', 'dnn_prediction'])\n",
    "all_compared"
   ]
  },
  {
   "cell_type": "markdown",
   "metadata": {},
   "source": [
    "#### Descriptions words concatinated"
   ]
  },
  {
   "cell_type": "code",
   "execution_count": 110,
   "metadata": {},
   "outputs": [],
   "source": [
    "from tensorflow.keras.layers import Reshape, Dense, Dropout\n",
    "from tensorflow.keras import Sequential"
   ]
  },
  {
   "cell_type": "code",
   "execution_count": 215,
   "metadata": {},
   "outputs": [],
   "source": [
    "embedding_dim=16\n",
    "\n",
    "model = tf.keras.Sequential([\n",
    "    tf.keras.Input(shape=(1,), dtype=tf.string),\n",
    "    vectorize_layer,\n",
    "    Embedding(vocab_size, embedding_dim, name=\"embedding\"),\n",
    "    Reshape((embedding_dim * sequence_length, ), name='concat_words'),\n",
    "    Dense(800, activation='tanh', name='hidden_layer'),\n",
    "    Dropout(0.2),\n",
    "    Dense(1, name = 'output_layer')\n",
    "])"
   ]
  },
  {
   "cell_type": "code",
   "execution_count": 216,
   "metadata": {},
   "outputs": [],
   "source": [
    "model.compile(\n",
    "    optimizer=tf.optimizers.Adam(), loss='mean_absolute_error', metrics=['mean_squared_error','mean_absolute_error'])"
   ]
  },
  {
   "cell_type": "code",
   "execution_count": 217,
   "metadata": {},
   "outputs": [
    {
     "data": {
      "image/png": "[encoded data removed]",
      "text/plain": [
       "<IPython.core.display.Image object>"
      ]
     },
     "execution_count": 217,
     "metadata": {},
     "output_type": "execute_result"
    }
   ],
   "source": [
    "tf.keras.utils.plot_model(model, show_dtype=True, show_shapes=True, show_layer_names=True)"
   ]
  },
  {
   "cell_type": "code",
   "execution_count": 218,
   "metadata": {},
   "outputs": [
    {
     "name": "stdout",
     "output_type": "stream",
     "text": [
      "Epoch 1/20\n",
      "750/750 [==============================] - 65s 77ms/step - loss: 6.4023 - mean_squared_error: 266.4514 - mean_absolute_error: 6.4023 - val_loss: 1.7648 - val_mean_squared_error: 4.8925 - val_mean_absolute_error: 1.7648\n",
      "Epoch 2/20\n",
      "750/750 [==============================] - 50s 67ms/step - loss: 1.9462 - mean_squared_error: 6.0088 - mean_absolute_error: 1.9462 - val_loss: 1.4905 - val_mean_squared_error: 3.5685 - val_mean_absolute_error: 1.4905\n",
      "Epoch 3/20\n",
      "750/750 [==============================] - 53s 71ms/step - loss: 1.8329 - mean_squared_error: 5.3188 - mean_absolute_error: 1.8329 - val_loss: 1.4159 - val_mean_squared_error: 3.1884 - val_mean_absolute_error: 1.4159\n",
      "Epoch 4/20\n",
      "750/750 [==============================] - 50s 67ms/step - loss: 1.7811 - mean_squared_error: 5.0237 - mean_absolute_error: 1.7811 - val_loss: 1.3654 - val_mean_squared_error: 2.9901 - val_mean_absolute_error: 1.3654\n",
      "Epoch 5/20\n",
      "750/750 [==============================] - 53s 70ms/step - loss: 1.7486 - mean_squared_error: 4.8511 - mean_absolute_error: 1.7486 - val_loss: 1.4300 - val_mean_squared_error: 3.3009 - val_mean_absolute_error: 1.4300\n",
      "Epoch 6/20\n",
      "750/750 [==============================] - 57s 76ms/step - loss: 1.7149 - mean_squared_error: 4.6734 - mean_absolute_error: 1.7149 - val_loss: 1.4318 - val_mean_squared_error: 3.2501 - val_mean_absolute_error: 1.4318\n",
      "CPU times: user 3min 56s, sys: 32.4 s, total: 4min 28s\n",
      "Wall time: 5min 29s\n"
     ]
    }
   ],
   "source": [
    "%%time\n",
    "text_col, target_col = 'description', 'points'\n",
    "\n",
    "early_stopping_monitor = EarlyStopping(\n",
    "    monitor='val_mean_squared_error',\n",
    "    min_delta=0,\n",
    "    patience=2,\n",
    "    verbose=0,\n",
    "    restore_best_weights=True\n",
    ")\n",
    "\n",
    "history = model.fit(\n",
    "    train_data[text_col],\n",
    "    train_data[target_col],\n",
    "    epochs=20,\n",
    "    batch_size=128,\n",
    "    verbose=1,    \n",
    "    callbacks=[early_stopping_monitor],\n",
    "    validation_data = (test_data[text_col], test_data[target_col]))"
   ]
  },
  {
   "cell_type": "code",
   "execution_count": 219,
   "metadata": {},
   "outputs": [],
   "source": [
    "test_data['dnn2_prediction'] = model.predict(test_data[text_col])"
   ]
  },
  {
   "cell_type": "code",
   "execution_count": 220,
   "metadata": {},
   "outputs": [
    {
     "data": {
      "text/plain": [
       "MSE    2.990146\n",
       "MAE    1.365421\n",
       "R2     0.687100\n",
       "dtype: float64"
      ]
     },
     "execution_count": 220,
     "metadata": {},
     "output_type": "execute_result"
    }
   ],
   "source": [
    "dnn2_stats = calc_prediction_quality(test_data, 'dnn2_prediction', target_col)\n",
    "dnn2_stats"
   ]
  },
  {
   "cell_type": "code",
   "execution_count": 221,
   "metadata": {},
   "outputs": [
    {
     "data": {
      "text/html": [
       "<div>\n",
       "<style scoped>\n",
       "    .dataframe tbody tr th:only-of-type {\n",
       "        vertical-align: middle;\n",
       "    }\n",
       "\n",
       "    .dataframe tbody tr th {\n",
       "        vertical-align: top;\n",
       "    }\n",
       "\n",
       "    .dataframe thead th {\n",
       "        text-align: right;\n",
       "    }\n",
       "</style>\n",
       "<table border=\"1\" class=\"dataframe\">\n",
       "  <thead>\n",
       "    <tr style=\"text-align: right;\">\n",
       "      <th></th>\n",
       "      <th>MSE</th>\n",
       "      <th>MAE</th>\n",
       "      <th>R2</th>\n",
       "    </tr>\n",
       "  </thead>\n",
       "  <tbody>\n",
       "    <tr>\n",
       "      <th>baseline_1</th>\n",
       "      <td>9.556321</td>\n",
       "      <td>2.529918</td>\n",
       "      <td>-0.000008</td>\n",
       "    </tr>\n",
       "    <tr>\n",
       "      <th>baseline_2</th>\n",
       "      <td>9.055044</td>\n",
       "      <td>2.457114</td>\n",
       "      <td>0.052447</td>\n",
       "    </tr>\n",
       "    <tr>\n",
       "      <th>baseline_3</th>\n",
       "      <td>8.507232</td>\n",
       "      <td>2.364351</td>\n",
       "      <td>0.109772</td>\n",
       "    </tr>\n",
       "    <tr>\n",
       "      <th>regression_by_xgb</th>\n",
       "      <td>6.358655</td>\n",
       "      <td>1.906784</td>\n",
       "      <td>0.334607</td>\n",
       "    </tr>\n",
       "    <tr>\n",
       "      <th>ridge_stats</th>\n",
       "      <td>2.880460</td>\n",
       "      <td>1.339085</td>\n",
       "      <td>0.698578</td>\n",
       "    </tr>\n",
       "    <tr>\n",
       "      <th>ridge2_stats</th>\n",
       "      <td>2.913012</td>\n",
       "      <td>1.346257</td>\n",
       "      <td>0.695172</td>\n",
       "    </tr>\n",
       "    <tr>\n",
       "      <th>ridge3_stats</th>\n",
       "      <td>2.915827</td>\n",
       "      <td>1.346869</td>\n",
       "      <td>0.694877</td>\n",
       "    </tr>\n",
       "    <tr>\n",
       "      <th>dnn_prediction</th>\n",
       "      <td>3.080886</td>\n",
       "      <td>1.384379</td>\n",
       "      <td>0.677605</td>\n",
       "    </tr>\n",
       "    <tr>\n",
       "      <th>dnn2_prediction</th>\n",
       "      <td>2.990146</td>\n",
       "      <td>1.365421</td>\n",
       "      <td>0.687100</td>\n",
       "    </tr>\n",
       "  </tbody>\n",
       "</table>\n",
       "</div>"
      ],
      "text/plain": [
       "                        MSE       MAE        R2\n",
       "baseline_1         9.556321  2.529918 -0.000008\n",
       "baseline_2         9.055044  2.457114  0.052447\n",
       "baseline_3         8.507232  2.364351  0.109772\n",
       "regression_by_xgb  6.358655  1.906784  0.334607\n",
       "ridge_stats        2.880460  1.339085  0.698578\n",
       "ridge2_stats       2.913012  1.346257  0.695172\n",
       "ridge3_stats       2.915827  1.346869  0.694877\n",
       "dnn_prediction     3.080886  1.384379  0.677605\n",
       "dnn2_prediction    2.990146  1.365421  0.687100"
      ]
     },
     "execution_count": 221,
     "metadata": {},
     "output_type": "execute_result"
    }
   ],
   "source": [
    "all_compared = pd.DataFrame([b1_stats, b2_stats, b3_stats, xgb_stats, ridge_stats, ridge2_stats, ridge3_stats, dnn_stats, dnn2_stats], index=['baseline_1', 'baseline_2','baseline_3','regression_by_xgb', 'ridge_stats', 'ridge2_stats', 'ridge3_stats', 'dnn_prediction', 'dnn2_prediction'])\n",
    "all_compared"
   ]
  },
  {
   "cell_type": "markdown",
   "metadata": {},
   "source": [
    "When we use the Concatenation technique and increase the number of neurons, we improve the performance vs the averaged technique."
   ]
  },
  {
   "cell_type": "markdown",
   "metadata": {},
   "source": [
    "### Using external embedding (description feature only)"
   ]
  },
  {
   "cell_type": "markdown",
   "metadata": {},
   "source": [
    "#### First trial"
   ]
  },
  {
   "cell_type": "markdown",
   "metadata": {},
   "source": [
    "Follow https://keras.io/examples/nlp/pretrained_word_embeddings/\n",
    "\n",
    "You can either average the description words embeddings, concatinate them or do both and compare. "
   ]
  },
  {
   "cell_type": "markdown",
   "metadata": {},
   "source": [
    "<div class=\"alert alert-block alert-warning\">\n",
    "<b>TBD</b>\n",
    "</div>"
   ]
  },
  {
   "cell_type": "code",
   "execution_count": null,
   "metadata": {},
   "outputs": [],
   "source": []
  },
  {
   "cell_type": "code",
   "execution_count": 119,
   "metadata": {},
   "outputs": [],
   "source": [
    "import os\n",
    "import urllib.request\n",
    "import matplotlib.pyplot as plt\n",
    "from scipy import spatial\n",
    "from sklearn.manifold import TSNE\n",
    "import numpy as np"
   ]
  },
  {
   "cell_type": "code",
   "execution_count": 100,
   "metadata": {},
   "outputs": [
    {
     "data": {
      "text/plain": [
       "('glove.6B.zip', <http.client.HTTPMessage at 0x7f80329ad940>)"
      ]
     },
     "execution_count": 100,
     "metadata": {},
     "output_type": "execute_result"
    }
   ],
   "source": [
    "#urllib.request.urlretrieve('https://nlp.stanford.edu/data/glove.6B.zip','glove.6B.zip')"
   ]
  },
  {
   "cell_type": "code",
   "execution_count": 133,
   "metadata": {},
   "outputs": [],
   "source": [
    "emmbed_dict = {}\n",
    "with open('/Users/charrlel/machine_learning/Python_ML-2022/Final project/glove.6B/glove.6B.300d.txt','r') as f:\n",
    "  for line in f:\n",
    "    values = line.split()\n",
    "    word = values[0]\n",
    "    vector = np.asarray(values[1:],'float32')\n",
    "    emmbed_dict[word]=vector\n"
   ]
  },
  {
   "cell_type": "code",
   "execution_count": 134,
   "metadata": {},
   "outputs": [
    {
     "name": "stdout",
     "output_type": "stream",
     "text": [
      "Found 400000 word vectors.\n"
     ]
    }
   ],
   "source": [
    "print(\"Found %s word vectors.\" % len(emmbed_dict))"
   ]
  },
  {
   "cell_type": "code",
   "execution_count": 135,
   "metadata": {},
   "outputs": [
    {
     "data": {
      "text/plain": [
       "['river',\n",
       " 'rivers',\n",
       " 'tributary',\n",
       " 'confluence',\n",
       " 'valley',\n",
       " 'flows',\n",
       " 'along',\n",
       " 'creek',\n",
       " 'estuary',\n",
       " 'tributaries']"
      ]
     },
     "execution_count": 135,
     "metadata": {},
     "output_type": "execute_result"
    }
   ],
   "source": [
    "def find_similar_word(emmbedes):\n",
    "  nearest = sorted(emmbed_dict.keys(), key=lambda word: spatial.distance.euclidean(emmbed_dict[word], emmbedes))\n",
    "  return nearest\n",
    "\n",
    "find_similar_word(emmbed_dict['river'])[0:10]"
   ]
  },
  {
   "cell_type": "code",
   "execution_count": 136,
   "metadata": {},
   "outputs": [],
   "source": [
    "voc = vectorize_layer.get_vocabulary()\n",
    "word_index = dict(zip(voc, range(len(voc))))"
   ]
  },
  {
   "cell_type": "code",
   "execution_count": 137,
   "metadata": {},
   "outputs": [
    {
     "name": "stdout",
     "output_type": "stream",
     "text": [
      "Converted 19427 words (12573 misses)\n"
     ]
    }
   ],
   "source": [
    "num_tokens = len(voc) + 2\n",
    "embedding_dim = 300\n",
    "hits = 0\n",
    "misses = 0\n",
    "\n",
    "# Prepare embedding matrix\n",
    "embedding_matrix = np.zeros((num_tokens, embedding_dim))\n",
    "for word, i in word_index.items():\n",
    "    embedding_vector = emmbed_dict.get(word)\n",
    "    if embedding_vector is not None:\n",
    "        # Words not found in embedding index will be all-zeros.\n",
    "        # This includes the representation for \"padding\" and \"OOV\"\n",
    "        embedding_matrix[i] = embedding_vector\n",
    "        hits += 1\n",
    "    else:\n",
    "        misses += 1\n",
    "print(\"Converted %d words (%d misses)\" % (hits, misses))"
   ]
  },
  {
   "cell_type": "code",
   "execution_count": 138,
   "metadata": {},
   "outputs": [],
   "source": [
    "#from tensorflow.keras.layers import Embedding\n",
    "\n",
    "embedding_layer = Embedding(\n",
    "    num_tokens,\n",
    "    embedding_dim,\n",
    "    embeddings_initializer=tf.keras.initializers.Constant(embedding_matrix),\n",
    "    trainable=False,\n",
    ")"
   ]
  },
  {
   "cell_type": "code",
   "execution_count": 165,
   "metadata": {},
   "outputs": [],
   "source": [
    "model = tf.keras.Sequential([\n",
    "    tf.keras.Input(shape=(1,), dtype=tf.string),\n",
    "    vectorize_layer,\n",
    "    embedding_layer,\n",
    "    GlobalAveragePooling1D(),\n",
    "    Dense(164, activation='tanh', name='hidden_layer'),\n",
    "    Dropout(0.3),\n",
    "    Dense(1, name = 'output_layer')\n",
    "])"
   ]
  },
  {
   "cell_type": "code",
   "execution_count": 166,
   "metadata": {},
   "outputs": [
    {
     "name": "stdout",
     "output_type": "stream",
     "text": [
      "Model: \"sequential_5\"\n",
      "_________________________________________________________________\n",
      " Layer (type)                Output Shape              Param #   \n",
      "=================================================================\n",
      " Text_processing (TextVector  (None, 60)               0         \n",
      " ization)                                                        \n",
      "                                                                 \n",
      " embedding_1 (Embedding)     (None, 60, 300)           9600600   \n",
      "                                                                 \n",
      " global_average_pooling1d_4   (None, 300)              0         \n",
      " (GlobalAveragePooling1D)                                        \n",
      "                                                                 \n",
      " hidden_layer (Dense)        (None, 164)               49364     \n",
      "                                                                 \n",
      " dropout_5 (Dropout)         (None, 164)               0         \n",
      "                                                                 \n",
      " output_layer (Dense)        (None, 1)                 165       \n",
      "                                                                 \n",
      "=================================================================\n",
      "Total params: 9,650,129\n",
      "Trainable params: 49,529\n",
      "Non-trainable params: 9,600,600\n",
      "_________________________________________________________________\n"
     ]
    }
   ],
   "source": [
    "model.summary()"
   ]
  },
  {
   "cell_type": "code",
   "execution_count": 167,
   "metadata": {},
   "outputs": [
    {
     "data": {
      "image/png": "[encoded data removed]",
      "text/plain": [
       "<IPython.core.display.Image object>"
      ]
     },
     "execution_count": 167,
     "metadata": {},
     "output_type": "execute_result"
    }
   ],
   "source": [
    "tf.keras.utils.plot_model(model, show_dtype=False, show_shapes=True, show_layer_names=True)"
   ]
  },
  {
   "cell_type": "code",
   "execution_count": 168,
   "metadata": {},
   "outputs": [],
   "source": [
    "model.compile(\n",
    "    optimizer=tf.optimizers.Adam(), loss='mean_absolute_error', metrics=['mean_squared_error','mean_absolute_error'])"
   ]
  },
  {
   "cell_type": "code",
   "execution_count": 169,
   "metadata": {},
   "outputs": [
    {
     "name": "stdout",
     "output_type": "stream",
     "text": [
      "Epoch 1/20\n",
      "1500/1500 [==============================] - 14s 8ms/step - loss: 13.3693 - mean_squared_error: 579.6868 - mean_absolute_error: 13.3693 - val_loss: 2.3729 - val_mean_squared_error: 9.0231 - val_mean_absolute_error: 2.3729\n",
      "Epoch 2/20\n",
      "1500/1500 [==============================] - 11s 7ms/step - loss: 4.2397 - mean_squared_error: 28.3230 - mean_absolute_error: 4.2397 - val_loss: 1.9502 - val_mean_squared_error: 6.1664 - val_mean_absolute_error: 1.9502\n",
      "Epoch 3/20\n",
      "1500/1500 [==============================] - 12s 8ms/step - loss: 4.0237 - mean_squared_error: 25.5706 - mean_absolute_error: 4.0237 - val_loss: 1.8296 - val_mean_squared_error: 5.4078 - val_mean_absolute_error: 1.8296\n",
      "Epoch 4/20\n",
      "1500/1500 [==============================] - 12s 8ms/step - loss: 3.9778 - mean_squared_error: 24.9882 - mean_absolute_error: 3.9778 - val_loss: 1.7239 - val_mean_squared_error: 4.7656 - val_mean_absolute_error: 1.7239\n",
      "Epoch 5/20\n",
      "1500/1500 [==============================] - 12s 8ms/step - loss: 3.9517 - mean_squared_error: 24.5590 - mean_absolute_error: 3.9517 - val_loss: 1.6939 - val_mean_squared_error: 4.5635 - val_mean_absolute_error: 1.6939\n",
      "Epoch 6/20\n",
      "1500/1500 [==============================] - 12s 8ms/step - loss: 3.9139 - mean_squared_error: 24.1386 - mean_absolute_error: 3.9139 - val_loss: 1.7254 - val_mean_squared_error: 4.7524 - val_mean_absolute_error: 1.7254\n",
      "Epoch 7/20\n",
      "1500/1500 [==============================] - 12s 8ms/step - loss: 3.9013 - mean_squared_error: 23.8783 - mean_absolute_error: 3.9013 - val_loss: 1.6781 - val_mean_squared_error: 4.4486 - val_mean_absolute_error: 1.6781\n",
      "Epoch 8/20\n",
      "1500/1500 [==============================] - 13s 8ms/step - loss: 3.8794 - mean_squared_error: 23.7017 - mean_absolute_error: 3.8794 - val_loss: 1.6647 - val_mean_squared_error: 4.3796 - val_mean_absolute_error: 1.6647\n",
      "Epoch 9/20\n",
      "1500/1500 [==============================] - 12s 8ms/step - loss: 3.8691 - mean_squared_error: 23.6030 - mean_absolute_error: 3.8691 - val_loss: 1.7121 - val_mean_squared_error: 4.6668 - val_mean_absolute_error: 1.7121\n",
      "Epoch 10/20\n",
      "1500/1500 [==============================] - 13s 9ms/step - loss: 3.8609 - mean_squared_error: 23.4951 - mean_absolute_error: 3.8609 - val_loss: 1.7043 - val_mean_squared_error: 4.5717 - val_mean_absolute_error: 1.7043\n",
      "CPU times: user 2min 31s, sys: 11.5 s, total: 2min 43s\n",
      "Wall time: 2min 3s\n"
     ]
    }
   ],
   "source": [
    "%%time\n",
    "text_col, target_col = 'description', 'points'\n",
    "\n",
    "early_stopping_monitor = EarlyStopping(\n",
    "    monitor='val_mean_squared_error',\n",
    "    min_delta=0,\n",
    "    patience=2,\n",
    "    verbose=0,\n",
    "    restore_best_weights=True\n",
    ")\n",
    "\n",
    "history = model.fit(\n",
    "    train_data[text_col],\n",
    "    train_data[target_col],\n",
    "    epochs=20,\n",
    "    batch_size=64,\n",
    "    verbose=1,    \n",
    "    callbacks=[early_stopping_monitor],\n",
    "    validation_data = (test_data[text_col], test_data[target_col]))"
   ]
  },
  {
   "cell_type": "code",
   "execution_count": 170,
   "metadata": {},
   "outputs": [],
   "source": [
    "test_data['ext_emb_prediction'] = model.predict(test_data[text_col])"
   ]
  },
  {
   "cell_type": "code",
   "execution_count": 171,
   "metadata": {},
   "outputs": [
    {
     "data": {
      "text/plain": [
       "MSE    4.379642\n",
       "MAE    1.664745\n",
       "R2     0.541698\n",
       "dtype: float64"
      ]
     },
     "execution_count": 171,
     "metadata": {},
     "output_type": "execute_result"
    }
   ],
   "source": [
    "ext_emb_stats = calc_prediction_quality(test_data, 'ext_emb_prediction', target_col)\n",
    "ext_emb_stats"
   ]
  },
  {
   "cell_type": "code",
   "execution_count": 222,
   "metadata": {},
   "outputs": [
    {
     "data": {
      "text/html": [
       "<div>\n",
       "<style scoped>\n",
       "    .dataframe tbody tr th:only-of-type {\n",
       "        vertical-align: middle;\n",
       "    }\n",
       "\n",
       "    .dataframe tbody tr th {\n",
       "        vertical-align: top;\n",
       "    }\n",
       "\n",
       "    .dataframe thead th {\n",
       "        text-align: right;\n",
       "    }\n",
       "</style>\n",
       "<table border=\"1\" class=\"dataframe\">\n",
       "  <thead>\n",
       "    <tr style=\"text-align: right;\">\n",
       "      <th></th>\n",
       "      <th>MSE</th>\n",
       "      <th>MAE</th>\n",
       "      <th>R2</th>\n",
       "    </tr>\n",
       "  </thead>\n",
       "  <tbody>\n",
       "    <tr>\n",
       "      <th>baseline_1</th>\n",
       "      <td>9.556321</td>\n",
       "      <td>2.529918</td>\n",
       "      <td>-0.000008</td>\n",
       "    </tr>\n",
       "    <tr>\n",
       "      <th>baseline_2</th>\n",
       "      <td>9.055044</td>\n",
       "      <td>2.457114</td>\n",
       "      <td>0.052447</td>\n",
       "    </tr>\n",
       "    <tr>\n",
       "      <th>baseline_3</th>\n",
       "      <td>8.507232</td>\n",
       "      <td>2.364351</td>\n",
       "      <td>0.109772</td>\n",
       "    </tr>\n",
       "    <tr>\n",
       "      <th>regression_by_xgb</th>\n",
       "      <td>6.358655</td>\n",
       "      <td>1.906784</td>\n",
       "      <td>0.334607</td>\n",
       "    </tr>\n",
       "    <tr>\n",
       "      <th>ridge_stats</th>\n",
       "      <td>2.880460</td>\n",
       "      <td>1.339085</td>\n",
       "      <td>0.698578</td>\n",
       "    </tr>\n",
       "    <tr>\n",
       "      <th>ridge2_stats</th>\n",
       "      <td>2.913012</td>\n",
       "      <td>1.346257</td>\n",
       "      <td>0.695172</td>\n",
       "    </tr>\n",
       "    <tr>\n",
       "      <th>dnn_prediction</th>\n",
       "      <td>3.080886</td>\n",
       "      <td>1.384379</td>\n",
       "      <td>0.677605</td>\n",
       "    </tr>\n",
       "    <tr>\n",
       "      <th>dnn2_prediction</th>\n",
       "      <td>2.990146</td>\n",
       "      <td>1.365421</td>\n",
       "      <td>0.687100</td>\n",
       "    </tr>\n",
       "    <tr>\n",
       "      <th>ext_emb_prediction</th>\n",
       "      <td>4.379642</td>\n",
       "      <td>1.664745</td>\n",
       "      <td>0.541698</td>\n",
       "    </tr>\n",
       "  </tbody>\n",
       "</table>\n",
       "</div>"
      ],
      "text/plain": [
       "                         MSE       MAE        R2\n",
       "baseline_1          9.556321  2.529918 -0.000008\n",
       "baseline_2          9.055044  2.457114  0.052447\n",
       "baseline_3          8.507232  2.364351  0.109772\n",
       "regression_by_xgb   6.358655  1.906784  0.334607\n",
       "ridge_stats         2.880460  1.339085  0.698578\n",
       "ridge2_stats        2.913012  1.346257  0.695172\n",
       "dnn_prediction      3.080886  1.384379  0.677605\n",
       "dnn2_prediction     2.990146  1.365421  0.687100\n",
       "ext_emb_prediction  4.379642  1.664745  0.541698"
      ]
     },
     "execution_count": 222,
     "metadata": {},
     "output_type": "execute_result"
    }
   ],
   "source": [
    "all_compared = pd.DataFrame([b1_stats, b2_stats, b3_stats, xgb_stats, ridge_stats, ridge2_stats, dnn_stats, dnn2_stats, ext_emb_stats], index=['baseline_1', 'baseline_2','baseline_3','regression_by_xgb', 'ridge_stats', 'ridge2_stats', 'dnn_prediction', 'dnn2_prediction', 'ext_emb_prediction'])\n",
    "all_compared"
   ]
  },
  {
   "cell_type": "code",
   "execution_count": null,
   "metadata": {},
   "outputs": [],
   "source": []
  },
  {
   "cell_type": "markdown",
   "metadata": {},
   "source": [
    "### Using LSTM or RNN Layer, (description feature only)"
   ]
  },
  {
   "cell_type": "markdown",
   "metadata": {},
   "source": [
    "See example here: https://www.tensorflow.org/api_docs/python/tf/keras/layers/LSTM"
   ]
  },
  {
   "cell_type": "markdown",
   "metadata": {},
   "source": [
    "<div class=\"alert alert-block alert-warning\">\n",
    "<b>TBD</b>\n",
    "</div>"
   ]
  },
  {
   "cell_type": "code",
   "execution_count": 173,
   "metadata": {
    "tags": []
   },
   "outputs": [],
   "source": [
    "from keras.layers import LSTM"
   ]
  },
  {
   "cell_type": "code",
   "execution_count": 200,
   "metadata": {},
   "outputs": [],
   "source": [
    "embedding_dim=16\n",
    "\n",
    "model = tf.keras.Sequential([\n",
    "    tf.keras.Input(shape=(1,), dtype=tf.string),\n",
    "    vectorize_layer,\n",
    "    Embedding(vocab_size, embedding_dim, input_length = sequence_length, name=\"embedding\"),\n",
    "    #Reshape((embedding_dim * sequence_length, ), name='concat_words'),\n",
    "    LSTM(units=64,name='lstm_hidden_layer'),\n",
    "    #Dense(164, activation='tanh', name='hidden_layer'),\n",
    "    Dropout(0.2),\n",
    "    Dense(1, name = 'output_layer')\n",
    "])"
   ]
  },
  {
   "cell_type": "code",
   "execution_count": 201,
   "metadata": {},
   "outputs": [
    {
     "name": "stdout",
     "output_type": "stream",
     "text": [
      "Model: \"sequential_10\"\n",
      "_________________________________________________________________\n",
      " Layer (type)                Output Shape              Param #   \n",
      "=================================================================\n",
      " Text_processing (TextVector  (None, 60)               0         \n",
      " ization)                                                        \n",
      "                                                                 \n",
      " embedding (Embedding)       (None, 60, 16)            512000    \n",
      "                                                                 \n",
      " lstm_hidden_layer (LSTM)    (None, 64)                20736     \n",
      "                                                                 \n",
      " dropout_10 (Dropout)        (None, 64)                0         \n",
      "                                                                 \n",
      " output_layer (Dense)        (None, 1)                 65        \n",
      "                                                                 \n",
      "=================================================================\n",
      "Total params: 532,801\n",
      "Trainable params: 532,801\n",
      "Non-trainable params: 0\n",
      "_________________________________________________________________\n"
     ]
    }
   ],
   "source": [
    "model.summary()"
   ]
  },
  {
   "cell_type": "code",
   "execution_count": 202,
   "metadata": {},
   "outputs": [
    {
     "data": {
      "image/png": "[encoded data removed]",
      "text/plain": [
       "<IPython.core.display.Image object>"
      ]
     },
     "execution_count": 202,
     "metadata": {},
     "output_type": "execute_result"
    }
   ],
   "source": [
    "tf.keras.utils.plot_model(model, show_dtype=False, show_shapes=True, show_layer_names=True)"
   ]
  },
  {
   "cell_type": "code",
   "execution_count": 203,
   "metadata": {},
   "outputs": [],
   "source": [
    "model.compile(\n",
    "    optimizer=tf.optimizers.Adam(), loss='mean_absolute_error', metrics=['mean_squared_error','mean_absolute_error'])"
   ]
  },
  {
   "cell_type": "code",
   "execution_count": 204,
   "metadata": {},
   "outputs": [
    {
     "name": "stdout",
     "output_type": "stream",
     "text": [
      "Epoch 1/20\n",
      "3000/3000 [==============================] - 178s 58ms/step - loss: 19.0796 - mean_squared_error: 880.3806 - mean_absolute_error: 19.0796 - val_loss: 2.5102 - val_mean_squared_error: 9.7655 - val_mean_absolute_error: 2.5102\n",
      "Epoch 2/20\n",
      "3000/3000 [==============================] - 171s 57ms/step - loss: 5.0422 - mean_squared_error: 40.0174 - mean_absolute_error: 5.0422 - val_loss: 2.5284 - val_mean_squared_error: 9.8566 - val_mean_absolute_error: 2.5284\n",
      "Epoch 3/20\n",
      "3000/3000 [==============================] - 181s 60ms/step - loss: 5.0309 - mean_squared_error: 39.7842 - mean_absolute_error: 5.0309 - val_loss: 2.5069 - val_mean_squared_error: 9.7268 - val_mean_absolute_error: 2.5069\n",
      "Epoch 4/20\n",
      "3000/3000 [==============================] - 152s 51ms/step - loss: 4.9775 - mean_squared_error: 38.9291 - mean_absolute_error: 4.9775 - val_loss: 2.4930 - val_mean_squared_error: 9.2291 - val_mean_absolute_error: 2.4930\n",
      "Epoch 5/20\n",
      "3000/3000 [==============================] - 126s 42ms/step - loss: 4.9536 - mean_squared_error: 38.8195 - mean_absolute_error: 4.9536 - val_loss: 2.2398 - val_mean_squared_error: 7.6640 - val_mean_absolute_error: 2.2398\n",
      "Epoch 6/20\n",
      "3000/3000 [==============================] - 182s 61ms/step - loss: 4.7354 - mean_squared_error: 35.3583 - mean_absolute_error: 4.7354 - val_loss: 1.6553 - val_mean_squared_error: 4.3192 - val_mean_absolute_error: 1.6553\n",
      "Epoch 7/20\n",
      "3000/3000 [==============================] - 185s 62ms/step - loss: 4.5347 - mean_squared_error: 32.3928 - mean_absolute_error: 4.5347 - val_loss: 1.5566 - val_mean_squared_error: 3.8541 - val_mean_absolute_error: 1.5566\n",
      "Epoch 8/20\n",
      "3000/3000 [==============================] - 184s 61ms/step - loss: 4.4728 - mean_squared_error: 31.5832 - mean_absolute_error: 4.4728 - val_loss: 1.5049 - val_mean_squared_error: 3.6091 - val_mean_absolute_error: 1.5049\n",
      "Epoch 9/20\n",
      "3000/3000 [==============================] - 187s 62ms/step - loss: 4.4182 - mean_squared_error: 30.7851 - mean_absolute_error: 4.4182 - val_loss: 1.4796 - val_mean_squared_error: 3.4736 - val_mean_absolute_error: 1.4796\n",
      "Epoch 10/20\n",
      "3000/3000 [==============================] - 181s 60ms/step - loss: 4.3917 - mean_squared_error: 30.5412 - mean_absolute_error: 4.3917 - val_loss: 1.8709 - val_mean_squared_error: 5.3639 - val_mean_absolute_error: 1.8709\n",
      "Epoch 11/20\n",
      "3000/3000 [==============================] - 187s 62ms/step - loss: 4.3450 - mean_squared_error: 29.8183 - mean_absolute_error: 4.3450 - val_loss: 1.6448 - val_mean_squared_error: 4.2447 - val_mean_absolute_error: 1.6448\n",
      "CPU times: user 38min 11s, sys: 5min 31s, total: 43min 43s\n",
      "Wall time: 31min 55s\n"
     ]
    }
   ],
   "source": [
    "%%time\n",
    "text_col, target_col = 'description', 'points'\n",
    "\n",
    "early_stopping_monitor = EarlyStopping(\n",
    "    monitor='val_mean_squared_error',\n",
    "    min_delta=0,\n",
    "    patience=2,\n",
    "    verbose=0,\n",
    "    restore_best_weights=True\n",
    ")\n",
    "\n",
    "history = model.fit(\n",
    "    train_data[text_col],\n",
    "    train_data[target_col],\n",
    "    epochs=20,\n",
    "    batch_size=32,\n",
    "    verbose=1,    \n",
    "    callbacks=[early_stopping_monitor],\n",
    "    validation_data = (test_data[text_col], test_data[target_col]))"
   ]
  },
  {
   "cell_type": "code",
   "execution_count": 205,
   "metadata": {},
   "outputs": [],
   "source": [
    "test_data['lstm_prediction'] = model.predict(test_data[text_col])"
   ]
  },
  {
   "cell_type": "code",
   "execution_count": 206,
   "metadata": {},
   "outputs": [
    {
     "data": {
      "text/plain": [
       "MSE    3.473574\n",
       "MAE    1.479632\n",
       "R2     0.636513\n",
       "dtype: float64"
      ]
     },
     "execution_count": 206,
     "metadata": {},
     "output_type": "execute_result"
    }
   ],
   "source": [
    "lstm_stats = calc_prediction_quality(test_data, 'lstm_prediction', target_col)\n",
    "lstm_stats"
   ]
  },
  {
   "cell_type": "markdown",
   "metadata": {},
   "source": [
    "The best result I had obtained so far with : lstm layer 64 neurons: fit: 20 epochs, batch size 32 :\n",
    "\n",
    "MSE    3.200008\n",
    "\n",
    "MAE    1.413811\n",
    "\n",
    "R2     0.664620\n",
    "\n",
    "dtype: float64\n",
    "\n",
    "But after running again, I have different results and I can't figure out why."
   ]
  },
  {
   "cell_type": "code",
   "execution_count": 223,
   "metadata": {},
   "outputs": [
    {
     "data": {
      "text/html": [
       "<div>\n",
       "<style scoped>\n",
       "    .dataframe tbody tr th:only-of-type {\n",
       "        vertical-align: middle;\n",
       "    }\n",
       "\n",
       "    .dataframe tbody tr th {\n",
       "        vertical-align: top;\n",
       "    }\n",
       "\n",
       "    .dataframe thead th {\n",
       "        text-align: right;\n",
       "    }\n",
       "</style>\n",
       "<table border=\"1\" class=\"dataframe\">\n",
       "  <thead>\n",
       "    <tr style=\"text-align: right;\">\n",
       "      <th></th>\n",
       "      <th>MSE</th>\n",
       "      <th>MAE</th>\n",
       "      <th>R2</th>\n",
       "    </tr>\n",
       "  </thead>\n",
       "  <tbody>\n",
       "    <tr>\n",
       "      <th>baseline_1</th>\n",
       "      <td>9.556321</td>\n",
       "      <td>2.529918</td>\n",
       "      <td>-0.000008</td>\n",
       "    </tr>\n",
       "    <tr>\n",
       "      <th>baseline_2</th>\n",
       "      <td>9.055044</td>\n",
       "      <td>2.457114</td>\n",
       "      <td>0.052447</td>\n",
       "    </tr>\n",
       "    <tr>\n",
       "      <th>baseline_3</th>\n",
       "      <td>8.507232</td>\n",
       "      <td>2.364351</td>\n",
       "      <td>0.109772</td>\n",
       "    </tr>\n",
       "    <tr>\n",
       "      <th>regression_by_xgb</th>\n",
       "      <td>6.358655</td>\n",
       "      <td>1.906784</td>\n",
       "      <td>0.334607</td>\n",
       "    </tr>\n",
       "    <tr>\n",
       "      <th>ridge_stats</th>\n",
       "      <td>2.880460</td>\n",
       "      <td>1.339085</td>\n",
       "      <td>0.698578</td>\n",
       "    </tr>\n",
       "    <tr>\n",
       "      <th>ridge2_stats</th>\n",
       "      <td>2.913012</td>\n",
       "      <td>1.346257</td>\n",
       "      <td>0.695172</td>\n",
       "    </tr>\n",
       "    <tr>\n",
       "      <th>ridge3_stats</th>\n",
       "      <td>2.915827</td>\n",
       "      <td>1.346869</td>\n",
       "      <td>0.694877</td>\n",
       "    </tr>\n",
       "    <tr>\n",
       "      <th>dnn_stats</th>\n",
       "      <td>3.080886</td>\n",
       "      <td>1.384379</td>\n",
       "      <td>0.677605</td>\n",
       "    </tr>\n",
       "    <tr>\n",
       "      <th>dnn2_stats</th>\n",
       "      <td>2.990146</td>\n",
       "      <td>1.365421</td>\n",
       "      <td>0.687100</td>\n",
       "    </tr>\n",
       "    <tr>\n",
       "      <th>ext_emb_stats</th>\n",
       "      <td>4.379642</td>\n",
       "      <td>1.664745</td>\n",
       "      <td>0.541698</td>\n",
       "    </tr>\n",
       "    <tr>\n",
       "      <th>lstm_stats</th>\n",
       "      <td>3.473574</td>\n",
       "      <td>1.479632</td>\n",
       "      <td>0.636513</td>\n",
       "    </tr>\n",
       "  </tbody>\n",
       "</table>\n",
       "</div>"
      ],
      "text/plain": [
       "                        MSE       MAE        R2\n",
       "baseline_1         9.556321  2.529918 -0.000008\n",
       "baseline_2         9.055044  2.457114  0.052447\n",
       "baseline_3         8.507232  2.364351  0.109772\n",
       "regression_by_xgb  6.358655  1.906784  0.334607\n",
       "ridge_stats        2.880460  1.339085  0.698578\n",
       "ridge2_stats       2.913012  1.346257  0.695172\n",
       "ridge3_stats       2.915827  1.346869  0.694877\n",
       "dnn_stats          3.080886  1.384379  0.677605\n",
       "dnn2_stats         2.990146  1.365421  0.687100\n",
       "ext_emb_stats      4.379642  1.664745  0.541698\n",
       "lstm_stats         3.473574  1.479632  0.636513"
      ]
     },
     "execution_count": 223,
     "metadata": {},
     "output_type": "execute_result"
    }
   ],
   "source": [
    "all_compared = pd.DataFrame([b1_stats, b2_stats, b3_stats, xgb_stats, ridge_stats, ridge2_stats,ridge3_stats, dnn_stats, dnn2_stats, ext_emb_stats, lstm_stats], index=['baseline_1', 'baseline_2','baseline_3','regression_by_xgb', 'ridge_stats', 'ridge2_stats', 'ridge3_stats', 'dnn_stats', 'dnn2_stats', 'ext_emb_stats', 'lstm_stats'])\n",
    "all_compared"
   ]
  },
  {
   "cell_type": "code",
   "execution_count": null,
   "metadata": {},
   "outputs": [],
   "source": []
  },
  {
   "cell_type": "code",
   "execution_count": null,
   "metadata": {},
   "outputs": [],
   "source": []
  },
  {
   "cell_type": "markdown",
   "metadata": {},
   "source": [
    "### Bonus (Not mandatory) Use all features using Keras functional API"
   ]
  },
  {
   "cell_type": "markdown",
   "metadata": {},
   "source": [
    "See here: https://keras.io/guides/functional_api/"
   ]
  },
  {
   "cell_type": "markdown",
   "metadata": {},
   "source": [
    "<div class=\"alert alert-block alert-warning\">\n",
    "<b>TBD</b>\n",
    "</div>"
   ]
  }
 ],
 "metadata": {
  "kernelspec": {
   "display_name": "Python 3 (ipykernel)",
   "language": "python",
   "name": "python3"
  },
  "language_info": {
   "codemirror_mode": {
    "name": "ipython",
    "version": 3
   },
   "file_extension": ".py",
   "mimetype": "text/x-python",
   "name": "python",
   "nbconvert_exporter": "python",
   "pygments_lexer": "ipython3",
   "version": "3.8.2"
  }
 },
 "nbformat": 4,
 "nbformat_minor": 4
}
