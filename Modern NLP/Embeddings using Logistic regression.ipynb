{
 "cells": [
  {
   "cell_type": "markdown",
   "id": "a65e6b36-8901-4952-b7e5-69c916191915",
   "metadata": {},
   "source": [
    "# More on Embeddings "
   ]
  },
  {
   "cell_type": "code",
   "execution_count": 1,
   "id": "6a5944bb-921f-4518-aa41-69f45e957aea",
   "metadata": {},
   "outputs": [],
   "source": [
    "%load_ext autoreload\n",
    "%autoreload 2\n",
    "import sys; sys.path.append('../')"
   ]
  },
  {
   "cell_type": "markdown",
   "id": "3123bd0b-a9f0-4b3c-b389-bbf1a8bc3775",
   "metadata": {},
   "source": [
    "Here we will try to predict the points a wine will get based on known characteristics (i.e. features, in the ML terminology). The mine point in this stage is to establish a simple, ideally super cost effective, basline.\n",
    "In the real world there is a tradeoff between complexity and perforamnce, and the DS job, among others, is to present a tradeoff tables of what performance is achivalbel at what complexity level. \n",
    "\n",
    "to which models with increased complexity and resource demands will be compared. Complexity should then be translated into cost. For example:\n",
    " * Compute cost \n",
    " * Maintenance cost\n",
    " * Serving costs (i.e. is new platform needed?) \n",
    " "
   ]
  },
  {
   "cell_type": "markdown",
   "id": "b8920a55-7323-432a-80a1-2dfdb80b62d0",
   "metadata": {},
   "source": [
    "## Loading the data"
   ]
  },
  {
   "cell_type": "code",
   "execution_count": 2,
   "id": "23e02e24-a639-48f0-bbc5-d44e942f8d3b",
   "metadata": {},
   "outputs": [
    {
     "data": {
      "text/html": [
       "        <script type=\"text/javascript\">\n",
       "        window.PlotlyConfig = {MathJaxConfig: 'local'};\n",
       "        if (window.MathJax && window.MathJax.Hub && window.MathJax.Hub.Config) {window.MathJax.Hub.Config({SVG: {font: \"STIX-Web\"}});}\n",
       "        if (typeof require !== 'undefined') {\n",
       "        require.undef(\"plotly\");\n",
       "        requirejs.config({\n",
       "            paths: {\n",
       "                'plotly': ['https://cdn.plot.ly/plotly-2.12.1.min']\n",
       "            }\n",
       "        });\n",
       "        require(['plotly'], function(Plotly) {\n",
       "            window._Plotly = Plotly;\n",
       "        });\n",
       "        }\n",
       "        </script>\n",
       "        "
      ]
     },
     "metadata": {},
     "output_type": "display_data"
    }
   ],
   "source": [
    "import pandas as pd\n",
    "import numpy as np\n",
    "import cufflinks as cf; cf.go_offline()"
   ]
  },
  {
   "cell_type": "code",
   "execution_count": 3,
   "id": "d3156150-8ed8-4805-bcc8-238c0b9e0853",
   "metadata": {},
   "outputs": [
    {
     "data": {
      "text/plain": [
       "(129971, 14)"
      ]
     },
     "execution_count": 3,
     "metadata": {},
     "output_type": "execute_result"
    }
   ],
   "source": [
    "wine_reviews = pd.read_csv(\"../Final project/data/winemag-data-130k-v2.csv\")\n",
    "wine_reviews.shape"
   ]
  },
  {
   "cell_type": "code",
   "execution_count": 4,
   "id": "0550f16c-ec19-4212-a9bb-6203493e688b",
   "metadata": {},
   "outputs": [
    {
     "data": {
      "text/html": [
       "<div>\n",
       "<style scoped>\n",
       "    .dataframe tbody tr th:only-of-type {\n",
       "        vertical-align: middle;\n",
       "    }\n",
       "\n",
       "    .dataframe tbody tr th {\n",
       "        vertical-align: top;\n",
       "    }\n",
       "\n",
       "    .dataframe thead th {\n",
       "        text-align: right;\n",
       "    }\n",
       "</style>\n",
       "<table border=\"1\" class=\"dataframe\">\n",
       "  <thead>\n",
       "    <tr style=\"text-align: right;\">\n",
       "      <th></th>\n",
       "      <th>Unnamed: 0</th>\n",
       "      <th>country</th>\n",
       "      <th>description</th>\n",
       "      <th>designation</th>\n",
       "      <th>points</th>\n",
       "      <th>price</th>\n",
       "      <th>province</th>\n",
       "      <th>region_1</th>\n",
       "      <th>region_2</th>\n",
       "      <th>taster_name</th>\n",
       "      <th>taster_twitter_handle</th>\n",
       "      <th>title</th>\n",
       "      <th>variety</th>\n",
       "      <th>winery</th>\n",
       "    </tr>\n",
       "  </thead>\n",
       "  <tbody>\n",
       "    <tr>\n",
       "      <th>84205</th>\n",
       "      <td>84205</td>\n",
       "      <td>Italy</td>\n",
       "      <td>Made entirely with native Gaglioppo grapes, th...</td>\n",
       "      <td>NaN</td>\n",
       "      <td>89</td>\n",
       "      <td>12.0</td>\n",
       "      <td>Southern Italy</td>\n",
       "      <td>Cirò</td>\n",
       "      <td>NaN</td>\n",
       "      <td>Kerin O’Keefe</td>\n",
       "      <td>@kerinokeefe</td>\n",
       "      <td>Librandi 2014 Rosato (Cirò)</td>\n",
       "      <td>Rosato</td>\n",
       "      <td>Librandi</td>\n",
       "    </tr>\n",
       "    <tr>\n",
       "      <th>106634</th>\n",
       "      <td>106634</td>\n",
       "      <td>US</td>\n",
       "      <td>This runs to the tart, lemony style of Pinot G...</td>\n",
       "      <td>NaN</td>\n",
       "      <td>87</td>\n",
       "      <td>12.0</td>\n",
       "      <td>Oregon</td>\n",
       "      <td>Oregon</td>\n",
       "      <td>Oregon Other</td>\n",
       "      <td>Paul Gregutt</td>\n",
       "      <td>@paulgwine</td>\n",
       "      <td>Acrobat 2011 Pinot Gris (Oregon)</td>\n",
       "      <td>Pinot Gris</td>\n",
       "      <td>Acrobat</td>\n",
       "    </tr>\n",
       "    <tr>\n",
       "      <th>5803</th>\n",
       "      <td>5803</td>\n",
       "      <td>US</td>\n",
       "      <td>This is an oddly perfumed and puckering wine, ...</td>\n",
       "      <td>NaN</td>\n",
       "      <td>83</td>\n",
       "      <td>50.0</td>\n",
       "      <td>California</td>\n",
       "      <td>Napa Valley</td>\n",
       "      <td>Napa</td>\n",
       "      <td>Virginie Boone</td>\n",
       "      <td>@vboone</td>\n",
       "      <td>Housley's Century Oak 2013 Cabernet Sauvignon ...</td>\n",
       "      <td>Cabernet Sauvignon</td>\n",
       "      <td>Housley's Century Oak</td>\n",
       "    </tr>\n",
       "    <tr>\n",
       "      <th>11459</th>\n",
       "      <td>11459</td>\n",
       "      <td>US</td>\n",
       "      <td>A full-bodied Pinot Noir, this bears ripe cher...</td>\n",
       "      <td>NaN</td>\n",
       "      <td>87</td>\n",
       "      <td>12.0</td>\n",
       "      <td>California</td>\n",
       "      <td>Central Coast</td>\n",
       "      <td>Central Coast</td>\n",
       "      <td>NaN</td>\n",
       "      <td>NaN</td>\n",
       "      <td>Ballard Lane 2010 Pinot Noir (Central Coast)</td>\n",
       "      <td>Pinot Noir</td>\n",
       "      <td>Ballard Lane</td>\n",
       "    </tr>\n",
       "    <tr>\n",
       "      <th>123362</th>\n",
       "      <td>123362</td>\n",
       "      <td>Austria</td>\n",
       "      <td>Fragrant, fresh, young and zippy, this is a si...</td>\n",
       "      <td>Zweigelt</td>\n",
       "      <td>89</td>\n",
       "      <td>12.0</td>\n",
       "      <td>Niederösterreich</td>\n",
       "      <td>NaN</td>\n",
       "      <td>NaN</td>\n",
       "      <td>Anne Krebiehl MW</td>\n",
       "      <td>@AnneInVino</td>\n",
       "      <td>Winzer Krems 2014 Zweigelt Rosé (Niederösterre...</td>\n",
       "      <td>Rosé</td>\n",
       "      <td>Winzer Krems</td>\n",
       "    </tr>\n",
       "  </tbody>\n",
       "</table>\n",
       "</div>"
      ],
      "text/plain": [
       "        Unnamed: 0  country  \\\n",
       "84205        84205    Italy   \n",
       "106634      106634       US   \n",
       "5803          5803       US   \n",
       "11459        11459       US   \n",
       "123362      123362  Austria   \n",
       "\n",
       "                                              description designation  points  \\\n",
       "84205   Made entirely with native Gaglioppo grapes, th...         NaN      89   \n",
       "106634  This runs to the tart, lemony style of Pinot G...         NaN      87   \n",
       "5803    This is an oddly perfumed and puckering wine, ...         NaN      83   \n",
       "11459   A full-bodied Pinot Noir, this bears ripe cher...         NaN      87   \n",
       "123362  Fragrant, fresh, young and zippy, this is a si...    Zweigelt      89   \n",
       "\n",
       "        price          province       region_1       region_2  \\\n",
       "84205    12.0    Southern Italy           Cirò            NaN   \n",
       "106634   12.0            Oregon         Oregon   Oregon Other   \n",
       "5803     50.0        California    Napa Valley           Napa   \n",
       "11459    12.0        California  Central Coast  Central Coast   \n",
       "123362   12.0  Niederösterreich            NaN            NaN   \n",
       "\n",
       "             taster_name taster_twitter_handle  \\\n",
       "84205      Kerin O’Keefe          @kerinokeefe   \n",
       "106634      Paul Gregutt           @paulgwine    \n",
       "5803      Virginie Boone               @vboone   \n",
       "11459                NaN                   NaN   \n",
       "123362  Anne Krebiehl MW           @AnneInVino   \n",
       "\n",
       "                                                    title             variety  \\\n",
       "84205                         Librandi 2014 Rosato (Cirò)              Rosato   \n",
       "106634                   Acrobat 2011 Pinot Gris (Oregon)          Pinot Gris   \n",
       "5803    Housley's Century Oak 2013 Cabernet Sauvignon ...  Cabernet Sauvignon   \n",
       "11459        Ballard Lane 2010 Pinot Noir (Central Coast)          Pinot Noir   \n",
       "123362  Winzer Krems 2014 Zweigelt Rosé (Niederösterre...                Rosé   \n",
       "\n",
       "                       winery  \n",
       "84205                Librandi  \n",
       "106634                Acrobat  \n",
       "5803    Housley's Century Oak  \n",
       "11459            Ballard Lane  \n",
       "123362           Winzer Krems  "
      ]
     },
     "execution_count": 4,
     "metadata": {},
     "output_type": "execute_result"
    }
   ],
   "source": [
    "wine_reviews.sample(5)"
   ]
  },
  {
   "cell_type": "code",
   "execution_count": 5,
   "id": "57a0b107-09e5-4a56-9d2f-eb4bffbf9a8b",
   "metadata": {},
   "outputs": [
    {
     "data": {
      "text/plain": [
       "[\"There's\", 'no', 'shortage', 'of', 'spice', 'in', 'this', 'value']"
      ]
     },
     "execution_count": 5,
     "metadata": {},
     "output_type": "execute_result"
    }
   ],
   "source": [
    "text = \"There's no shortage of spice in this value\"\n",
    "words = text.split(' ')\n",
    "words"
   ]
  },
  {
   "cell_type": "code",
   "execution_count": 26,
   "id": "971e7daa-227c-43ab-b2c6-77b8ba14f5d8",
   "metadata": {},
   "outputs": [],
   "source": [
    "def create_x_hot_encoding(vocab_len, dim, emb_size):\n",
    "    t = np.zeros(vocab_len * emb_size)\n",
    "    t[emb_size * dim: emb_size*dim + emb_size] = 1\n",
    "    return t\n"
   ]
  },
  {
   "cell_type": "code",
   "execution_count": 31,
   "id": "2e25d6e4-2a2d-471f-856a-3f87b778f9c0",
   "metadata": {},
   "outputs": [
    {
     "data": {
      "text/plain": [
       "array([0., 0., 0., 1., 1., 1., 0., 0., 0., 0., 0., 0., 0., 0., 0., 0., 0.,\n",
       "       0., 0., 0., 0., 0., 0., 0., 0., 0., 0., 0., 0., 0.])"
      ]
     },
     "execution_count": 31,
     "metadata": {},
     "output_type": "execute_result"
    }
   ],
   "source": [
    "create_x_hot_encoding(10, 1, 3)"
   ]
  },
  {
   "cell_type": "markdown",
   "id": "401ba0e2-40e0-4040-a4c6-c29e4849782f",
   "metadata": {},
   "source": [
    "### Preparing the data"
   ]
  },
  {
   "cell_type": "code",
   "execution_count": 14,
   "id": "6505d92f-61a5-4890-8390-d1606b363809",
   "metadata": {},
   "outputs": [],
   "source": [
    "train_data = wine_reviews.sample(frac = 0.8)\n",
    "test_data = wine_reviews[~wine_reviews.index.isin(train_data.index)]\n",
    "assert(len(train_data) + len(test_data) == len(wine_reviews))"
   ]
  },
  {
   "cell_type": "code",
   "execution_count": 15,
   "id": "124f3aed-929e-49c6-990f-09d147ed68ca",
   "metadata": {},
   "outputs": [
    {
     "data": {
      "text/plain": [
       "(25994, 103977)"
      ]
     },
     "execution_count": 15,
     "metadata": {},
     "output_type": "execute_result"
    }
   ],
   "source": [
    "len(test_data), len(train_data)"
   ]
  },
  {
   "cell_type": "markdown",
   "id": "9d89f412-67b3-494e-8cc5-a8ec8eb1b658",
   "metadata": {},
   "source": [
    "#### Tokenization"
   ]
  },
  {
   "cell_type": "code",
   "execution_count": 21,
   "id": "3158a8f0-a5b0-4b32-a8de-8c241513876d",
   "metadata": {},
   "outputs": [],
   "source": [
    "from sklearn.feature_extraction.text import CountVectorizer\n",
    "from sklearn.feature_extraction.text import TfidfVectorizer"
   ]
  }
 ],
 "metadata": {
  "kernelspec": {
   "display_name": "Python 3.9 (tensorflow)",
   "language": "python",
   "name": "tensorflow"
  },
  "language_info": {
   "codemirror_mode": {
    "name": "ipython",
    "version": 3
   },
   "file_extension": ".py",
   "mimetype": "text/x-python",
   "name": "python",
   "nbconvert_exporter": "python",
   "pygments_lexer": "ipython3",
   "version": "3.9.12"
  }
 },
 "nbformat": 4,
 "nbformat_minor": 5
}
